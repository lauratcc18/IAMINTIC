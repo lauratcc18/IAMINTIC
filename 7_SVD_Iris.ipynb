{
  "nbformat": 4,
  "nbformat_minor": 0,
  "metadata": {
    "colab": {
      "provenance": [],
      "include_colab_link": true
    },
    "kernelspec": {
      "name": "python3",
      "display_name": "Python 3"
    },
    "language_info": {
      "name": "python"
    }
  },
  "cells": [
    {
      "cell_type": "markdown",
      "metadata": {
        "id": "view-in-github",
        "colab_type": "text"
      },
      "source": [
        "<a href=\"https://colab.research.google.com/github/lauratcc18/IAMINTIC/blob/main/7_SVD_Iris.ipynb\" target=\"_parent\"><img src=\"https://colab.research.google.com/assets/colab-badge.svg\" alt=\"Open In Colab\"/></a>"
      ]
    },
    {
      "cell_type": "markdown",
      "source": [
        "#Singular Value Descomposition (SVD)\n",
        "Extrae características importantes de los datos originales y permite reconstruir el dataset original en una más pequeño.\n",
        "\n",
        "Para este ejercicio vamos a usar el dataset de iris flower que se puede descargar de https://www.kaggle.com/datasets/arshid/iris-flower-dataset\n",
        "\n",
        "##1. Cargar los datos"
      ],
      "metadata": {
        "id": "mm15kUaIv0zz"
      }
    },
    {
      "cell_type": "code",
      "execution_count": null,
      "metadata": {
        "id": "2mmN6ZODsyL_"
      },
      "outputs": [],
      "source": [
        "# También se puede encontrar el dataset en el sitio de UCI y cargarlo en un dataframe\n",
        "from pandas import read_csv\n",
        "\n",
        "url = 'https://archive.ics.uci.edu/ml/machine-learning-databases/iris/iris.data'\n",
        "titulos = ['largo sepalo','ancho sepalo','largo petalo','ancho petalo','especie']\n",
        "df = read_csv(url, names=titulos)\n",
        "df.head()"
      ]
    },
    {
      "cell_type": "markdown",
      "source": [
        "El dataset incluye la variable objetivo, pero dado que SVD es no supervisado, solo se requieren las entradas (4 primeras variables)."
      ],
      "metadata": {
        "id": "rPx7ENp1FJvO"
      }
    },
    {
      "cell_type": "code",
      "source": [
        "# Cargar solo las entradas\n",
        "data = df[['largo sepalo','ancho sepalo','largo petalo','ancho petalo']]"
      ],
      "metadata": {
        "id": "ZpAuDv3kuzC3"
      },
      "execution_count": null,
      "outputs": []
    },
    {
      "cell_type": "markdown",
      "source": [
        "##2. Calcular SVD"
      ],
      "metadata": {
        "id": "HJ3f9pI1IYN7"
      }
    },
    {
      "cell_type": "code",
      "source": [
        "from numpy import *\n",
        "from numpy.linalg import *\n",
        "import pandas as pd\n",
        "\n",
        "# Calcularemos solo 2 valores singulares (eigenvalues)\n",
        "n = 2\n",
        "\n",
        "# Se calculan las matrices U, sigma y V con algebra lineal\n",
        "U, s, V = linalg.svd(data)\n",
        "\n",
        "# Se crea una matriz diagonal de unos con la función eye()\n",
        "Sig = mat(eye(n)*s[:n])\n",
        "newdata = U[:, :n]\n",
        "newdata = pd.DataFrame(newdata)\n",
        "newdata.columns = ['SVD1', 'SVD2']\n",
        "newdata.head()"
      ],
      "metadata": {
        "id": "VLAtf-mpIXoH"
      },
      "execution_count": null,
      "outputs": []
    },
    {
      "cell_type": "markdown",
      "source": [
        "##3. Revisar gráficamente los resultados respecto al objetivo\n",
        "Agregamos a los datos la columna objetivo para facilitar su visualización"
      ],
      "metadata": {
        "id": "G4oPen_rJa_C"
      }
    },
    {
      "cell_type": "code",
      "source": [
        "import matplotlib.pyplot as plt\n",
        "\n",
        "# Agregar la columna objetivo\n",
        "newdata['especie'] = df['especie']\n",
        "\n",
        "# Graficar resultados\n",
        "fig = plt.figure()\n",
        "ax = fig.add_subplot(1,1,1)\n",
        "ax.set_xlabel ('SVD 1')\n",
        "ax.set_ylabel ('SVD 2')\n",
        "ax.set_title ('SVD')\n",
        "targets = ['Iris-setosa', 'Iris-versicolor', 'Iris-virginica']\n",
        "colores = ['r', 'g', 'b']\n",
        "for target, color in zip(targets, colores):\n",
        "  indicesToKeep = newdata['especie'] == target\n",
        "  ax.scatter (newdata.loc[indicesToKeep, 'SVD1']\n",
        "              , newdata.loc[indicesToKeep, 'SVD2']\n",
        "              , c = color\n",
        "              , s = 50)\n",
        "ax.legend(targets)\n",
        "ax.grid()"
      ],
      "metadata": {
        "id": "skwt2Oh5JjpY"
      },
      "execution_count": null,
      "outputs": []
    },
    {
      "cell_type": "markdown",
      "source": [
        "Si desea compare los resultados con los obtenidos con PCA."
      ],
      "metadata": {
        "id": "63mFxvJt2KQb"
      }
    }
  ]
}