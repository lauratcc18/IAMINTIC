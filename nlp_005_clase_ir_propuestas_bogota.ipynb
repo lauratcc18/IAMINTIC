{
  "nbformat": 4,
  "nbformat_minor": 0,
  "metadata": {
    "colab": {
      "provenance": [],
      "gpuType": "T4",
      "include_colab_link": true
    },
    "kernelspec": {
      "name": "python3",
      "display_name": "Python 3"
    },
    "language_info": {
      "name": "python"
    },
    "accelerator": "GPU"
  },
  "cells": [
    {
      "cell_type": "markdown",
      "metadata": {
        "id": "view-in-github",
        "colab_type": "text"
      },
      "source": [
        "<a href=\"https://colab.research.google.com/github/lauratcc18/IAMINTIC/blob/main/nlp_005_clase_ir_propuestas_bogota.ipynb\" target=\"_parent\"><img src=\"https://colab.research.google.com/assets/colab-badge.svg\" alt=\"Open In Colab\"/></a>"
      ]
    },
    {
      "cell_type": "markdown",
      "source": [
        "#NLP - IR\n",
        "### Luis Gabriel Moreno Sandoval\n",
        "### morenoluis@javeriana.edu.co"
      ],
      "metadata": {
        "id": "dFGFonUOwHZO"
      }
    },
    {
      "cell_type": "code",
      "source": [
        "!pip install Spacy\n",
        "!python -m spacy download es_core_news_sm"
      ],
      "metadata": {
        "colab": {
          "base_uri": "https://localhost:8080/"
        },
        "id": "yfVz4QGcdV88",
        "outputId": "5b6251b1-1d32-4848-e286-99baa7f5744f"
      },
      "execution_count": null,
      "outputs": [
        {
          "output_type": "stream",
          "name": "stdout",
          "text": [
            "Requirement already satisfied: Spacy in /usr/local/lib/python3.10/dist-packages (3.6.1)\n",
            "Requirement already satisfied: spacy-legacy<3.1.0,>=3.0.11 in /usr/local/lib/python3.10/dist-packages (from Spacy) (3.0.12)\n",
            "Requirement already satisfied: spacy-loggers<2.0.0,>=1.0.0 in /usr/local/lib/python3.10/dist-packages (from Spacy) (1.0.4)\n",
            "Requirement already satisfied: murmurhash<1.1.0,>=0.28.0 in /usr/local/lib/python3.10/dist-packages (from Spacy) (1.0.9)\n",
            "Requirement already satisfied: cymem<2.1.0,>=2.0.2 in /usr/local/lib/python3.10/dist-packages (from Spacy) (2.0.7)\n",
            "Requirement already satisfied: preshed<3.1.0,>=3.0.2 in /usr/local/lib/python3.10/dist-packages (from Spacy) (3.0.8)\n",
            "Requirement already satisfied: thinc<8.2.0,>=8.1.8 in /usr/local/lib/python3.10/dist-packages (from Spacy) (8.1.12)\n",
            "Requirement already satisfied: wasabi<1.2.0,>=0.9.1 in /usr/local/lib/python3.10/dist-packages (from Spacy) (1.1.2)\n",
            "Requirement already satisfied: srsly<3.0.0,>=2.4.3 in /usr/local/lib/python3.10/dist-packages (from Spacy) (2.4.7)\n",
            "Requirement already satisfied: catalogue<2.1.0,>=2.0.6 in /usr/local/lib/python3.10/dist-packages (from Spacy) (2.0.9)\n",
            "Requirement already satisfied: typer<0.10.0,>=0.3.0 in /usr/local/lib/python3.10/dist-packages (from Spacy) (0.9.0)\n",
            "Requirement already satisfied: pathy>=0.10.0 in /usr/local/lib/python3.10/dist-packages (from Spacy) (0.10.2)\n",
            "Requirement already satisfied: smart-open<7.0.0,>=5.2.1 in /usr/local/lib/python3.10/dist-packages (from Spacy) (6.4.0)\n",
            "Requirement already satisfied: tqdm<5.0.0,>=4.38.0 in /usr/local/lib/python3.10/dist-packages (from Spacy) (4.66.1)\n",
            "Requirement already satisfied: numpy>=1.15.0 in /usr/local/lib/python3.10/dist-packages (from Spacy) (1.23.5)\n",
            "Requirement already satisfied: requests<3.0.0,>=2.13.0 in /usr/local/lib/python3.10/dist-packages (from Spacy) (2.31.0)\n",
            "Requirement already satisfied: pydantic!=1.8,!=1.8.1,<3.0.0,>=1.7.4 in /usr/local/lib/python3.10/dist-packages (from Spacy) (1.10.12)\n",
            "Requirement already satisfied: jinja2 in /usr/local/lib/python3.10/dist-packages (from Spacy) (3.1.2)\n",
            "Requirement already satisfied: setuptools in /usr/local/lib/python3.10/dist-packages (from Spacy) (67.7.2)\n",
            "Requirement already satisfied: packaging>=20.0 in /usr/local/lib/python3.10/dist-packages (from Spacy) (23.1)\n",
            "Requirement already satisfied: langcodes<4.0.0,>=3.2.0 in /usr/local/lib/python3.10/dist-packages (from Spacy) (3.3.0)\n",
            "Requirement already satisfied: typing-extensions>=4.2.0 in /usr/local/lib/python3.10/dist-packages (from pydantic!=1.8,!=1.8.1,<3.0.0,>=1.7.4->Spacy) (4.5.0)\n",
            "Requirement already satisfied: charset-normalizer<4,>=2 in /usr/local/lib/python3.10/dist-packages (from requests<3.0.0,>=2.13.0->Spacy) (3.2.0)\n",
            "Requirement already satisfied: idna<4,>=2.5 in /usr/local/lib/python3.10/dist-packages (from requests<3.0.0,>=2.13.0->Spacy) (3.4)\n",
            "Requirement already satisfied: urllib3<3,>=1.21.1 in /usr/local/lib/python3.10/dist-packages (from requests<3.0.0,>=2.13.0->Spacy) (2.0.4)\n",
            "Requirement already satisfied: certifi>=2017.4.17 in /usr/local/lib/python3.10/dist-packages (from requests<3.0.0,>=2.13.0->Spacy) (2023.7.22)\n",
            "Requirement already satisfied: blis<0.8.0,>=0.7.8 in /usr/local/lib/python3.10/dist-packages (from thinc<8.2.0,>=8.1.8->Spacy) (0.7.10)\n",
            "Requirement already satisfied: confection<1.0.0,>=0.0.1 in /usr/local/lib/python3.10/dist-packages (from thinc<8.2.0,>=8.1.8->Spacy) (0.1.2)\n",
            "Requirement already satisfied: click<9.0.0,>=7.1.1 in /usr/local/lib/python3.10/dist-packages (from typer<0.10.0,>=0.3.0->Spacy) (8.1.7)\n",
            "Requirement already satisfied: MarkupSafe>=2.0 in /usr/local/lib/python3.10/dist-packages (from jinja2->Spacy) (2.1.3)\n",
            "2023-09-28 01:52:15.190514: I tensorflow/core/platform/cpu_feature_guard.cc:182] This TensorFlow binary is optimized to use available CPU instructions in performance-critical operations.\n",
            "To enable the following instructions: AVX2 FMA, in other operations, rebuild TensorFlow with the appropriate compiler flags.\n",
            "2023-09-28 01:52:17.358219: W tensorflow/compiler/tf2tensorrt/utils/py_utils.cc:38] TF-TRT Warning: Could not find TensorRT\n",
            "2023-09-28 01:52:19.256178: I tensorflow/compiler/xla/stream_executor/cuda/cuda_gpu_executor.cc:995] successful NUMA node read from SysFS had negative value (-1), but there must be at least one NUMA node, so returning NUMA node zero. See more at https://github.com/torvalds/linux/blob/v6.0/Documentation/ABI/testing/sysfs-bus-pci#L344-L355\n",
            "2023-09-28 01:52:19.256649: I tensorflow/compiler/xla/stream_executor/cuda/cuda_gpu_executor.cc:995] successful NUMA node read from SysFS had negative value (-1), but there must be at least one NUMA node, so returning NUMA node zero. See more at https://github.com/torvalds/linux/blob/v6.0/Documentation/ABI/testing/sysfs-bus-pci#L344-L355\n",
            "2023-09-28 01:52:19.256814: I tensorflow/compiler/xla/stream_executor/cuda/cuda_gpu_executor.cc:995] successful NUMA node read from SysFS had negative value (-1), but there must be at least one NUMA node, so returning NUMA node zero. See more at https://github.com/torvalds/linux/blob/v6.0/Documentation/ABI/testing/sysfs-bus-pci#L344-L355\n",
            "Collecting es-core-news-sm==3.6.0\n",
            "  Downloading https://github.com/explosion/spacy-models/releases/download/es_core_news_sm-3.6.0/es_core_news_sm-3.6.0-py3-none-any.whl (12.9 MB)\n",
            "\u001b[2K     \u001b[90m━━━━━━━━━━━━━━━━━━━━━━━━━━━━━━━━━━━━━━━━\u001b[0m \u001b[32m12.9/12.9 MB\u001b[0m \u001b[31m96.3 MB/s\u001b[0m eta \u001b[36m0:00:00\u001b[0m\n",
            "\u001b[?25hRequirement already satisfied: spacy<3.7.0,>=3.6.0 in /usr/local/lib/python3.10/dist-packages (from es-core-news-sm==3.6.0) (3.6.1)\n",
            "Requirement already satisfied: spacy-legacy<3.1.0,>=3.0.11 in /usr/local/lib/python3.10/dist-packages (from spacy<3.7.0,>=3.6.0->es-core-news-sm==3.6.0) (3.0.12)\n",
            "Requirement already satisfied: spacy-loggers<2.0.0,>=1.0.0 in /usr/local/lib/python3.10/dist-packages (from spacy<3.7.0,>=3.6.0->es-core-news-sm==3.6.0) (1.0.4)\n",
            "Requirement already satisfied: murmurhash<1.1.0,>=0.28.0 in /usr/local/lib/python3.10/dist-packages (from spacy<3.7.0,>=3.6.0->es-core-news-sm==3.6.0) (1.0.9)\n",
            "Requirement already satisfied: cymem<2.1.0,>=2.0.2 in /usr/local/lib/python3.10/dist-packages (from spacy<3.7.0,>=3.6.0->es-core-news-sm==3.6.0) (2.0.7)\n",
            "Requirement already satisfied: preshed<3.1.0,>=3.0.2 in /usr/local/lib/python3.10/dist-packages (from spacy<3.7.0,>=3.6.0->es-core-news-sm==3.6.0) (3.0.8)\n",
            "Requirement already satisfied: thinc<8.2.0,>=8.1.8 in /usr/local/lib/python3.10/dist-packages (from spacy<3.7.0,>=3.6.0->es-core-news-sm==3.6.0) (8.1.12)\n",
            "Requirement already satisfied: wasabi<1.2.0,>=0.9.1 in /usr/local/lib/python3.10/dist-packages (from spacy<3.7.0,>=3.6.0->es-core-news-sm==3.6.0) (1.1.2)\n",
            "Requirement already satisfied: srsly<3.0.0,>=2.4.3 in /usr/local/lib/python3.10/dist-packages (from spacy<3.7.0,>=3.6.0->es-core-news-sm==3.6.0) (2.4.7)\n",
            "Requirement already satisfied: catalogue<2.1.0,>=2.0.6 in /usr/local/lib/python3.10/dist-packages (from spacy<3.7.0,>=3.6.0->es-core-news-sm==3.6.0) (2.0.9)\n",
            "Requirement already satisfied: typer<0.10.0,>=0.3.0 in /usr/local/lib/python3.10/dist-packages (from spacy<3.7.0,>=3.6.0->es-core-news-sm==3.6.0) (0.9.0)\n",
            "Requirement already satisfied: pathy>=0.10.0 in /usr/local/lib/python3.10/dist-packages (from spacy<3.7.0,>=3.6.0->es-core-news-sm==3.6.0) (0.10.2)\n",
            "Requirement already satisfied: smart-open<7.0.0,>=5.2.1 in /usr/local/lib/python3.10/dist-packages (from spacy<3.7.0,>=3.6.0->es-core-news-sm==3.6.0) (6.4.0)\n",
            "Requirement already satisfied: tqdm<5.0.0,>=4.38.0 in /usr/local/lib/python3.10/dist-packages (from spacy<3.7.0,>=3.6.0->es-core-news-sm==3.6.0) (4.66.1)\n",
            "Requirement already satisfied: numpy>=1.15.0 in /usr/local/lib/python3.10/dist-packages (from spacy<3.7.0,>=3.6.0->es-core-news-sm==3.6.0) (1.23.5)\n",
            "Requirement already satisfied: requests<3.0.0,>=2.13.0 in /usr/local/lib/python3.10/dist-packages (from spacy<3.7.0,>=3.6.0->es-core-news-sm==3.6.0) (2.31.0)\n",
            "Requirement already satisfied: pydantic!=1.8,!=1.8.1,<3.0.0,>=1.7.4 in /usr/local/lib/python3.10/dist-packages (from spacy<3.7.0,>=3.6.0->es-core-news-sm==3.6.0) (1.10.12)\n",
            "Requirement already satisfied: jinja2 in /usr/local/lib/python3.10/dist-packages (from spacy<3.7.0,>=3.6.0->es-core-news-sm==3.6.0) (3.1.2)\n",
            "Requirement already satisfied: setuptools in /usr/local/lib/python3.10/dist-packages (from spacy<3.7.0,>=3.6.0->es-core-news-sm==3.6.0) (67.7.2)\n",
            "Requirement already satisfied: packaging>=20.0 in /usr/local/lib/python3.10/dist-packages (from spacy<3.7.0,>=3.6.0->es-core-news-sm==3.6.0) (23.1)\n",
            "Requirement already satisfied: langcodes<4.0.0,>=3.2.0 in /usr/local/lib/python3.10/dist-packages (from spacy<3.7.0,>=3.6.0->es-core-news-sm==3.6.0) (3.3.0)\n",
            "Requirement already satisfied: typing-extensions>=4.2.0 in /usr/local/lib/python3.10/dist-packages (from pydantic!=1.8,!=1.8.1,<3.0.0,>=1.7.4->spacy<3.7.0,>=3.6.0->es-core-news-sm==3.6.0) (4.5.0)\n",
            "Requirement already satisfied: charset-normalizer<4,>=2 in /usr/local/lib/python3.10/dist-packages (from requests<3.0.0,>=2.13.0->spacy<3.7.0,>=3.6.0->es-core-news-sm==3.6.0) (3.2.0)\n",
            "Requirement already satisfied: idna<4,>=2.5 in /usr/local/lib/python3.10/dist-packages (from requests<3.0.0,>=2.13.0->spacy<3.7.0,>=3.6.0->es-core-news-sm==3.6.0) (3.4)\n",
            "Requirement already satisfied: urllib3<3,>=1.21.1 in /usr/local/lib/python3.10/dist-packages (from requests<3.0.0,>=2.13.0->spacy<3.7.0,>=3.6.0->es-core-news-sm==3.6.0) (2.0.4)\n",
            "Requirement already satisfied: certifi>=2017.4.17 in /usr/local/lib/python3.10/dist-packages (from requests<3.0.0,>=2.13.0->spacy<3.7.0,>=3.6.0->es-core-news-sm==3.6.0) (2023.7.22)\n",
            "Requirement already satisfied: blis<0.8.0,>=0.7.8 in /usr/local/lib/python3.10/dist-packages (from thinc<8.2.0,>=8.1.8->spacy<3.7.0,>=3.6.0->es-core-news-sm==3.6.0) (0.7.10)\n",
            "Requirement already satisfied: confection<1.0.0,>=0.0.1 in /usr/local/lib/python3.10/dist-packages (from thinc<8.2.0,>=8.1.8->spacy<3.7.0,>=3.6.0->es-core-news-sm==3.6.0) (0.1.2)\n",
            "Requirement already satisfied: click<9.0.0,>=7.1.1 in /usr/local/lib/python3.10/dist-packages (from typer<0.10.0,>=0.3.0->spacy<3.7.0,>=3.6.0->es-core-news-sm==3.6.0) (8.1.7)\n",
            "Requirement already satisfied: MarkupSafe>=2.0 in /usr/local/lib/python3.10/dist-packages (from jinja2->spacy<3.7.0,>=3.6.0->es-core-news-sm==3.6.0) (2.1.3)\n",
            "Installing collected packages: es-core-news-sm\n",
            "Successfully installed es-core-news-sm-3.6.0\n",
            "\u001b[38;5;2m✔ Download and installation successful\u001b[0m\n",
            "You can now load the package via spacy.load('es_core_news_sm')\n"
          ]
        }
      ]
    },
    {
      "cell_type": "code",
      "source": [
        "from sklearn.feature_extraction.text import TfidfVectorizer, CountVectorizer\n",
        "from sklearn.metrics.pairwise import cosine_similarity\n",
        "from nltk.stem import SnowballStemmer\n",
        "import nltk\n",
        "import es_core_news_sm\n",
        "nltk.download('stopwords')\n",
        "nltk.download('punkt')\n",
        "stop_words_spanish = nltk.corpus.stopwords.words('spanish') # english\n",
        "stemmer = SnowballStemmer('spanish')"
      ],
      "metadata": {
        "colab": {
          "base_uri": "https://localhost:8080/"
        },
        "id": "4kmOzZNzBpNC",
        "outputId": "bf0124d5-bc7f-4c00-b7f8-b1360389b071"
      },
      "execution_count": null,
      "outputs": [
        {
          "output_type": "stream",
          "name": "stderr",
          "text": [
            "[nltk_data] Downloading package stopwords to /root/nltk_data...\n",
            "[nltk_data]   Unzipping corpora/stopwords.zip.\n",
            "[nltk_data] Downloading package punkt to /root/nltk_data...\n",
            "[nltk_data]   Unzipping tokenizers/punkt.zip.\n"
          ]
        }
      ]
    },
    {
      "cell_type": "code",
      "source": [
        "def pre_process(text):\n",
        "  # print('before pre_process', text)\n",
        "  text = text.lower()\n",
        "  # print('after pre_process', text)\n",
        "  return text"
      ],
      "metadata": {
        "id": "_vS1HfTRBux4"
      },
      "execution_count": null,
      "outputs": []
    },
    {
      "cell_type": "code",
      "source": [
        "def tokenize_stemmer(text):\n",
        "  tokens_doc = nltk.word_tokenize(text)\n",
        "  tokens_doc_wo_stop = [w for w in tokens_doc if w.isalpha()]\n",
        "  tokens_docs_stem = [stemmer.stem(w) for w in tokens_doc_wo_stop]\n",
        "  return tokens_docs_stem"
      ],
      "metadata": {
        "id": "Ex0-AEB3CqJk"
      },
      "execution_count": null,
      "outputs": []
    },
    {
      "cell_type": "code",
      "source": [
        "def tokenize_lemma(text):\n",
        "  nlp = es_core_news_sm.load()\n",
        "  doc = nlp(text)\n",
        "  words = [word.lemma_.lower() for word in doc if word.text.isalpha()]\n",
        "  return words"
      ],
      "metadata": {
        "id": "146vkzB5dSF9"
      },
      "execution_count": null,
      "outputs": []
    },
    {
      "cell_type": "code",
      "source": [
        "from nltk.corpus import PlaintextCorpusReader\n",
        "corpus_root = '/content/planes'\n",
        "wordlists = PlaintextCorpusReader(corpus_root, '.*')\n",
        "print(wordlists.fileids())\n",
        "print(wordlists.words()[500:550])"
      ],
      "metadata": {
        "colab": {
          "base_uri": "https://localhost:8080/"
        },
        "id": "8UXCYvy5Z6_F",
        "outputId": "fee780a5-4717-4f79-95f5-4fcf8cadecd5"
      },
      "execution_count": null,
      "outputs": [
        {
          "output_type": "stream",
          "name": "stdout",
          "text": [
            "['2023_Bolivar.txt', '2023_Galan.txt', '2023_Lara.txt', '2023_Molano.txt', '2023_Robledo.txt', '2023_Vargas.txt']\n",
            "['Comisión', 'Tercera', 'Constitucional', 'del', 'Senado', '.', 'Es', 'autor', 'de', 'más', 'de', '8', 'libros', 'y', 'más', 'de', '3', '.', '800', 'guiones', '.', 'Fue', 'asistente', 'del', 'exministro', 'de', 'justicia', 'Enrique', 'Parejo', 'González', 'en', 'el', 'Concejo', 'de', 'Bogotá', ',', 'presidió', 'la', 'Fundación', 'Manos', 'Limpias', ',', 'ejerció', 'como', 'activista', 'ciudadano', 'contra', 'la', 'corrupción', 'y']\n"
          ]
        }
      ]
    },
    {
      "cell_type": "code",
      "source": [
        "stop_words_spanish.append('aaa')\n",
        "stop_words_spanish[:10]"
      ],
      "metadata": {
        "colab": {
          "base_uri": "https://localhost:8080/"
        },
        "id": "dAfxD0Y2b_UG",
        "outputId": "8ea89609-de99-4a0f-cf0f-4ae9592f2e2c"
      },
      "execution_count": null,
      "outputs": [
        {
          "output_type": "execute_result",
          "data": {
            "text/plain": [
              "['de', 'la', 'que', 'el', 'en', 'y', 'a', 'los', 'del', 'se']"
            ]
          },
          "metadata": {},
          "execution_count": 8
        }
      ]
    },
    {
      "cell_type": "code",
      "source": [
        "docs_raw = {}\n",
        "for item in wordlists.fileids():\n",
        "  docs_raw[item] = wordlists.raw(item)\n",
        "docs_raw.keys()"
      ],
      "metadata": {
        "colab": {
          "base_uri": "https://localhost:8080/"
        },
        "id": "2F10vMMrbCu_",
        "outputId": "f755d4cd-f7e6-473b-fe8e-f0ddf5a46a39"
      },
      "execution_count": null,
      "outputs": [
        {
          "output_type": "execute_result",
          "data": {
            "text/plain": [
              "dict_keys(['2023_Bolivar.txt', '2023_Galan.txt', '2023_Lara.txt', '2023_Molano.txt', '2023_Robledo.txt', '2023_Vargas.txt'])"
            ]
          },
          "metadata": {},
          "execution_count": 10
        }
      ]
    },
    {
      "cell_type": "code",
      "execution_count": null,
      "metadata": {
        "colab": {
          "base_uri": "https://localhost:8080/"
        },
        "id": "D9s8FlcNBNWD",
        "outputId": "3e76ef1a-8956-462a-ab52-922f0b2134d2"
      },
      "outputs": [
        {
          "output_type": "stream",
          "name": "stderr",
          "text": [
            "/usr/local/lib/python3.10/dist-packages/sklearn/feature_extraction/text.py:528: UserWarning: The parameter 'token_pattern' will not be used since 'tokenizer' is not None'\n",
            "  warnings.warn(\n",
            "/usr/local/lib/python3.10/dist-packages/sklearn/feature_extraction/text.py:409: UserWarning: Your stop_words may be inconsistent with your preprocessing. Tokenizing the stop words generated tokens ['algun', 'com', 'contr', 'cuand', 'desd', 'dond', 'durant', 'eram', 'estab', 'estais', 'estam', 'estan', 'estand', 'estaran', 'estaras', 'esteis', 'estem', 'esten', 'estes', 'estuv', 'fuer', 'fues', 'fuim', 'fuist', 'hab', 'habr', 'habran', 'habras', 'hast', 'hem', 'hub', 'mas', 'mia', 'mias', 'mio', 'mios', 'much', 'nad', 'nosotr', 'nuestr', 'par', 'per', 'poc', 'porqu', 'qui', 'seais', 'seam', 'sent', 'ser', 'seran', 'seras', 'si', 'sient', 'sint', 'sobr', 'som', 'suy', 'tambien', 'tant', 'ten', 'tendr', 'tendran', 'tendras', 'teng', 'tien', 'tod', 'tuv', 'tuy', 'vosotr', 'vuestr'] not in stop_words.\n",
            "  warnings.warn(\n"
          ]
        },
        {
          "output_type": "stream",
          "name": "stdout",
          "text": [
            "['aban' 'abander' 'abandon' ... 'ﬁrmad' 'ﬁscal' 'ﬂexibl']\n",
            "4093\n"
          ]
        }
      ],
      "source": [
        "tfidf = TfidfVectorizer(preprocessor=pre_process, tokenizer=tokenize_stemmer, stop_words=stop_words_spanish)\n",
        "tfs = tfidf.fit_transform(docs_raw.values())\n",
        "print(tfidf.get_feature_names_out())\n",
        "print(len(tfidf.get_feature_names_out()))"
      ]
    },
    {
      "cell_type": "code",
      "source": [
        "docs_num, feature_num = tfs.shape\n",
        "feature_names = tfidf.get_feature_names_out()\n",
        "print(\"n_docs: %d, n_features: %d\" % tfs.shape)"
      ],
      "metadata": {
        "colab": {
          "base_uri": "https://localhost:8080/"
        },
        "id": "DQFkM4wiFamK",
        "outputId": "bc8fc070-f75d-416d-be2c-6ed69570d687"
      },
      "execution_count": null,
      "outputs": [
        {
          "output_type": "stream",
          "name": "stdout",
          "text": [
            "n_docs: 6, n_features: 4093\n"
          ]
        }
      ]
    },
    {
      "cell_type": "code",
      "source": [
        "print(\"###### Calculo de Feature Names ######\")\n",
        "for x in range(0, feature_num):\n",
        "    print(\" # \", x ,\" - \",feature_names[x], \" \\t - \", [tfs[n,x] for n in range(0, docs_num)])\n",
        "    if x == 100:\n",
        "      break"
      ],
      "metadata": {
        "colab": {
          "base_uri": "https://localhost:8080/"
        },
        "id": "bOrW9JBNF1ZJ",
        "outputId": "0bcfae6c-0c8e-476a-895f-4365a0854788"
      },
      "execution_count": null,
      "outputs": [
        {
          "output_type": "stream",
          "name": "stdout",
          "text": [
            "###### Calculo de Feature Names ######\n",
            " #  0  -  aban  \t -  [0.0, 0.0, 0.0, 0.0, 0.007265932377241132, 0.0]\n",
            " #  1  -  abander  \t -  [0.0, 0.0, 0.0, 0.004873854126320782, 0.0, 0.0]\n",
            " #  2  -  abandon  \t -  [0.0, 0.0, 0.00868066485965739, 0.002891458540584962, 0.004310580842793141, 0.0025401938164019227]\n",
            " #  3  -  abarc  \t -  [0.0030502890384767442, 0.0, 0.0, 0.0, 0.0, 0.007022210373589733]\n",
            " #  4  -  abast  \t -  [0.0, 0.0, 0.0, 0.0, 0.0, 0.004281760896775777]\n",
            " #  5  -  abastec  \t -  [0.018026845215011928, 0.0, 0.022792564324442297, 0.0, 0.0, 0.011857265035275753]\n",
            " #  6  -  abiert  \t -  [0.009907300075053582, 0.0021077164312540194, 0.01461421748917692, 0.00649050192294672, 0.009676027809655562, 0.00570201253747826]\n",
            " #  7  -  abog  \t -  [0.0, 0.0, 0.008998937566329926, 0.003996630105032836, 0.0, 0.0]\n",
            " #  8  -  abord  \t -  [0.011034026241820311, 0.0, 0.015191163504400433, 0.011565834162339849, 0.0, 0.01778135671481346]\n",
            " #  9  -  abordaj  \t -  [0.0, 0.0028169044930413402, 0.0, 0.002891458540584962, 0.004310580842793141, 0.0025401938164019227]\n",
            " #  10  -  abra  \t -  [0.0, 0.0, 0.0, 0.0, 0.0, 0.004281760896775777]\n",
            " #  11  -  abre  \t -  [0.0, 0.0, 0.00731608177181225, 0.0, 0.0, 0.0]\n",
            " #  12  -  abriend  \t -  [0.003719799787808682, 0.0, 0.0, 0.0, 0.0, 0.0]\n",
            " #  13  -  abril  \t -  [0.0030502890384767442, 0.0, 0.0029996458554433086, 0.0, 0.0, 0.0]\n",
            " #  14  -  abrir  \t -  [0.004413610496728124, 0.0028169044930413402, 0.0021701662149143475, 0.0, 0.004310580842793141, 0.0]\n",
            " #  15  -  abriran  \t -  [0.0, 0.0, 0.0029996458554433086, 0.0, 0.005958168489941266, 0.0]\n",
            " #  16  -  absolut  \t -  [0.0, 0.0, 0.003658040885906125, 0.0, 0.0, 0.0]\n",
            " #  17  -  absorb  \t -  [0.0, 0.0, 0.0, 0.0, 0.007265932377241132, 0.0]\n",
            " #  18  -  absurd  \t -  [0.0, 0.0, 0.003658040885906125, 0.0, 0.0, 0.0]\n",
            " #  19  -  abund  \t -  [0.0, 0.0, 0.003658040885906125, 0.0, 0.0, 0.0]\n",
            " #  20  -  abus  \t -  [0.004413610496728124, 0.0, 0.006510498644743042, 0.002891458540584962, 0.012931742528379425, 0.0]\n",
            " #  21  -  acab  \t -  [0.002575263602144561, 0.0032872278226746747, 0.0, 0.006748459513768616, 0.0, 0.0]\n",
            " #  22  -  academ  \t -  [0.0, 0.0056338089860826805, 0.004340332429828695, 0.005782917081169924, 0.004310580842793141, 0.0]\n",
            " #  23  -  academi  \t -  [0.0, 0.0032872278226746747, 0.01013002858864102, 0.0, 0.01509088573644102, 0.0]\n",
            " #  24  -  acat  \t -  [0.0, 0.0, 0.0, 0.007993260210065672, 0.005958168489941266, 0.0]\n",
            " #  25  -  acced  \t -  [0.01143451711687574, 0.002432622352014909, 0.0, 0.01997604588477089, 0.011167594074541423, 0.002193660548838028]\n",
            " #  26  -  acces  \t -  [0.07595596724207747, 0.04636976148758843, 0.03897124663780512, 0.01298100384589344, 0.08708425028690005, 0.06462280875808694]\n",
            " #  27  -  accesibil  \t -  [0.0, 0.0032872278226746747, 0.01013002858864102, 0.0, 0.0251514762274017, 0.0]\n",
            " #  28  -  accident  \t -  [0.0, 0.0, 0.00506501429432051, 0.003374229756884308, 0.0, 0.0029643162588189383]\n",
            " #  29  -  accidental  \t -  [0.0, 0.0, 0.00731608177181225, 0.0, 0.0, 0.0]\n",
            " #  30  -  accion  \t -  [0.0627462338086727, 0.03161574646881029, 0.040595048581047004, 0.01730800512785792, 0.019352055619311123, 0.04371542945399999]\n",
            " #  31  -  accionari  \t -  [0.0, 0.0, 0.0, 0.0, 0.021797797131723397, 0.0]\n",
            " #  32  -  acech  \t -  [0.0, 0.0, 0.003658040885906125, 0.0, 0.0, 0.0]\n",
            " #  33  -  aceler  \t -  [0.002206805248364062, 0.0, 0.004340332429828695, 0.0, 0.012931742528379425, 0.0025401938164019227]\n",
            " #  34  -  acentu  \t -  [0.002575263602144561, 0.0, 0.0, 0.0, 0.00503029524548034, 0.0029643162588189383]\n",
            " #  35  -  acer  \t -  [0.003719799787808682, 0.0, 0.0, 0.0, 0.0, 0.0]\n",
            " #  36  -  acerc  \t -  [0.00571725855843787, 0.002432622352014909, 0.0, 0.0049940114711927224, 0.0037225313581804743, 0.004387321097676056]\n",
            " #  37  -  acert  \t -  [0.0, 0.0, 0.003658040885906125, 0.0, 0.0, 0.0]\n",
            " #  38  -  aciert  \t -  [0.0, 0.004748185524418269, 0.0, 0.0, 0.0, 0.0]\n",
            " #  39  -  acog  \t -  [0.005150527204289122, 0.0, 0.0, 0.003374229756884308, 0.00503029524548034, 0.0]\n",
            " #  40  -  acogedor  \t -  [0.003719799787808682, 0.0, 0.0, 0.0, 0.0, 0.0]\n",
            " #  41  -  acoj  \t -  [0.0, 0.0, 0.0, 0.004873854126320782, 0.0, 0.0]\n",
            " #  42  -  acompañ  \t -  [0.008256083395877986, 0.048477477918842445, 0.0081190097162094, 0.01730800512785792, 0.019352055619311123, 0.009503354229130434]\n",
            " #  43  -  acondicion  \t -  [0.0, 0.009496371048836537, 0.0, 0.0, 0.0, 0.0]\n",
            " #  44  -  acopi  \t -  [0.003719799787808682, 0.0, 0.0, 0.0, 0.0, 0.0]\n",
            " #  45  -  acord  \t -  [0.005150527204289122, 0.0032872278226746747, 0.0, 0.0, 0.0, 0.0029643162588189383]\n",
            " #  46  -  acort  \t -  [0.0, 0.004748185524418269, 0.0, 0.0, 0.0, 0.0]\n",
            " #  47  -  acos  \t -  [0.002206805248364062, 0.0056338089860826805, 0.004340332429828695, 0.0, 0.004310580842793141, 0.0]\n",
            " #  48  -  acostumbr  \t -  [0.0, 0.0, 0.0, 0.004873854126320782, 0.0, 0.0]\n",
            " #  49  -  acrobat  \t -  [0.0, 0.0, 0.0, 0.004873854126320782, 0.0, 0.0]\n",
            " #  50  -  actitud  \t -  [0.0, 0.007787160107517005, 0.0, 0.0, 0.005958168489941266, 0.0]\n",
            " #  51  -  activ  \t -  [0.042931633658565525, 0.05901606007511254, 0.06008067189994956, 0.02379850705080464, 0.05483082425471485, 0.04751677114565216]\n",
            " #  52  -  acto  \t -  [0.0061005780769534885, 0.0, 0.0, 0.0, 0.005958168489941266, 0.0]\n",
            " #  53  -  actor  \t -  [0.009528764264063115, 0.0, 0.029985793867159022, 0.0049940114711927224, 0.011167594074541423, 0.01096830274419014]\n",
            " #  54  -  actos  \t -  [0.0019057528528126234, 0.002432622352014909, 0.0056223363500923175, 0.0024970057355963612, 0.0, 0.002193660548838028]\n",
            " #  55  -  acttiv  \t -  [0.0, 0.0, 0.003658040885906125, 0.0, 0.0, 0.0]\n",
            " #  56  -  actu  \t -  [0.003811505705625247, 0.004865244704029818, 0.0037482242333948777, 0.0049940114711927224, 0.01861265679090237, 0.0]\n",
            " #  57  -  actuacion  \t -  [0.002206805248364062, 0.0056338089860826805, 0.004340332429828695, 0.005782917081169924, 0.0, 0.0]\n",
            " #  58  -  actual  \t -  [0.0033024333583511942, 0.010538582156270097, 0.01786182137566068, 0.01514450448687568, 0.0161267130160926, 0.01140402507495652]\n",
            " #  59  -  actualiz  \t -  [0.01143451711687574, 0.002432622352014909, 0.009370560583487194, 0.0, 0.0037225313581804743, 0.004387321097676056]\n",
            " #  60  -  acud  \t -  [0.0, 0.0, 0.0, 0.004873854126320782, 0.0, 0.0]\n",
            " #  61  -  acueduct  \t -  [0.015451581612867365, 0.0, 0.0, 0.003374229756884308, 0.01509088573644102, 0.0]\n",
            " #  62  -  acuerd  \t -  [0.013209733433404777, 0.025292597175048233, 0.02273322720538632, 0.00216350064098224, 0.038704111238622246, 0.03231140437904347]\n",
            " #  63  -  acuifer  \t -  [0.0, 0.004748185524418269, 0.0, 0.0, 0.0, 0.0]\n",
            " #  64  -  acumul  \t -  [0.002575263602144561, 0.0, 0.0, 0.003374229756884308, 0.0, 0.0029643162588189383]\n",
            " #  65  -  acupuntur  \t -  [0.0, 0.004748185524418269, 0.0, 0.0, 0.0, 0.0]\n",
            " #  66  -  adan  \t -  [0.0, 0.0, 0.0, 0.004873854126320782, 0.0, 0.0]\n",
            " #  67  -  adapt  \t -  [0.014860950112580375, 0.0021077164312540194, 0.00324760388648376, 0.00865400256392896, 0.0161267130160926, 0.00570201253747826]\n",
            " #  68  -  adecu  \t -  [0.021465816829282763, 0.016861731450032155, 0.01948562331890256, 0.00865400256392896, 0.025802740825748162, 0.019006708458260867]\n",
            " #  69  -  adel  \t -  [0.0, 0.0, 0.008998937566329926, 0.0, 0.0, 0.0035111051867948665]\n",
            " #  70  -  adelant  \t -  [0.004953650037526791, 0.021077164312540194, 0.01461421748917692, 0.0108175032049112, 0.0064506852064370405, 0.00570201253747826]\n",
            " #  71  -  ademas  \t -  [0.009907300075053582, 0.012646298587524116, 0.02273322720538632, 0.01730800512785792, 0.025802740825748162, 0.03421207522486956]\n",
            " #  72  -  adhesion  \t -  [0.0, 0.0, 0.003658040885906125, 0.0, 0.0, 0.0]\n",
            " #  73  -  adiccion  \t -  [0.0, 0.0, 0.0, 0.0, 0.0, 0.004281760896775777]\n",
            " #  74  -  adicion  \t -  [0.0, 0.0, 0.003658040885906125, 0.0, 0.0, 0.0]\n",
            " #  75  -  adicional  \t -  [0.0033024333583511942, 0.010538582156270097, 0.00974281165945128, 0.00432700128196448, 0.0032253426032185202, 0.019006708458260867]\n",
            " #  76  -  adjudic  \t -  [0.0, 0.0, 0.0, 0.004873854126320782, 0.0, 0.0]\n",
            " #  77  -  adjudiqu  \t -  [0.0, 0.0, 0.0, 0.004873854126320782, 0.0, 0.0]\n",
            " #  78  -  administr  \t -  [0.01651216679175597, 0.03583117933131833, 0.040595048581047004, 0.03677951089669808, 0.061281509461151885, 0.024708720995739127]\n",
            " #  79  -  admis  \t -  [0.0, 0.0, 0.0, 0.0, 0.0, 0.004281760896775777]\n",
            " #  80  -  adolescent  \t -  [0.004953650037526791, 0.027400313606302254, 0.01948562331890256, 0.01514450448687568, 0.012901370412874081, 0.01140402507495652]\n",
            " #  81  -  adopcion  \t -  [0.00571725855843787, 0.002432622352014909, 0.0018741121166974389, 0.0049940114711927224, 0.0, 0.01096830274419014]\n",
            " #  82  -  adopt  \t -  [0.00571725855843787, 0.002432622352014909, 0.0074964484667897555, 0.009988022942385445, 0.0, 0.008774642195352112]\n",
            " #  83  -  adqu  \t -  [0.0, 0.0, 0.0, 0.004873854126320782, 0.0, 0.0]\n",
            " #  84  -  adquier  \t -  [0.0, 0.0, 0.003658040885906125, 0.0, 0.0, 0.0]\n",
            " #  85  -  adquir  \t -  [0.002575263602144561, 0.0032872278226746747, 0.002532507147160255, 0.0, 0.0, 0.0]\n",
            " #  86  -  adquisicion  \t -  [0.0061005780769534885, 0.0, 0.0029996458554433086, 0.0, 0.0, 0.0]\n",
            " #  87  -  adult  \t -  [0.01155851675422918, 0.008430865725016078, 0.0324760388648376, 0.00649050192294672, 0.009676027809655562, 0.01710603761243478]\n",
            " #  88  -  aere  \t -  [0.00571725855843787, 0.002432622352014909, 0.0018741121166974389, 0.0049940114711927224, 0.0074450627163609485, 0.0]\n",
            " #  89  -  aerodrom  \t -  [0.003719799787808682, 0.0, 0.0, 0.0, 0.0, 0.0]\n",
            " #  90  -  aeroportuari  \t -  [0.0, 0.0, 0.003658040885906125, 0.0, 0.0, 0.0]\n",
            " #  91  -  aeropuert  \t -  [0.005150527204289122, 0.0, 0.01013002858864102, 0.0, 0.0, 0.005928632517637877]\n",
            " #  92  -  aerostat  \t -  [0.0, 0.0, 0.010974122657718374, 0.0, 0.0, 0.0]\n",
            " #  93  -  afan  \t -  [0.0, 0.0, 0.0, 0.004873854126320782, 0.0, 0.0]\n",
            " #  94  -  afect  \t -  [0.0066048667167023884, 0.006323149293762058, 0.01136661360269316, 0.01514450448687568, 0.0064506852064370405, 0.01140402507495652]\n",
            " #  95  -  afianz  \t -  [0.002206805248364062, 0.0, 0.0, 0.002891458540584962, 0.004310580842793141, 0.0025401938164019227]\n",
            " #  96  -  afili  \t -  [0.0, 0.0, 0.0, 0.0, 0.0, 0.004281760896775777]\n",
            " #  97  -  afin  \t -  [0.003719799787808682, 0.0, 0.0, 0.0, 0.0, 0.0]\n",
            " #  98  -  afirm  \t -  [0.007439599575617364, 0.0, 0.0, 0.0, 0.0, 0.0]\n",
            " #  99  -  afluenci  \t -  [0.0, 0.0, 0.0, 0.004873854126320782, 0.0, 0.0]\n",
            " #  100  -  afluent  \t -  [0.003719799787808682, 0.0, 0.0, 0.0, 0.0, 0.0]\n"
          ]
        }
      ]
    },
    {
      "cell_type": "code",
      "source": [
        "response = tfidf.transform([wordlists.raw('2023_Galan.txt')])\n",
        "\n",
        "print('response:', response)\n",
        "cosine_similarity_response =  cosine_similarity(response, tfs)\n",
        "print(\"n_question: %d, n_features: %d\" % response.shape)\n",
        "print(\"cosine_similarity \", cosine_similarity_response)\n"
      ],
      "metadata": {
        "colab": {
          "base_uri": "https://localhost:8080/"
        },
        "id": "a4eb9ynbGJ7r",
        "outputId": "edefdc6b-3ce9-44bb-b690-7423f162b660"
      },
      "execution_count": null,
      "outputs": [
        {
          "output_type": "stream",
          "name": "stdout",
          "text": [
            "response:   (0, 4080)\t0.01459573411208944\n",
            "  (0, 4079)\t0.031615746468810255\n",
            "  (0, 4074)\t0.0047481855244182625\n",
            "  (0, 4073)\t0.0047481855244182625\n",
            "  (0, 4066)\t0.0047481855244182625\n",
            "  (0, 4064)\t0.01459573411208944\n",
            "  (0, 4062)\t0.0038935800537584983\n",
            "  (0, 4059)\t0.0038935800537584983\n",
            "  (0, 4056)\t0.008450713479124012\n",
            "  (0, 4051)\t0.009496371048836525\n",
            "  (0, 4050)\t0.009730489408059624\n",
            "  (0, 4048)\t0.016861731450032134\n",
            "  (0, 4046)\t0.0038935800537584983\n",
            "  (0, 4044)\t0.002107716431254017\n",
            "  (0, 4043)\t0.002816904493041337\n",
            "  (0, 4042)\t0.0047481855244182625\n",
            "  (0, 4041)\t0.002816904493041337\n",
            "  (0, 4039)\t0.00729786705604472\n",
            "  (0, 4037)\t0.0047481855244182625\n",
            "  (0, 4034)\t0.0038935800537584983\n",
            "  (0, 4033)\t0.00729786705604472\n",
            "  (0, 4030)\t0.0032872278226746708\n",
            "  (0, 4029)\t0.018969447881286152\n",
            "  (0, 4026)\t0.008430865725016067\n",
            "  (0, 4024)\t0.0047481855244182625\n",
            "  :\t:\n",
            "  (0, 62)\t0.0252925971750482\n",
            "  (0, 59)\t0.002432622352014906\n",
            "  (0, 58)\t0.010538582156270085\n",
            "  (0, 57)\t0.005633808986082674\n",
            "  (0, 56)\t0.004865244704029812\n",
            "  (0, 54)\t0.002432622352014906\n",
            "  (0, 51)\t0.059016060075112474\n",
            "  (0, 50)\t0.007787160107516997\n",
            "  (0, 47)\t0.005633808986082674\n",
            "  (0, 46)\t0.0047481855244182625\n",
            "  (0, 45)\t0.0032872278226746708\n",
            "  (0, 43)\t0.009496371048836525\n",
            "  (0, 42)\t0.04847747791884239\n",
            "  (0, 38)\t0.0047481855244182625\n",
            "  (0, 36)\t0.002432622352014906\n",
            "  (0, 30)\t0.031615746468810255\n",
            "  (0, 27)\t0.0032872278226746708\n",
            "  (0, 26)\t0.046369761487588375\n",
            "  (0, 25)\t0.002432622352014906\n",
            "  (0, 23)\t0.0032872278226746708\n",
            "  (0, 22)\t0.005633808986082674\n",
            "  (0, 21)\t0.0032872278226746708\n",
            "  (0, 14)\t0.002816904493041337\n",
            "  (0, 9)\t0.002816904493041337\n",
            "  (0, 6)\t0.002107716431254017\n",
            "n_question: 1, n_features: 4093\n",
            "cosine_similarity  [[0.82434007 1.         0.83052443 0.83354513 0.79863951 0.80844471]]\n"
          ]
        }
      ]
    },
    {
      "cell_type": "code",
      "source": [
        "wordlists.fileids()"
      ],
      "metadata": {
        "colab": {
          "base_uri": "https://localhost:8080/"
        },
        "id": "n1vrEK_kc1Pp",
        "outputId": "8a9286d6-e415-4f6e-d3fd-bebb486a71bc"
      },
      "execution_count": null,
      "outputs": [
        {
          "output_type": "execute_result",
          "data": {
            "text/plain": [
              "['2023_Bolivar.txt',\n",
              " '2023_Galan.txt',\n",
              " '2023_Lara.txt',\n",
              " '2023_Molano.txt',\n",
              " '2023_Robledo.txt',\n",
              " '2023_Vargas.txt']"
            ]
          },
          "metadata": {},
          "execution_count": 15
        }
      ]
    },
    {
      "cell_type": "code",
      "source": [
        "tfidf = TfidfVectorizer(preprocessor=pre_process, tokenizer=tokenize_lemma, stop_words=stop_words_spanish)\n",
        "tfs = tfidf.fit_transform(docs_raw.values())"
      ],
      "metadata": {
        "colab": {
          "base_uri": "https://localhost:8080/"
        },
        "id": "OqOIvEZVd0pe",
        "outputId": "328f7af4-81bc-4056-b81a-f089cc0af782"
      },
      "execution_count": null,
      "outputs": [
        {
          "output_type": "stream",
          "name": "stderr",
          "text": [
            "/usr/local/lib/python3.10/dist-packages/sklearn/feature_extraction/text.py:409: UserWarning: Your stop_words may be inconsistent with your preprocessing. Tokenizing the stop words generated tokens ['aao', 'alguno', 'erai', 'estarer', 'estaríar', 'ester', 'estuvir', 'estuviser', 'estuvistir', 'estuviés', 'estuviéser', 'estár', 'estéi', 'fuerai', 'fuistei', 'fuistir', 'fuérar', 'fués', 'haber', 'habríai', 'habríar', 'habíai', 'hayar', 'hubierai', 'hubir', 'hubiérar', 'hubiés', 'hubiésar', 'ir', 'nosotra', 'sentir', 'ser', 'serer', 'seríai', 'seái', 'tendréi', 'tendríai', 'tener', 'teníai', 'tuvierai', 'tuviérir', 'tuviés', 'vosotra', 'vosotro', 'vuestrir'] not in stop_words.\n",
            "  warnings.warn(\n"
          ]
        }
      ]
    },
    {
      "cell_type": "code",
      "source": [
        "docs_num, feature_num = tfs.shape\n",
        "feature_names = tfidf.get_feature_names_out()\n",
        "print(\"n_docs: %d, n_features: %d\" % tfs.shape)"
      ],
      "metadata": {
        "colab": {
          "base_uri": "https://localhost:8080/"
        },
        "id": "R0TaXmI0ejWq",
        "outputId": "be705ae5-1d1e-4b8e-efcb-2251ed76ceb0"
      },
      "execution_count": null,
      "outputs": [
        {
          "output_type": "stream",
          "name": "stdout",
          "text": [
            "n_docs: 6, n_features: 5746\n"
          ]
        }
      ]
    },
    {
      "cell_type": "code",
      "source": [
        "print(\"###### Calculo de Feature Names ######\")\n",
        "for x in range(0, feature_num):\n",
        "    print(\" # \", x ,\" - \",feature_names[x], \" \\t - \", [tfs[n,x] for n in range(0, docs_num)])\n",
        "    if x == 100:\n",
        "      break"
      ],
      "metadata": {
        "colab": {
          "base_uri": "https://localhost:8080/"
        },
        "id": "8akcygAOeno5",
        "outputId": "076e1681-0f6e-4410-bb7c-b2575670391b"
      },
      "execution_count": null,
      "outputs": [
        {
          "output_type": "stream",
          "name": "stdout",
          "text": [
            "###### Calculo de Feature Names ######\n",
            " #  0  -  aao  \t -  [0.0, 0.006166716189602489, 0.0, 0.0, 0.0, 0.0]\n",
            " #  1  -  abanderar  \t -  [0.0, 0.0, 0.0, 0.00680460295706886, 0.0, 0.0]\n",
            " #  2  -  abandonado  \t -  [0.0, 0.0, 0.00436602072924996, 0.0, 0.0, 0.0]\n",
            " #  3  -  abandonar  \t -  [0.0, 0.0, 0.007160398909554618, 0.005579871765991163, 0.0, 0.0]\n",
            " #  4  -  abandono  \t -  [0.0, 0.0, 0.0030226503875547726, 0.0, 0.005599563977536613, 0.003600400451528722]\n",
            " #  5  -  abanico  \t -  [0.0, 0.0, 0.0, 0.0, 0.008088203816539864, 0.0]\n",
            " #  6  -  abarcar  \t -  [0.0038872263944597116, 0.0, 0.0, 0.0, 0.0, 0.008529039141685736]\n",
            " #  7  -  abastecer  \t -  [0.00474043729459043, 0.0, 0.0, 0.0, 0.0, 0.0]\n",
            " #  8  -  abastecimiento  \t -  [0.019691181761476967, 0.0, 0.02720385348799295, 0.0, 0.0, 0.014401601806114888]\n",
            " #  9  -  abasto  \t -  [0.0, 0.0, 0.0, 0.0, 0.0, 0.005200542897616361]\n",
            " #  10  -  abierto  \t -  [0.012625661982778223, 0.002737401260515779, 0.017442663570368624, 0.009061676331106005, 0.010771045062866089, 0.006925552715059717]\n",
            " #  11  -  abogada  \t -  [0.0, 0.0, 0.0, 0.00680460295706886, 0.0, 0.0]\n",
            " #  12  -  abogado  \t -  [0.0, 0.0, 0.013098062187749879, 0.0, 0.0, 0.0]\n",
            " #  13  -  abordaje  \t -  [0.0, 0.003658460785171251, 0.0, 0.00403689294459025, 0.0047984008953055055, 0.0030852696423113246]\n",
            " #  14  -  abordamos  \t -  [0.00474043729459043, 0.0, 0.0, 0.0, 0.0, 0.0]\n",
            " #  15  -  abordar  \t -  [0.002812307784824505, 0.0, 0.012950908663623282, 0.01211067883377075, 0.0, 0.021596887496179273]\n",
            " #  16  -  abordar él  \t -  [0.00474043729459043, 0.0, 0.0, 0.0, 0.0, 0.0]\n",
            " #  17  -  abordarer  \t -  [0.003281863626912828, 0.0, 0.006045300775109545, 0.004710911157051221, 0.0, 0.0]\n",
            " #  18  -  abordir  \t -  [0.00474043729459043, 0.0, 0.0, 0.0, 0.0, 0.0]\n",
            " #  19  -  abra  \t -  [0.0, 0.0, 0.0, 0.0, 0.0, 0.005200542897616361]\n",
            " #  20  -  abril  \t -  [0.0038872263944597116, 0.0, 0.003580199454777309, 0.0, 0.0, 0.0]\n",
            " #  21  -  abrir  \t -  [0.008436923354473515, 0.003658460785171251, 0.010360726930898624, 0.0, 0.009596801790611011, 0.0]\n",
            " #  22  -  absoluto  \t -  [0.0, 0.0, 0.00436602072924996, 0.0, 0.0, 0.0]\n",
            " #  23  -  absorber  \t -  [0.0, 0.0, 0.0, 0.0, 0.008088203816539864, 0.0]\n",
            " #  24  -  absurdo  \t -  [0.0, 0.0, 0.00436602072924996, 0.0, 0.0, 0.0]\n",
            " #  25  -  abundancia  \t -  [0.0, 0.0, 0.00436602072924996, 0.0, 0.0, 0.0]\n",
            " #  26  -  abusador  \t -  [0.00474043729459043, 0.0, 0.0, 0.0, 0.0, 0.0]\n",
            " #  27  -  abuso  \t -  [0.002812307784824505, 0.0, 0.007770545198173969, 0.00403689294459025, 0.014395202685916516, 0.0]\n",
            " #  28  -  acabar  \t -  [0.003281863626912828, 0.004269294223814736, 0.0, 0.009421822314102442, 0.0, 0.0]\n",
            " #  29  -  academia  \t -  [0.0, 0.004269294223814736, 0.01209060155021909, 0.0, 0.01679869193260984, 0.0]\n",
            " #  30  -  académica  \t -  [0.0, 0.0, 0.0, 0.00680460295706886, 0.0, 0.0]\n",
            " #  31  -  académico  \t -  [0.0, 0.007316921570342502, 0.005180363465449312, 0.00403689294459025, 0.0047984008953055055, 0.0]\n",
            " #  32  -  acatamiento  \t -  [0.0, 0.0, 0.0, 0.01360920591413772, 0.0, 0.0]\n",
            " #  33  -  acatar  \t -  [0.0, 0.0, 0.0, 0.0, 0.008088203816539864, 0.0]\n",
            " #  34  -  accedar  \t -  [0.0, 0.0, 0.0, 0.011159743531982326, 0.006632442832922227, 0.0]\n",
            " #  35  -  acceder  \t -  [0.014571916360692657, 0.0031593735257842803, 0.0, 0.020917079795841145, 0.008287605987837954, 0.0026643771247552286]\n",
            " #  36  -  accesibilidad  \t -  [0.0, 0.004269294223814736, 0.01209060155021909, 0.0, 0.02799781988768307, 0.0]\n",
            " #  37  -  accesibl  \t -  [0.003281863626912828, 0.0, 0.0, 0.0, 0.005599563977536613, 0.007200800903057444]\n",
            " #  38  -  accesible  \t -  [0.002104276997129704, 0.002737401260515779, 0.0019380737300409583, 0.003020558777035335, 0.007180696708577393, 0.002308517571686572]\n",
            " #  39  -  acceso  \t -  [0.09258818787370697, 0.05748542647083136, 0.04457569579094204, 0.015102793885176675, 0.08616836050292871, 0.07156404472228374]\n",
            " #  40  -  accidentabilidad  \t -  [0.0, 0.0, 0.0, 0.0, 0.0, 0.005200542897616361]\n",
            " #  41  -  accidentalidad  \t -  [0.0, 0.0, 0.00873204145849992, 0.0, 0.0, 0.0]\n",
            " #  42  -  accidente  \t -  [0.0, 0.0, 0.007160398909554618, 0.005579871765991163, 0.0, 0.0]\n",
            " #  43  -  accionar  \t -  [0.0, 0.0, 0.0, 0.0, 0.008088203816539864, 0.0]\n",
            " #  44  -  accionario  \t -  [0.0, 0.0, 0.0, 0.0, 0.02426461144961959, 0.0]\n",
            " #  45  -  acción  \t -  [0.07996252589092874, 0.04106101890773669, 0.04845184325102395, 0.02416447021628268, 0.017951741771443482, 0.05309590414879116]\n",
            " #  46  -  acechar  \t -  [0.0, 0.0, 0.00436602072924996, 0.0, 0.0, 0.0]\n",
            " #  47  -  aceleración  \t -  [0.0, 0.0, 0.0, 0.0, 0.006632442832922227, 0.004264519570842868]\n",
            " #  48  -  acelerado  \t -  [0.00474043729459043, 0.0, 0.0, 0.0, 0.0, 0.0]\n",
            " #  49  -  acelerar  \t -  [0.0, 0.0, 0.007160398909554618, 0.0, 0.013264885665844455, 0.0]\n",
            " #  50  -  acentuar  \t -  [0.0, 0.0, 0.0, 0.0, 0.008088203816539864, 0.0]\n",
            " #  51  -  acentúar  \t -  [0.0038872263944597116, 0.0, 0.0, 0.0, 0.0, 0.004264519570842868]\n",
            " #  52  -  acera  \t -  [0.00474043729459043, 0.0, 0.0, 0.0, 0.0, 0.0]\n",
            " #  53  -  acercamiento  \t -  [0.0, 0.0, 0.0, 0.00680460295706886, 0.0, 0.0]\n",
            " #  54  -  acercar  \t -  [0.008436923354473515, 0.003658460785171251, 0.0, 0.00403689294459025, 0.0, 0.0030852696423113246]\n",
            " #  55  -  acercar él  \t -  [0.0, 0.0, 0.0, 0.0, 0.006632442832922227, 0.004264519570842868]\n",
            " #  56  -  acertado  \t -  [0.0, 0.0, 0.00436602072924996, 0.0, 0.0, 0.0]\n",
            " #  57  -  acierto  \t -  [0.0, 0.006166716189602489, 0.0, 0.0, 0.0, 0.0]\n",
            " #  58  -  acogedoro  \t -  [0.00474043729459043, 0.0, 0.0, 0.0, 0.0, 0.0]\n",
            " #  59  -  acoger  \t -  [0.0038872263944597116, 0.0, 0.0, 0.005579871765991163, 0.0, 0.0]\n",
            " #  60  -  acogeré  \t -  [0.0, 0.0, 0.0, 0.00680460295706886, 0.0, 0.0]\n",
            " #  61  -  acogida  \t -  [0.0, 0.0, 0.0, 0.0, 0.008088203816539864, 0.0]\n",
            " #  62  -  acogimientir  \t -  [0.00474043729459043, 0.0, 0.0, 0.0, 0.0, 0.0]\n",
            " #  63  -  acompañado  \t -  [0.0, 0.007316921570342502, 0.0, 0.00403689294459025, 0.009596801790611011, 0.0030852696423113246]\n",
            " #  64  -  acompañamiento  \t -  [0.0072859581803463285, 0.05370934993833276, 0.008947316452328487, 0.01743089982986762, 0.0, 0.007993131374265687]\n",
            " #  65  -  acompañando él  \t -  [0.0, 0.006166716189602489, 0.0, 0.0, 0.0, 0.0]\n",
            " #  66  -  acompañar  \t -  [0.004208553994259408, 0.008212203781547337, 0.0019380737300409583, 0.00604111755407067, 0.014361393417154786, 0.002308517571686572]\n",
            " #  67  -  acondicionamiento  \t -  [0.0, 0.012333432379204978, 0.0, 0.0, 0.0, 0.0]\n",
            " #  68  -  acopio  \t -  [0.00474043729459043, 0.0, 0.0, 0.0, 0.0, 0.0]\n",
            " #  69  -  acordar  \t -  [0.0038872263944597116, 0.0, 0.0, 0.0, 0.0, 0.004264519570842868]\n",
            " #  70  -  acorde  \t -  [0.0038872263944597116, 0.005056795491572033, 0.0, 0.0, 0.0, 0.0]\n",
            " #  71  -  acortamiento  \t -  [0.0, 0.006166716189602489, 0.0, 0.0, 0.0, 0.0]\n",
            " #  72  -  acoso  \t -  [0.002812307784824505, 0.007316921570342502, 0.005180363465449312, 0.0, 0.0047984008953055055, 0.0]\n",
            " #  73  -  acostumbrar  \t -  [0.0, 0.0, 0.0, 0.00680460295706886, 0.0, 0.0]\n",
            " #  74  -  acróbata  \t -  [0.0, 0.0, 0.0, 0.00680460295706886, 0.0, 0.0]\n",
            " #  75  -  actitud  \t -  [0.0, 0.010113590983144067, 0.0, 0.0, 0.006632442832922227, 0.0]\n",
            " #  76  -  activación  \t -  [0.0038872263944597116, 0.010113590983144067, 0.0, 0.0, 0.0, 0.0]\n",
            " #  77  -  activamente  \t -  [0.00562461556964901, 0.0, 0.007770545198173969, 0.00403689294459025, 0.0, 0.006170539284622649]\n",
            " #  78  -  activar  \t -  [0.0, 0.0, 0.0, 0.004710911157051221, 0.005599563977536613, 0.003600400451528722]\n",
            " #  79  -  activaremos  \t -  [0.0, 0.0, 0.0, 0.0, 0.0, 0.015601628692849083]\n",
            " #  80  -  actividad  \t -  [0.03366843195407526, 0.03558621638670513, 0.05426606444114683, 0.01812335266221201, 0.028722786834309573, 0.023085175716865722]\n",
            " #  81  -  activista  \t -  [0.00948087458918086, 0.0, 0.0, 0.0, 0.0, 0.0]\n",
            " #  82  -  activo  \t -  [0.01052138498564852, 0.03558621638670513, 0.011628442380245749, 0.009061676331106005, 0.028722786834309573, 0.02077665814517915]\n",
            " #  83  -  acto  \t -  [0.006312830991389112, 0.002737401260515779, 0.0058142211901228745, 0.003020558777035335, 0.0035903483542886966, 0.002308517571686572]\n",
            " #  84  -  actor  \t -  [0.012143263633910545, 0.0, 0.03578926580931395, 0.006972359931947047, 0.012431408981756932, 0.013321885623776144]\n",
            " #  85  -  acttivo  \t -  [0.0, 0.0, 0.00436602072924996, 0.0, 0.0, 0.0]\n",
            " #  86  -  actuación  \t -  [0.002812307784824505, 0.007316921570342502, 0.005180363465449312, 0.0080737858891805, 0.0, 0.0]\n",
            " #  87  -  actual  \t -  [0.002104276997129704, 0.010949605042063116, 0.011628442380245749, 0.009061676331106005, 0.017951741771443482, 0.011542587858432861]\n",
            " #  88  -  actualidad  \t -  [0.0, 0.0, 0.003580199454777309, 0.0, 0.0, 0.004264519570842868]\n",
            " #  89  -  actualización  \t -  [0.009845590880738483, 0.0, 0.009067951162664317, 0.0, 0.0, 0.003600400451528722]\n",
            " #  90  -  actualizada  \t -  [0.00474043729459043, 0.0, 0.0, 0.0, 0.0, 0.0]\n",
            " #  91  -  actualizado  \t -  [0.003281863626912828, 0.004269294223814736, 0.0030226503875547726, 0.0, 0.0, 0.0]\n",
            " #  92  -  actualizar  \t -  [0.0, 0.0, 0.0030226503875547726, 0.0, 0.005599563977536613, 0.003600400451528722]\n",
            " #  93  -  actualizarer  \t -  [0.00474043729459043, 0.0, 0.0, 0.0, 0.0, 0.0]\n",
            " #  94  -  actualmente  \t -  [0.002812307784824505, 0.003658460785171251, 0.010360726930898624, 0.016147571778361, 0.0, 0.0]\n",
            " #  95  -  actuar  \t -  [0.004857305453564218, 0.0031593735257842803, 0.002236829113082122, 0.0034861799659735237, 0.016575211975675908, 0.0]\n",
            " #  96  -  actúar  \t -  [0.0, 0.003658460785171251, 0.002590181732724656, 0.00403689294459025, 0.0047984008953055055, 0.0]\n",
            " #  97  -  acudir  \t -  [0.0, 0.0, 0.0, 0.00680460295706886, 0.0, 0.0]\n",
            " #  98  -  acueducto  \t -  [0.019691181761476967, 0.0, 0.0, 0.004710911157051221, 0.01679869193260984, 0.0]\n",
            " #  99  -  acuerdo  \t -  [0.01683421597703763, 0.03284881512618935, 0.027133032220573415, 0.003020558777035335, 0.043084180251464356, 0.03924479871867173]\n",
            " #  100  -  acumulado  \t -  [0.0038872263944597116, 0.0, 0.0, 0.0, 0.0, 0.004264519570842868]\n"
          ]
        }
      ]
    },
    {
      "cell_type": "code",
      "source": [
        "response = tfidf.transform([wordlists.raw('2023_Galan.txt')])\n",
        "\n",
        "print('response:', response)\n",
        "cosine_similarity_response =  cosine_similarity(response, tfs)\n",
        "print(\"n_question: %d, n_features: %d\" % response.shape)\n",
        "print(\"cosine_similarity \", cosine_similarity_response)"
      ],
      "metadata": {
        "colab": {
          "base_uri": "https://localhost:8080/"
        },
        "id": "-ZtLmfjneQaN",
        "outputId": "ed33de57-feb7-4928-fdf6-d7f687f31191"
      },
      "execution_count": null,
      "outputs": [
        {
          "output_type": "stream",
          "name": "stdout",
          "text": [
            "response:   (0, 5730)\t0.01368700630257887\n",
            "  (0, 5727)\t0.016424407563094642\n",
            "  (0, 5723)\t0.006166716189602477\n",
            "  (0, 5720)\t0.010949605042063095\n",
            "  (0, 5716)\t0.010975382355513732\n",
            "  (0, 5713)\t0.010949605042063095\n",
            "  (0, 5712)\t0.012333432379204954\n",
            "  (0, 5711)\t0.030111413865673516\n",
            "  (0, 5710)\t0.014633843140684976\n",
            "  (0, 5707)\t0.010975382355513732\n",
            "  (0, 5705)\t0.015170386474716071\n",
            "  (0, 5703)\t0.018956241154705646\n",
            "  (0, 5702)\t0.04106101890773661\n",
            "  (0, 5696)\t0.006166716189602477\n",
            "  (0, 5689)\t0.006166716189602477\n",
            "  (0, 5686)\t0.02737401260515774\n",
            "  (0, 5684)\t0.016424407563094642\n",
            "  (0, 5682)\t0.018500148568807433\n",
            "  (0, 5681)\t0.0031593735257842742\n",
            "  (0, 5680)\t0.0063187470515685485\n",
            "  (0, 5676)\t0.005056795491572024\n",
            "  (0, 5674)\t0.004269294223814728\n",
            "  (0, 5672)\t0.004269294223814728\n",
            "  (0, 5671)\t0.010113590983144048\n",
            "  (0, 5664)\t0.012637494103137097\n",
            "  :\t:\n",
            "  (0, 80)\t0.03558621638670506\n",
            "  (0, 76)\t0.010113590983144048\n",
            "  (0, 75)\t0.010113590983144048\n",
            "  (0, 72)\t0.007316921570342488\n",
            "  (0, 71)\t0.006166716189602477\n",
            "  (0, 70)\t0.005056795491572024\n",
            "  (0, 67)\t0.012333432379204954\n",
            "  (0, 66)\t0.008212203781547321\n",
            "  (0, 65)\t0.006166716189602477\n",
            "  (0, 64)\t0.05370934993833266\n",
            "  (0, 63)\t0.007316921570342488\n",
            "  (0, 57)\t0.006166716189602477\n",
            "  (0, 54)\t0.003658460785171244\n",
            "  (0, 45)\t0.04106101890773661\n",
            "  (0, 39)\t0.057485426470831255\n",
            "  (0, 38)\t0.002737401260515774\n",
            "  (0, 36)\t0.004269294223814728\n",
            "  (0, 35)\t0.0031593735257842742\n",
            "  (0, 31)\t0.007316921570342488\n",
            "  (0, 29)\t0.004269294223814728\n",
            "  (0, 28)\t0.004269294223814728\n",
            "  (0, 21)\t0.003658460785171244\n",
            "  (0, 13)\t0.003658460785171244\n",
            "  (0, 10)\t0.002737401260515774\n",
            "  (0, 0)\t0.006166716189602477\n",
            "n_question: 1, n_features: 5746\n",
            "cosine_similarity  [[0.71174152 1.         0.69766772 0.69337609 0.69248113 0.70141624]]\n"
          ]
        }
      ]
    },
    {
      "cell_type": "code",
      "source": [
        "response"
      ],
      "metadata": {
        "colab": {
          "base_uri": "https://localhost:8080/"
        },
        "id": "Ckriju271Y4V",
        "outputId": "814463a1-39b0-4bc6-bda1-072afda6d2cf"
      },
      "execution_count": null,
      "outputs": [
        {
          "output_type": "execute_result",
          "data": {
            "text/plain": [
              "<1x136 sparse matrix of type '<class 'numpy.float64'>'\n",
              "\twith 10 stored elements in Compressed Sparse Row format>"
            ]
          },
          "metadata": {},
          "execution_count": 10
        }
      ]
    },
    {
      "cell_type": "code",
      "source": [
        "!pip install joblib\n"
      ],
      "metadata": {
        "colab": {
          "base_uri": "https://localhost:8080/"
        },
        "id": "UZZ1oev02ksP",
        "outputId": "6c33880c-aa64-4e54-f6c6-e94c4573cebd"
      },
      "execution_count": null,
      "outputs": [
        {
          "output_type": "stream",
          "name": "stdout",
          "text": [
            "Requirement already satisfied: joblib in /usr/local/lib/python3.10/dist-packages (1.3.2)\n"
          ]
        }
      ]
    },
    {
      "cell_type": "code",
      "source": [
        "import pandas as pd\n",
        "dict_data = []\n",
        "count = 0\n",
        "for item in docs_raw:\n",
        "  dict_data.append({'index': count, 'text': item})\n",
        "  count += 1\n",
        "df = pd.DataFrame.from_records(dict_data) # columns=['index', 'text']\n",
        "df"
      ],
      "metadata": {
        "colab": {
          "base_uri": "https://localhost:8080/",
          "height": 174
        },
        "id": "PttgnjSDOCQm",
        "outputId": "0fdbfdcb-000c-4d41-b2c3-e1eac4ad4c42"
      },
      "execution_count": null,
      "outputs": [
        {
          "output_type": "execute_result",
          "data": {
            "text/plain": [
              "   index                                               text\n",
              "0      0  El precio del dólar en el mercado interbancari...\n",
              "1      1  Helicóptero del Ejército, que transportaba una...\n",
              "2      2  Los préstamos de dinero a partir del crédito, ...\n",
              "3      3  Samuel Santander Lopesierra, más conocido como..."
            ],
            "text/html": [
              "\n",
              "  <div id=\"df-65b33530-a328-4002-b4da-62d0e7a4794a\" class=\"colab-df-container\">\n",
              "    <div>\n",
              "<style scoped>\n",
              "    .dataframe tbody tr th:only-of-type {\n",
              "        vertical-align: middle;\n",
              "    }\n",
              "\n",
              "    .dataframe tbody tr th {\n",
              "        vertical-align: top;\n",
              "    }\n",
              "\n",
              "    .dataframe thead th {\n",
              "        text-align: right;\n",
              "    }\n",
              "</style>\n",
              "<table border=\"1\" class=\"dataframe\">\n",
              "  <thead>\n",
              "    <tr style=\"text-align: right;\">\n",
              "      <th></th>\n",
              "      <th>index</th>\n",
              "      <th>text</th>\n",
              "    </tr>\n",
              "  </thead>\n",
              "  <tbody>\n",
              "    <tr>\n",
              "      <th>0</th>\n",
              "      <td>0</td>\n",
              "      <td>El precio del dólar en el mercado interbancari...</td>\n",
              "    </tr>\n",
              "    <tr>\n",
              "      <th>1</th>\n",
              "      <td>1</td>\n",
              "      <td>Helicóptero del Ejército, que transportaba una...</td>\n",
              "    </tr>\n",
              "    <tr>\n",
              "      <th>2</th>\n",
              "      <td>2</td>\n",
              "      <td>Los préstamos de dinero a partir del crédito, ...</td>\n",
              "    </tr>\n",
              "    <tr>\n",
              "      <th>3</th>\n",
              "      <td>3</td>\n",
              "      <td>Samuel Santander Lopesierra, más conocido como...</td>\n",
              "    </tr>\n",
              "  </tbody>\n",
              "</table>\n",
              "</div>\n",
              "    <div class=\"colab-df-buttons\">\n",
              "\n",
              "  <div class=\"colab-df-container\">\n",
              "    <button class=\"colab-df-convert\" onclick=\"convertToInteractive('df-65b33530-a328-4002-b4da-62d0e7a4794a')\"\n",
              "            title=\"Convert this dataframe to an interactive table.\"\n",
              "            style=\"display:none;\">\n",
              "\n",
              "  <svg xmlns=\"http://www.w3.org/2000/svg\" height=\"24px\" viewBox=\"0 -960 960 960\">\n",
              "    <path d=\"M120-120v-720h720v720H120Zm60-500h600v-160H180v160Zm220 220h160v-160H400v160Zm0 220h160v-160H400v160ZM180-400h160v-160H180v160Zm440 0h160v-160H620v160ZM180-180h160v-160H180v160Zm440 0h160v-160H620v160Z\"/>\n",
              "  </svg>\n",
              "    </button>\n",
              "\n",
              "  <style>\n",
              "    .colab-df-container {\n",
              "      display:flex;\n",
              "      gap: 12px;\n",
              "    }\n",
              "\n",
              "    .colab-df-convert {\n",
              "      background-color: #E8F0FE;\n",
              "      border: none;\n",
              "      border-radius: 50%;\n",
              "      cursor: pointer;\n",
              "      display: none;\n",
              "      fill: #1967D2;\n",
              "      height: 32px;\n",
              "      padding: 0 0 0 0;\n",
              "      width: 32px;\n",
              "    }\n",
              "\n",
              "    .colab-df-convert:hover {\n",
              "      background-color: #E2EBFA;\n",
              "      box-shadow: 0px 1px 2px rgba(60, 64, 67, 0.3), 0px 1px 3px 1px rgba(60, 64, 67, 0.15);\n",
              "      fill: #174EA6;\n",
              "    }\n",
              "\n",
              "    .colab-df-buttons div {\n",
              "      margin-bottom: 4px;\n",
              "    }\n",
              "\n",
              "    [theme=dark] .colab-df-convert {\n",
              "      background-color: #3B4455;\n",
              "      fill: #D2E3FC;\n",
              "    }\n",
              "\n",
              "    [theme=dark] .colab-df-convert:hover {\n",
              "      background-color: #434B5C;\n",
              "      box-shadow: 0px 1px 3px 1px rgba(0, 0, 0, 0.15);\n",
              "      filter: drop-shadow(0px 1px 2px rgba(0, 0, 0, 0.3));\n",
              "      fill: #FFFFFF;\n",
              "    }\n",
              "  </style>\n",
              "\n",
              "    <script>\n",
              "      const buttonEl =\n",
              "        document.querySelector('#df-65b33530-a328-4002-b4da-62d0e7a4794a button.colab-df-convert');\n",
              "      buttonEl.style.display =\n",
              "        google.colab.kernel.accessAllowed ? 'block' : 'none';\n",
              "\n",
              "      async function convertToInteractive(key) {\n",
              "        const element = document.querySelector('#df-65b33530-a328-4002-b4da-62d0e7a4794a');\n",
              "        const dataTable =\n",
              "          await google.colab.kernel.invokeFunction('convertToInteractive',\n",
              "                                                    [key], {});\n",
              "        if (!dataTable) return;\n",
              "\n",
              "        const docLinkHtml = 'Like what you see? Visit the ' +\n",
              "          '<a target=\"_blank\" href=https://colab.research.google.com/notebooks/data_table.ipynb>data table notebook</a>'\n",
              "          + ' to learn more about interactive tables.';\n",
              "        element.innerHTML = '';\n",
              "        dataTable['output_type'] = 'display_data';\n",
              "        await google.colab.output.renderOutput(dataTable, element);\n",
              "        const docLink = document.createElement('div');\n",
              "        docLink.innerHTML = docLinkHtml;\n",
              "        element.appendChild(docLink);\n",
              "      }\n",
              "    </script>\n",
              "  </div>\n",
              "\n",
              "\n",
              "<div id=\"df-3f8c6226-618a-4cb0-9502-7f2efcb5eb9e\">\n",
              "  <button class=\"colab-df-quickchart\" onclick=\"quickchart('df-3f8c6226-618a-4cb0-9502-7f2efcb5eb9e')\"\n",
              "            title=\"Suggest charts.\"\n",
              "            style=\"display:none;\">\n",
              "\n",
              "<svg xmlns=\"http://www.w3.org/2000/svg\" height=\"24px\"viewBox=\"0 0 24 24\"\n",
              "     width=\"24px\">\n",
              "    <g>\n",
              "        <path d=\"M19 3H5c-1.1 0-2 .9-2 2v14c0 1.1.9 2 2 2h14c1.1 0 2-.9 2-2V5c0-1.1-.9-2-2-2zM9 17H7v-7h2v7zm4 0h-2V7h2v10zm4 0h-2v-4h2v4z\"/>\n",
              "    </g>\n",
              "</svg>\n",
              "  </button>\n",
              "\n",
              "<style>\n",
              "  .colab-df-quickchart {\n",
              "      --bg-color: #E8F0FE;\n",
              "      --fill-color: #1967D2;\n",
              "      --hover-bg-color: #E2EBFA;\n",
              "      --hover-fill-color: #174EA6;\n",
              "      --disabled-fill-color: #AAA;\n",
              "      --disabled-bg-color: #DDD;\n",
              "  }\n",
              "\n",
              "  [theme=dark] .colab-df-quickchart {\n",
              "      --bg-color: #3B4455;\n",
              "      --fill-color: #D2E3FC;\n",
              "      --hover-bg-color: #434B5C;\n",
              "      --hover-fill-color: #FFFFFF;\n",
              "      --disabled-bg-color: #3B4455;\n",
              "      --disabled-fill-color: #666;\n",
              "  }\n",
              "\n",
              "  .colab-df-quickchart {\n",
              "    background-color: var(--bg-color);\n",
              "    border: none;\n",
              "    border-radius: 50%;\n",
              "    cursor: pointer;\n",
              "    display: none;\n",
              "    fill: var(--fill-color);\n",
              "    height: 32px;\n",
              "    padding: 0;\n",
              "    width: 32px;\n",
              "  }\n",
              "\n",
              "  .colab-df-quickchart:hover {\n",
              "    background-color: var(--hover-bg-color);\n",
              "    box-shadow: 0 1px 2px rgba(60, 64, 67, 0.3), 0 1px 3px 1px rgba(60, 64, 67, 0.15);\n",
              "    fill: var(--button-hover-fill-color);\n",
              "  }\n",
              "\n",
              "  .colab-df-quickchart-complete:disabled,\n",
              "  .colab-df-quickchart-complete:disabled:hover {\n",
              "    background-color: var(--disabled-bg-color);\n",
              "    fill: var(--disabled-fill-color);\n",
              "    box-shadow: none;\n",
              "  }\n",
              "\n",
              "  .colab-df-spinner {\n",
              "    border: 2px solid var(--fill-color);\n",
              "    border-color: transparent;\n",
              "    border-bottom-color: var(--fill-color);\n",
              "    animation:\n",
              "      spin 1s steps(1) infinite;\n",
              "  }\n",
              "\n",
              "  @keyframes spin {\n",
              "    0% {\n",
              "      border-color: transparent;\n",
              "      border-bottom-color: var(--fill-color);\n",
              "      border-left-color: var(--fill-color);\n",
              "    }\n",
              "    20% {\n",
              "      border-color: transparent;\n",
              "      border-left-color: var(--fill-color);\n",
              "      border-top-color: var(--fill-color);\n",
              "    }\n",
              "    30% {\n",
              "      border-color: transparent;\n",
              "      border-left-color: var(--fill-color);\n",
              "      border-top-color: var(--fill-color);\n",
              "      border-right-color: var(--fill-color);\n",
              "    }\n",
              "    40% {\n",
              "      border-color: transparent;\n",
              "      border-right-color: var(--fill-color);\n",
              "      border-top-color: var(--fill-color);\n",
              "    }\n",
              "    60% {\n",
              "      border-color: transparent;\n",
              "      border-right-color: var(--fill-color);\n",
              "    }\n",
              "    80% {\n",
              "      border-color: transparent;\n",
              "      border-right-color: var(--fill-color);\n",
              "      border-bottom-color: var(--fill-color);\n",
              "    }\n",
              "    90% {\n",
              "      border-color: transparent;\n",
              "      border-bottom-color: var(--fill-color);\n",
              "    }\n",
              "  }\n",
              "</style>\n",
              "\n",
              "  <script>\n",
              "    async function quickchart(key) {\n",
              "      const quickchartButtonEl =\n",
              "        document.querySelector('#' + key + ' button');\n",
              "      quickchartButtonEl.disabled = true;  // To prevent multiple clicks.\n",
              "      quickchartButtonEl.classList.add('colab-df-spinner');\n",
              "      try {\n",
              "        const charts = await google.colab.kernel.invokeFunction(\n",
              "            'suggestCharts', [key], {});\n",
              "      } catch (error) {\n",
              "        console.error('Error during call to suggestCharts:', error);\n",
              "      }\n",
              "      quickchartButtonEl.classList.remove('colab-df-spinner');\n",
              "      quickchartButtonEl.classList.add('colab-df-quickchart-complete');\n",
              "    }\n",
              "    (() => {\n",
              "      let quickchartButtonEl =\n",
              "        document.querySelector('#df-3f8c6226-618a-4cb0-9502-7f2efcb5eb9e button');\n",
              "      quickchartButtonEl.style.display =\n",
              "        google.colab.kernel.accessAllowed ? 'block' : 'none';\n",
              "    })();\n",
              "  </script>\n",
              "</div>\n",
              "    </div>\n",
              "  </div>\n"
            ]
          },
          "metadata": {},
          "execution_count": 12
        }
      ]
    },
    {
      "cell_type": "code",
      "source": [
        "from joblib import dump\n",
        "from datetime import datetime\n",
        "data_filename_tf_idf = f\"{datetime.now().strftime('%Y-%m-%d')}_file_tfidf.vec\"\n",
        "data_filename_tfs = f\"{datetime.now().strftime('%Y-%m-%d')}_file_tfs.pkl\"\n",
        "data_filename_df = f\"{datetime.now().strftime('%Y-%m-%d')}_file_df_docs.pkl\"\n",
        "dump(tfidf, data_filename_tf_idf)\n",
        "dump(tfs, data_filename_tfs)\n",
        "dump(df, data_filename_df)"
      ],
      "metadata": {
        "colab": {
          "base_uri": "https://localhost:8080/"
        },
        "id": "MSp1_YdX3ita",
        "outputId": "445db5e2-b966-41bb-c7ba-65f383474d00"
      },
      "execution_count": null,
      "outputs": [
        {
          "output_type": "execute_result",
          "data": {
            "text/plain": [
              "['2023-09-28_file_df_docs.pkl']"
            ]
          },
          "metadata": {},
          "execution_count": 13
        }
      ]
    },
    {
      "cell_type": "code",
      "source": [
        "from joblib import load\n",
        "tf_idf_2_re = load('2023-09-28_file_tfidf.vec', mmap_mode='r')"
      ],
      "metadata": {
        "id": "FkD8w2wq4sRv"
      },
      "execution_count": null,
      "outputs": []
    },
    {
      "cell_type": "code",
      "source": [
        "response = tf_idf_2_re.transform([\"Hay un articulo que hable del precio del dolar.\"])\n",
        "print('response:', response)\n",
        "cosine_similarity_response =  cosine_similarity(response, tfs)\n",
        "print(\"n_question: %d, n_features: %d\" % response.shape)\n",
        "print(\"cosine_similarity \", cosine_similarity_response)"
      ],
      "metadata": {
        "colab": {
          "base_uri": "https://localhost:8080/"
        },
        "id": "YjDxsJKp467y",
        "outputId": "9369655f-97e7-49c9-f4b8-84b40f177e3e"
      },
      "execution_count": null,
      "outputs": [
        {
          "output_type": "stream",
          "name": "stdout",
          "text": [
            "response:   (0, 100)\t0.7071067811865476\n",
            "  (0, 37)\t0.7071067811865476\n",
            "n_question: 1, n_features: 136\n",
            "cosine_similarity  [[0.44934408 0.         0.         0.        ]]\n"
          ]
        },
        {
          "output_type": "stream",
          "name": "stderr",
          "text": [
            "/usr/local/lib/python3.10/dist-packages/sklearn/feature_extraction/text.py:409: UserWarning: Your stop_words may be inconsistent with your preprocessing. Tokenizing the stop words generated tokens ['algun', 'com', 'contr', 'cuand', 'desd', 'dond', 'durant', 'eram', 'estab', 'estais', 'estam', 'estan', 'estand', 'estaran', 'estaras', 'esteis', 'estem', 'esten', 'estes', 'estuv', 'fuer', 'fues', 'fuim', 'fuist', 'hab', 'habr', 'habran', 'habras', 'hast', 'hem', 'hub', 'mas', 'mia', 'mias', 'mio', 'mios', 'much', 'nad', 'nosotr', 'nuestr', 'par', 'per', 'poc', 'porqu', 'qui', 'seais', 'seam', 'sent', 'ser', 'seran', 'seras', 'si', 'sient', 'sint', 'sobr', 'som', 'suy', 'tambien', 'tant', 'ten', 'tendr', 'tendran', 'tendras', 'teng', 'tien', 'tod', 'tuv', 'tuy', 'vosotr', 'vuestr'] not in stop_words.\n",
            "  warnings.warn(\n"
          ]
        }
      ]
    },
    {
      "cell_type": "code",
      "source": [
        "import unicodedata\n",
        "def proper_encoding(text):\n",
        "    # print('text: ', text)\n",
        "    text = unicodedata.normalize('NFD', text)\n",
        "    text = text.encode('ascii', 'ignore')\n",
        "    text = text.decode(\"utf-8\")\n",
        "    return text"
      ],
      "metadata": {
        "id": "An19Prqn7tPM"
      },
      "execution_count": null,
      "outputs": []
    },
    {
      "cell_type": "code",
      "source": [
        "text = \"Holá niño otro lingüística.\"\n",
        "print(proper_encoding(text))"
      ],
      "metadata": {
        "colab": {
          "base_uri": "https://localhost:8080/"
        },
        "id": "f7Bk3Q4P71hQ",
        "outputId": "a5c74b6a-577e-44fa-8305-e838c5e409cc"
      },
      "execution_count": null,
      "outputs": [
        {
          "output_type": "stream",
          "name": "stdout",
          "text": [
            "Hola nino otro linguistica.\n"
          ]
        }
      ]
    },
    {
      "cell_type": "code",
      "source": [
        "from google.colab import drive\n",
        "drive.mount('/content/drive')"
      ],
      "metadata": {
        "id": "6tfBGfdPynZr"
      },
      "execution_count": null,
      "outputs": []
    }
  ]
}