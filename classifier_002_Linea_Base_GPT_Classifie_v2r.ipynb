{
  "nbformat": 4,
  "nbformat_minor": 0,
  "metadata": {
    "colab": {
      "provenance": [],
      "include_colab_link": true
    },
    "kernelspec": {
      "name": "python3",
      "display_name": "Python 3"
    },
    "language_info": {
      "name": "python"
    }
  },
  "cells": [
    {
      "cell_type": "markdown",
      "metadata": {
        "id": "view-in-github",
        "colab_type": "text"
      },
      "source": [
        "<a href=\"https://colab.research.google.com/github/lauratcc18/IAMINTIC/blob/main/classifier_002_Linea_Base_GPT_Classifie_v2r.ipynb\" target=\"_parent\"><img src=\"https://colab.research.google.com/assets/colab-badge.svg\" alt=\"Open In Colab\"/></a>"
      ]
    },
    {
      "cell_type": "code",
      "execution_count": null,
      "metadata": {
        "colab": {
          "base_uri": "https://localhost:8080/"
        },
        "id": "CMNJYXUW3DBj",
        "outputId": "cde8082d-7529-4954-9315-87c26af31004"
      },
      "outputs": [
        {
          "output_type": "stream",
          "name": "stderr",
          "text": [
            "[nltk_data] Downloading package stopwords to /root/nltk_data...\n",
            "[nltk_data]   Unzipping corpora/stopwords.zip.\n"
          ]
        },
        {
          "output_type": "execute_result",
          "data": {
            "text/plain": [
              "True"
            ]
          },
          "metadata": {},
          "execution_count": 1
        }
      ],
      "source": [
        "import pandas as pd\n",
        "import numpy as np\n",
        "\n",
        "from sklearn.feature_extraction.text import TfidfVectorizer\n",
        "from sklearn.linear_model import LogisticRegression\n",
        "from sklearn.metrics import f1_score\n",
        "from sklearn.metrics import classification_report\n",
        "import nltk\n",
        "\n",
        "from tqdm import tqdm\n",
        "\n",
        "\n",
        "nltk.download ('stopwords')"
      ]
    },
    {
      "cell_type": "code",
      "source": [
        "corpus_all_3000 = \"https://docs.google.com/spreadsheets/d/e/2PACX-1vRK-iTaMXi5romNgBGV1SGwit-84hJEGYTGhR7QpPAiESQCcvvd2PQwGw1lFnfBaQ/pub?output=xlsx\"\n",
        "corpus_all_1000 ='https://docs.google.com/spreadsheets/d/e/2PACX-1vQ0J2ePgRoeaFtsQYieFE0LWw4A8wO6jJWIMnx5sLgO1TLMFHXfEAmvAYdYvrJeIQ/pub?output=xlsx'\n",
        "df = pd.read_excel(corpus_all_3000)\n",
        "df"
      ],
      "metadata": {
        "colab": {
          "base_uri": "https://localhost:8080/",
          "height": 424
        },
        "id": "vzKiXiBL24Ql",
        "outputId": "c3f3eae6-d965-42d2-87bd-4df60b216956"
      },
      "execution_count": null,
      "outputs": [
        {
          "output_type": "execute_result",
          "data": {
            "text/plain": [
              "                                                  Texto Tipo de fuente  \\\n",
              "0     El rey de los animales Se reunieron los animal...        Cuentos   \n",
              "1     Domingo 7 Había una vez dos compadres jorobado...        Cuentos   \n",
              "2     Francisco El Hombre En los albores del siglo X...        Cuentos   \n",
              "3     Aminta Peláez- La leyenda de Wareke Hace muchí...        Cuentos   \n",
              "4     EL OASIS DE BELISSAMA ATLAUA pASeABA Con BeLis...        Cuentos   \n",
              "...                                                 ...            ...   \n",
              "3843  la justicia es la base de la democracia y el e...         Tweets   \n",
              "3844  la violencia y la delincuencia son una amenaza...         Tweets   \n",
              "3845  la educación es la base d. es importante que s...         Tweets   \n",
              "3846  la economía es un factor clave para el bienest...         Tweets   \n",
              "3847  la paz es un anhelo de todos los colombianos. ...         Tweets   \n",
              "\n",
              "     Clasificacion  \n",
              "0            Human  \n",
              "1            Human  \n",
              "2            Human  \n",
              "3            Human  \n",
              "4            Human  \n",
              "...            ...  \n",
              "3843           LLM  \n",
              "3844           LLM  \n",
              "3845           LLM  \n",
              "3846           LLM  \n",
              "3847           LLM  \n",
              "\n",
              "[3848 rows x 3 columns]"
            ],
            "text/html": [
              "\n",
              "  <div id=\"df-9fa59e6c-740c-4f97-aae1-37b09da85f41\" class=\"colab-df-container\">\n",
              "    <div>\n",
              "<style scoped>\n",
              "    .dataframe tbody tr th:only-of-type {\n",
              "        vertical-align: middle;\n",
              "    }\n",
              "\n",
              "    .dataframe tbody tr th {\n",
              "        vertical-align: top;\n",
              "    }\n",
              "\n",
              "    .dataframe thead th {\n",
              "        text-align: right;\n",
              "    }\n",
              "</style>\n",
              "<table border=\"1\" class=\"dataframe\">\n",
              "  <thead>\n",
              "    <tr style=\"text-align: right;\">\n",
              "      <th></th>\n",
              "      <th>Texto</th>\n",
              "      <th>Tipo de fuente</th>\n",
              "      <th>Clasificacion</th>\n",
              "    </tr>\n",
              "  </thead>\n",
              "  <tbody>\n",
              "    <tr>\n",
              "      <th>0</th>\n",
              "      <td>El rey de los animales Se reunieron los animal...</td>\n",
              "      <td>Cuentos</td>\n",
              "      <td>Human</td>\n",
              "    </tr>\n",
              "    <tr>\n",
              "      <th>1</th>\n",
              "      <td>Domingo 7 Había una vez dos compadres jorobado...</td>\n",
              "      <td>Cuentos</td>\n",
              "      <td>Human</td>\n",
              "    </tr>\n",
              "    <tr>\n",
              "      <th>2</th>\n",
              "      <td>Francisco El Hombre En los albores del siglo X...</td>\n",
              "      <td>Cuentos</td>\n",
              "      <td>Human</td>\n",
              "    </tr>\n",
              "    <tr>\n",
              "      <th>3</th>\n",
              "      <td>Aminta Peláez- La leyenda de Wareke Hace muchí...</td>\n",
              "      <td>Cuentos</td>\n",
              "      <td>Human</td>\n",
              "    </tr>\n",
              "    <tr>\n",
              "      <th>4</th>\n",
              "      <td>EL OASIS DE BELISSAMA ATLAUA pASeABA Con BeLis...</td>\n",
              "      <td>Cuentos</td>\n",
              "      <td>Human</td>\n",
              "    </tr>\n",
              "    <tr>\n",
              "      <th>...</th>\n",
              "      <td>...</td>\n",
              "      <td>...</td>\n",
              "      <td>...</td>\n",
              "    </tr>\n",
              "    <tr>\n",
              "      <th>3843</th>\n",
              "      <td>la justicia es la base de la democracia y el e...</td>\n",
              "      <td>Tweets</td>\n",
              "      <td>LLM</td>\n",
              "    </tr>\n",
              "    <tr>\n",
              "      <th>3844</th>\n",
              "      <td>la violencia y la delincuencia son una amenaza...</td>\n",
              "      <td>Tweets</td>\n",
              "      <td>LLM</td>\n",
              "    </tr>\n",
              "    <tr>\n",
              "      <th>3845</th>\n",
              "      <td>la educación es la base d. es importante que s...</td>\n",
              "      <td>Tweets</td>\n",
              "      <td>LLM</td>\n",
              "    </tr>\n",
              "    <tr>\n",
              "      <th>3846</th>\n",
              "      <td>la economía es un factor clave para el bienest...</td>\n",
              "      <td>Tweets</td>\n",
              "      <td>LLM</td>\n",
              "    </tr>\n",
              "    <tr>\n",
              "      <th>3847</th>\n",
              "      <td>la paz es un anhelo de todos los colombianos. ...</td>\n",
              "      <td>Tweets</td>\n",
              "      <td>LLM</td>\n",
              "    </tr>\n",
              "  </tbody>\n",
              "</table>\n",
              "<p>3848 rows × 3 columns</p>\n",
              "</div>\n",
              "    <div class=\"colab-df-buttons\">\n",
              "\n",
              "  <div class=\"colab-df-container\">\n",
              "    <button class=\"colab-df-convert\" onclick=\"convertToInteractive('df-9fa59e6c-740c-4f97-aae1-37b09da85f41')\"\n",
              "            title=\"Convert this dataframe to an interactive table.\"\n",
              "            style=\"display:none;\">\n",
              "\n",
              "  <svg xmlns=\"http://www.w3.org/2000/svg\" height=\"24px\" viewBox=\"0 -960 960 960\">\n",
              "    <path d=\"M120-120v-720h720v720H120Zm60-500h600v-160H180v160Zm220 220h160v-160H400v160Zm0 220h160v-160H400v160ZM180-400h160v-160H180v160Zm440 0h160v-160H620v160ZM180-180h160v-160H180v160Zm440 0h160v-160H620v160Z\"/>\n",
              "  </svg>\n",
              "    </button>\n",
              "\n",
              "  <style>\n",
              "    .colab-df-container {\n",
              "      display:flex;\n",
              "      gap: 12px;\n",
              "    }\n",
              "\n",
              "    .colab-df-convert {\n",
              "      background-color: #E8F0FE;\n",
              "      border: none;\n",
              "      border-radius: 50%;\n",
              "      cursor: pointer;\n",
              "      display: none;\n",
              "      fill: #1967D2;\n",
              "      height: 32px;\n",
              "      padding: 0 0 0 0;\n",
              "      width: 32px;\n",
              "    }\n",
              "\n",
              "    .colab-df-convert:hover {\n",
              "      background-color: #E2EBFA;\n",
              "      box-shadow: 0px 1px 2px rgba(60, 64, 67, 0.3), 0px 1px 3px 1px rgba(60, 64, 67, 0.15);\n",
              "      fill: #174EA6;\n",
              "    }\n",
              "\n",
              "    .colab-df-buttons div {\n",
              "      margin-bottom: 4px;\n",
              "    }\n",
              "\n",
              "    [theme=dark] .colab-df-convert {\n",
              "      background-color: #3B4455;\n",
              "      fill: #D2E3FC;\n",
              "    }\n",
              "\n",
              "    [theme=dark] .colab-df-convert:hover {\n",
              "      background-color: #434B5C;\n",
              "      box-shadow: 0px 1px 3px 1px rgba(0, 0, 0, 0.15);\n",
              "      filter: drop-shadow(0px 1px 2px rgba(0, 0, 0, 0.3));\n",
              "      fill: #FFFFFF;\n",
              "    }\n",
              "  </style>\n",
              "\n",
              "    <script>\n",
              "      const buttonEl =\n",
              "        document.querySelector('#df-9fa59e6c-740c-4f97-aae1-37b09da85f41 button.colab-df-convert');\n",
              "      buttonEl.style.display =\n",
              "        google.colab.kernel.accessAllowed ? 'block' : 'none';\n",
              "\n",
              "      async function convertToInteractive(key) {\n",
              "        const element = document.querySelector('#df-9fa59e6c-740c-4f97-aae1-37b09da85f41');\n",
              "        const dataTable =\n",
              "          await google.colab.kernel.invokeFunction('convertToInteractive',\n",
              "                                                    [key], {});\n",
              "        if (!dataTable) return;\n",
              "\n",
              "        const docLinkHtml = 'Like what you see? Visit the ' +\n",
              "          '<a target=\"_blank\" href=https://colab.research.google.com/notebooks/data_table.ipynb>data table notebook</a>'\n",
              "          + ' to learn more about interactive tables.';\n",
              "        element.innerHTML = '';\n",
              "        dataTable['output_type'] = 'display_data';\n",
              "        await google.colab.output.renderOutput(dataTable, element);\n",
              "        const docLink = document.createElement('div');\n",
              "        docLink.innerHTML = docLinkHtml;\n",
              "        element.appendChild(docLink);\n",
              "      }\n",
              "    </script>\n",
              "  </div>\n",
              "\n",
              "\n",
              "<div id=\"df-e304b8bd-6ade-49c8-aab5-c7228f9676f4\">\n",
              "  <button class=\"colab-df-quickchart\" onclick=\"quickchart('df-e304b8bd-6ade-49c8-aab5-c7228f9676f4')\"\n",
              "            title=\"Suggest charts\"\n",
              "            style=\"display:none;\">\n",
              "\n",
              "<svg xmlns=\"http://www.w3.org/2000/svg\" height=\"24px\"viewBox=\"0 0 24 24\"\n",
              "     width=\"24px\">\n",
              "    <g>\n",
              "        <path d=\"M19 3H5c-1.1 0-2 .9-2 2v14c0 1.1.9 2 2 2h14c1.1 0 2-.9 2-2V5c0-1.1-.9-2-2-2zM9 17H7v-7h2v7zm4 0h-2V7h2v10zm4 0h-2v-4h2v4z\"/>\n",
              "    </g>\n",
              "</svg>\n",
              "  </button>\n",
              "\n",
              "<style>\n",
              "  .colab-df-quickchart {\n",
              "      --bg-color: #E8F0FE;\n",
              "      --fill-color: #1967D2;\n",
              "      --hover-bg-color: #E2EBFA;\n",
              "      --hover-fill-color: #174EA6;\n",
              "      --disabled-fill-color: #AAA;\n",
              "      --disabled-bg-color: #DDD;\n",
              "  }\n",
              "\n",
              "  [theme=dark] .colab-df-quickchart {\n",
              "      --bg-color: #3B4455;\n",
              "      --fill-color: #D2E3FC;\n",
              "      --hover-bg-color: #434B5C;\n",
              "      --hover-fill-color: #FFFFFF;\n",
              "      --disabled-bg-color: #3B4455;\n",
              "      --disabled-fill-color: #666;\n",
              "  }\n",
              "\n",
              "  .colab-df-quickchart {\n",
              "    background-color: var(--bg-color);\n",
              "    border: none;\n",
              "    border-radius: 50%;\n",
              "    cursor: pointer;\n",
              "    display: none;\n",
              "    fill: var(--fill-color);\n",
              "    height: 32px;\n",
              "    padding: 0;\n",
              "    width: 32px;\n",
              "  }\n",
              "\n",
              "  .colab-df-quickchart:hover {\n",
              "    background-color: var(--hover-bg-color);\n",
              "    box-shadow: 0 1px 2px rgba(60, 64, 67, 0.3), 0 1px 3px 1px rgba(60, 64, 67, 0.15);\n",
              "    fill: var(--button-hover-fill-color);\n",
              "  }\n",
              "\n",
              "  .colab-df-quickchart-complete:disabled,\n",
              "  .colab-df-quickchart-complete:disabled:hover {\n",
              "    background-color: var(--disabled-bg-color);\n",
              "    fill: var(--disabled-fill-color);\n",
              "    box-shadow: none;\n",
              "  }\n",
              "\n",
              "  .colab-df-spinner {\n",
              "    border: 2px solid var(--fill-color);\n",
              "    border-color: transparent;\n",
              "    border-bottom-color: var(--fill-color);\n",
              "    animation:\n",
              "      spin 1s steps(1) infinite;\n",
              "  }\n",
              "\n",
              "  @keyframes spin {\n",
              "    0% {\n",
              "      border-color: transparent;\n",
              "      border-bottom-color: var(--fill-color);\n",
              "      border-left-color: var(--fill-color);\n",
              "    }\n",
              "    20% {\n",
              "      border-color: transparent;\n",
              "      border-left-color: var(--fill-color);\n",
              "      border-top-color: var(--fill-color);\n",
              "    }\n",
              "    30% {\n",
              "      border-color: transparent;\n",
              "      border-left-color: var(--fill-color);\n",
              "      border-top-color: var(--fill-color);\n",
              "      border-right-color: var(--fill-color);\n",
              "    }\n",
              "    40% {\n",
              "      border-color: transparent;\n",
              "      border-right-color: var(--fill-color);\n",
              "      border-top-color: var(--fill-color);\n",
              "    }\n",
              "    60% {\n",
              "      border-color: transparent;\n",
              "      border-right-color: var(--fill-color);\n",
              "    }\n",
              "    80% {\n",
              "      border-color: transparent;\n",
              "      border-right-color: var(--fill-color);\n",
              "      border-bottom-color: var(--fill-color);\n",
              "    }\n",
              "    90% {\n",
              "      border-color: transparent;\n",
              "      border-bottom-color: var(--fill-color);\n",
              "    }\n",
              "  }\n",
              "</style>\n",
              "\n",
              "  <script>\n",
              "    async function quickchart(key) {\n",
              "      const quickchartButtonEl =\n",
              "        document.querySelector('#' + key + ' button');\n",
              "      quickchartButtonEl.disabled = true;  // To prevent multiple clicks.\n",
              "      quickchartButtonEl.classList.add('colab-df-spinner');\n",
              "      try {\n",
              "        const charts = await google.colab.kernel.invokeFunction(\n",
              "            'suggestCharts', [key], {});\n",
              "      } catch (error) {\n",
              "        console.error('Error during call to suggestCharts:', error);\n",
              "      }\n",
              "      quickchartButtonEl.classList.remove('colab-df-spinner');\n",
              "      quickchartButtonEl.classList.add('colab-df-quickchart-complete');\n",
              "    }\n",
              "    (() => {\n",
              "      let quickchartButtonEl =\n",
              "        document.querySelector('#df-e304b8bd-6ade-49c8-aab5-c7228f9676f4 button');\n",
              "      quickchartButtonEl.style.display =\n",
              "        google.colab.kernel.accessAllowed ? 'block' : 'none';\n",
              "    })();\n",
              "  </script>\n",
              "</div>\n",
              "\n",
              "  <div id=\"id_71278207-cdb9-457a-8a1e-9d7363de53ff\">\n",
              "    <style>\n",
              "      .colab-df-generate {\n",
              "        background-color: #E8F0FE;\n",
              "        border: none;\n",
              "        border-radius: 50%;\n",
              "        cursor: pointer;\n",
              "        display: none;\n",
              "        fill: #1967D2;\n",
              "        height: 32px;\n",
              "        padding: 0 0 0 0;\n",
              "        width: 32px;\n",
              "      }\n",
              "\n",
              "      .colab-df-generate:hover {\n",
              "        background-color: #E2EBFA;\n",
              "        box-shadow: 0px 1px 2px rgba(60, 64, 67, 0.3), 0px 1px 3px 1px rgba(60, 64, 67, 0.15);\n",
              "        fill: #174EA6;\n",
              "      }\n",
              "\n",
              "      [theme=dark] .colab-df-generate {\n",
              "        background-color: #3B4455;\n",
              "        fill: #D2E3FC;\n",
              "      }\n",
              "\n",
              "      [theme=dark] .colab-df-generate:hover {\n",
              "        background-color: #434B5C;\n",
              "        box-shadow: 0px 1px 3px 1px rgba(0, 0, 0, 0.15);\n",
              "        filter: drop-shadow(0px 1px 2px rgba(0, 0, 0, 0.3));\n",
              "        fill: #FFFFFF;\n",
              "      }\n",
              "    </style>\n",
              "    <button class=\"colab-df-generate\" onclick=\"generateWithVariable('df')\"\n",
              "            title=\"Generate code using this dataframe.\"\n",
              "            style=\"display:none;\">\n",
              "\n",
              "  <svg xmlns=\"http://www.w3.org/2000/svg\" height=\"24px\"viewBox=\"0 0 24 24\"\n",
              "       width=\"24px\">\n",
              "    <path d=\"M7,19H8.4L18.45,9,17,7.55,7,17.6ZM5,21V16.75L18.45,3.32a2,2,0,0,1,2.83,0l1.4,1.43a1.91,1.91,0,0,1,.58,1.4,1.91,1.91,0,0,1-.58,1.4L9.25,21ZM18.45,9,17,7.55Zm-12,3A5.31,5.31,0,0,0,4.9,8.1,5.31,5.31,0,0,0,1,6.5,5.31,5.31,0,0,0,4.9,4.9,5.31,5.31,0,0,0,6.5,1,5.31,5.31,0,0,0,8.1,4.9,5.31,5.31,0,0,0,12,6.5,5.46,5.46,0,0,0,6.5,12Z\"/>\n",
              "  </svg>\n",
              "    </button>\n",
              "    <script>\n",
              "      (() => {\n",
              "      const buttonEl =\n",
              "        document.querySelector('#id_71278207-cdb9-457a-8a1e-9d7363de53ff button.colab-df-generate');\n",
              "      buttonEl.style.display =\n",
              "        google.colab.kernel.accessAllowed ? 'block' : 'none';\n",
              "\n",
              "      buttonEl.onclick = () => {\n",
              "        google.colab.notebook.generateWithVariable('df');\n",
              "      }\n",
              "      })();\n",
              "    </script>\n",
              "  </div>\n",
              "\n",
              "    </div>\n",
              "  </div>\n"
            ],
            "application/vnd.google.colaboratory.intrinsic+json": {
              "type": "dataframe",
              "variable_name": "df",
              "summary": "{\n  \"name\": \"df\",\n  \"rows\": 3848,\n  \"fields\": [\n    {\n      \"column\": \"Texto\",\n      \"properties\": {\n        \"dtype\": \"string\",\n        \"num_unique_values\": 3706,\n        \"samples\": [\n          \"rt @abettylondono: @claudialopez @ivanduque @citytv @noticiasrcn @juanlozano_r @juandiegoalvira hoy le lleg\\u00f3 este mensaje a mi hermano de @\\u2026\",\n          \"RT @infopresidencia: Si todos los colombianos descargan la aplicaci\\u00f3n m\\u00f3vil #CoronAppColombia podremos focalizar los puntos de contagio y c\\u2026\",\n          \"cu\\u00eddate de tus propios bienes  en un hermoso bosque viv\\u00eda un ciervo y un buey, ambos animales nunca hab\\u00edan tenido la oportunidad de conocerse as\\u00ed que los encantos del bosque les ayud\\u00f3 a presentarse al uno al otro.  inmediatamente se hicieron grandes amigos y compart\\u00edan los mejores momentos entre s\\u00ed, el ciervo le relataba a su nuevo amigo todas las cosas conocidas que se escond\\u00edan tras los arbustos y los \\u00e1rboles, por su parte el buey contaba todo lo que hab\\u00eda podido aprender a trav\\u00e9s de los a\\u00f1os que hab\\u00eda pasado viviendo al lado de los humanos.  un d\\u00eda el ciervo vio algo de su agrado a lo lejos, fue entonces que decidi\\u00f3 lanzarse a la b\\u00fasqueda de aquel objeto. el buey se anex\\u00f3 al viaje emocionado y empezaron a caminar.  de repente, acamparon una noche para descansar y ah\\u00ed fue, cuando el buey se dio cuenta que su camarada hab\\u00eda robado una gran abundancia de ma\\u00edz de un huerto al lado de su campamento.   en ese momento el buey comenz\\u00f3 a recordar los consejos que hab\\u00eda recibido y comprendi\\u00f3 que dar y tomar sin necesidad de pr\\u00e9stamo no es la forma adecuada de hacerse de alguna cosa.  entonces el buey explic\\u00f3 a su amigo el ciervo que cada quien debe cuidar de sus propios bienes.   el ciervo escuch\\u00f3 aquel consejo, devolvi\\u00f3 el ma\\u00edz al due\\u00f1o, se disculp\\u00f3 por su error y con un compromiso en el coraz\\u00f3n, se despidi\\u00f3 del buey para continuar con su aventura con la lecci\\u00f3n recibida en mente.\"\n        ],\n        \"semantic_type\": \"\",\n        \"description\": \"\"\n      }\n    },\n    {\n      \"column\": \"Tipo de fuente\",\n      \"properties\": {\n        \"dtype\": \"category\",\n        \"num_unique_values\": 6,\n        \"samples\": [\n          \"Cuentos\",\n          \"Ensayos\",\n          \"Tweets\"\n        ],\n        \"semantic_type\": \"\",\n        \"description\": \"\"\n      }\n    },\n    {\n      \"column\": \"Clasificacion\",\n      \"properties\": {\n        \"dtype\": \"category\",\n        \"num_unique_values\": 2,\n        \"samples\": [\n          \"LLM\",\n          \"Human\"\n        ],\n        \"semantic_type\": \"\",\n        \"description\": \"\"\n      }\n    }\n  ]\n}"
            }
          },
          "metadata": {},
          "execution_count": 2
        }
      ]
    },
    {
      "source": [
        "# @title Texts by source type and classification\n",
        "\n",
        "df.groupby(['Tipo de fuente', 'Clasificacion']).size().unstack().plot(kind='bar', stacked=True)"
      ],
      "cell_type": "code",
      "execution_count": null,
      "outputs": [
        {
          "output_type": "execute_result",
          "data": {
            "text/plain": [
              "<Axes: xlabel='Tipo de fuente'>"
            ]
          },
          "metadata": {},
          "execution_count": 6
        },
        {
          "output_type": "display_data",
          "data": {
            "text/plain": [
              "<Figure size 640x480 with 1 Axes>"
            ],
            "image/png": "[encoded data removed]"
          },
          "metadata": {}
        }
      ],
      "metadata": {
        "cellView": "form",
        "colab": {
          "base_uri": "https://localhost:8080/",
          "height": 510
        },
        "id": "c1R_CFlfnRkR",
        "outputId": "99ff045b-ef2a-4011-aeb4-bd74d89e5812"
      }
    },
    {
      "source": [
        "# @title Clasificacion\n",
        "\n",
        "from matplotlib import pyplot as plt\n",
        "import seaborn as sns\n",
        "df.groupby('Clasificacion').size().plot(kind='barh', color=sns.palettes.mpl_palette('Dark2'))\n",
        "plt.gca().spines[['top', 'right',]].set_visible(False)"
      ],
      "cell_type": "code",
      "execution_count": null,
      "outputs": [
        {
          "output_type": "display_data",
          "data": {
            "text/plain": [
              "<Figure size 640x480 with 1 Axes>"
            ],
            "image/png": "[encoded data removed]"
          },
          "metadata": {}
        }
      ],
      "metadata": {
        "cellView": "form",
        "colab": {
          "base_uri": "https://localhost:8080/",
          "height": 430
        },
        "id": "VNjc2WLknLau",
        "outputId": "4f940da7-2213-4507-df75-6201b419956d"
      }
    },
    {
      "source": [
        "# @title Tipo de fuente\n",
        "\n",
        "from matplotlib import pyplot as plt\n",
        "import seaborn as sns\n",
        "df.groupby('Tipo de fuente').size().plot(kind='barh', color=sns.palettes.mpl_palette('Dark2'))\n",
        "plt.gca().spines[['top', 'right',]].set_visible(False)"
      ],
      "cell_type": "code",
      "execution_count": null,
      "outputs": [
        {
          "output_type": "display_data",
          "data": {
            "text/plain": [
              "<Figure size 640x480 with 1 Axes>"
            ],
            "image/png": "[encoded data removed]"
          },
          "metadata": {}
        }
      ],
      "metadata": {
        "cellView": "form",
        "colab": {
          "base_uri": "https://localhost:8080/",
          "height": 430
        },
        "id": "c5JI2YeQnD-k",
        "outputId": "54521a84-08e3-4dc8-9b5c-9bc7a041189a"
      }
    },
    {
      "cell_type": "markdown",
      "source": [
        "# Parte 1 - Para Todos"
      ],
      "metadata": {
        "id": "woOxEb6UA0_4"
      }
    },
    {
      "cell_type": "code",
      "source": [
        "from sklearn.model_selection import train_test_split\n",
        "from sklearn import preprocessing\n",
        "le = preprocessing.LabelEncoder()\n",
        "X_train, X_test, y_train, y_test = train_test_split(df['Texto'].values, le.fit_transform(df['Clasificacion'].values), test_size=0.30, random_state=42)"
      ],
      "metadata": {
        "id": "33Cy2VFU3LPc"
      },
      "execution_count": null,
      "outputs": []
    },
    {
      "cell_type": "code",
      "source": [
        "print(X_train)\n",
        "print(y_train)\n",
        "print(list(le.classes_))"
      ],
      "metadata": {
        "colab": {
          "base_uri": "https://localhost:8080/"
        },
        "id": "38LVB9U73fZs",
        "outputId": "cd096920-260e-4850-c532-ac65d88a4d55"
      },
      "execution_count": null,
      "outputs": [
        {
          "output_type": "stream",
          "name": "stdout",
          "text": [
            "['el cuidado del  todos. ¿qué estás haciendo tú para contribuir? #medioambiente '\n",
            " 'Mil veces me engañó; más de mil veces abrió en mi corazón sangrienta herida; de los celos la copa desabrida me hizo beber hasta agotar las heces.  Fue en mi vida, con todas sus dobleces, la causa de mi angustia -no extinguida- aunque, ¡pobre de mí! toda la vida su mentiroso amor... pagué con creces.  Los tiempos han pasado; ya su boca no me da sus caricias, ni me abrasa el fuego de sus ósculos de loca;  ¡y sin embargo mi pasión persiste... pues, cuando a veces por mi senda pasa, me alejo mudo... y cabizbajo... y triste! '\n",
            " 'RT @infopresidencia: ğŸ�¥ #EnVivo | #PrevenciÃ³nyAcciÃ³n. Medidas implementadas por el Gobierno Nacional durante la emergencia por el COVID-19.â€¦'\n",
            " ...\n",
            " 'RT @cuestion_p: 8. Rutas de atención feministas: https://t.co/Wgbi3RYZuH'\n",
            " 'ğŸŒ� el cuidado del medio ambiente es responsabilidad de todos. conoce aquÃ\\xad algunas acciones para contribuir a la sostenibilidad: #medioambiente ğŸŒ± '\n",
            " 'rt @maritovillalobo: siguen embolatando los recursos en plena pandemia. en cúcuta compran equipo de sonido; en sahagún, empresa de cosmétic…']\n",
            "[1 0 0 ... 0 1 1]\n",
            "['Human', 'LLM']\n"
          ]
        }
      ]
    },
    {
      "cell_type": "code",
      "source": [
        "from nltk.tokenize import TweetTokenizer;\n",
        "\n",
        "tokenizer = TweetTokenizer()\n",
        "def pre_process(text):\n",
        "  # print('before pre_process', text)\n",
        "  text = text.lower()\n",
        "  # print('after pre_process', text)\n",
        "  return text\n",
        "\n",
        "def tokenize_stemmer(text):\n",
        "  tokens_doc = tokenizer.tokenize(text)\n",
        "  tokens_doc_wo_stop = [w for w in tokens_doc if w.isalpha()]\n",
        "  tokens_docs_stem = tokens_doc_wo_stop # [stemmer.stem(w) for w in tokens_doc_wo_stop]\n",
        "  return tokens_docs_stem"
      ],
      "metadata": {
        "id": "lJeZL_9v-u9p"
      },
      "execution_count": null,
      "outputs": []
    },
    {
      "cell_type": "code",
      "source": [
        "stop_words = nltk.corpus.stopwords.words ('spanish')"
      ],
      "metadata": {
        "id": "aZ5H9Qbz_qw2"
      },
      "execution_count": null,
      "outputs": []
    },
    {
      "cell_type": "code",
      "source": [
        "vectorizer = TfidfVectorizer (\n",
        "  analyzer = 'word',\n",
        "  lowercase = True,\n",
        "  preprocessor=pre_process, tokenizer=tokenize_stemmer,\n",
        "  stop_words= stop_words\n",
        ")\n",
        "X_train_vec = vectorizer.fit_transform (X_train)\n",
        "X_test_vec = vectorizer.transform (X_test)"
      ],
      "metadata": {
        "colab": {
          "base_uri": "https://localhost:8080/"
        },
        "id": "6PcvaD7c39Ft",
        "outputId": "5856f33a-225c-47e5-bc43-fc1645a9a55e"
      },
      "execution_count": null,
      "outputs": [
        {
          "output_type": "stream",
          "name": "stderr",
          "text": [
            "/usr/local/lib/python3.10/dist-packages/sklearn/feature_extraction/text.py:528: UserWarning: The parameter 'token_pattern' will not be used since 'tokenizer' is not None'\n",
            "  warnings.warn(\n"
          ]
        }
      ]
    },
    {
      "cell_type": "code",
      "source": [
        "len(list(vectorizer.get_feature_names_out()))"
      ],
      "metadata": {
        "colab": {
          "base_uri": "https://localhost:8080/"
        },
        "id": "G-O3EX3AfTPU",
        "outputId": "d8643114-986a-4534-833c-4ae881223259"
      },
      "execution_count": null,
      "outputs": [
        {
          "output_type": "execute_result",
          "data": {
            "text/plain": [
              "28247"
            ]
          },
          "metadata": {},
          "execution_count": 13
        }
      ]
    },
    {
      "cell_type": "code",
      "source": [
        "vectorizer.get_feature_names_out()[:100]"
      ],
      "metadata": {
        "colab": {
          "base_uri": "https://localhost:8080/"
        },
        "id": "pvLaYqbpOiXw",
        "outputId": "35c5da0a-076e-4507-c66c-f319a3c1fc61"
      },
      "execution_count": null,
      "outputs": [
        {
          "output_type": "execute_result",
          "data": {
            "text/plain": [
              "array(['aaah', 'ab', 'abad', 'abadía', 'abajo', 'abalanzándose',\n",
              "       'abalanzó', 'abandona', 'abandonaban', 'abandonada', 'abandonado',\n",
              "       'abandonados', 'abandonan', 'abandonando', 'abandonar',\n",
              "       'abandonas', 'abandones', 'abandono', 'abandoné', 'abandonó',\n",
              "       'abaratan', 'abarca', 'abarcar', 'abarcaremos', 'abarcarlo',\n",
              "       'abarco', 'abarqué', 'abastecimientocomo', 'abate', 'abatido',\n",
              "       'abatía', 'abdominal', 'abecé', 'abeja', 'abejas', 'abejita',\n",
              "       'abella', 'abertura', 'abierta', 'abiertamente', 'abiertas',\n",
              "       'abierto', 'abiertos', 'abisales', 'abismo', 'abismos', 'abocado',\n",
              "       'abogada', 'abogado', 'abogados', 'abogar', 'abogó', 'abominable',\n",
              "       'abominables', 'abominados', 'abonan', 'aborda', 'abordaba',\n",
              "       'abordado', 'abordando', 'abordar', 'abordarlo', 'abordarse',\n",
              "       'abordarán', 'abordemos', 'aborden', 'abordó', 'aborreciendo',\n",
              "       'about', 'abra', 'abracadabra', 'abram', 'abran', 'abras',\n",
              "       'abrasa', 'abrasador', 'abrasadoras', 'abraso', 'abrazaba',\n",
              "       'abrazaban', 'abrazado', 'abrazamos', 'abrazan', 'abrazar',\n",
              "       'abrazarnosen', 'abrazaré', 'abrazo', 'abrazos', 'abrazándola',\n",
              "       'abrazó', 'abre', 'abren', 'abres', 'abreviación', 'abrevian',\n",
              "       'abreviatura', 'abreviaturas', 'abridores', 'abriendo', 'abriera'],\n",
              "      dtype=object)"
            ]
          },
          "metadata": {},
          "execution_count": 14
        }
      ]
    },
    {
      "cell_type": "code",
      "source": [
        "baselines = {}\n",
        "baselines['lr'] = LogisticRegression ()\n",
        "baselines['lr'].fit (X_train_vec, y_train)\n",
        "baselines['lr'].score(X_train_vec, y_train)"
      ],
      "metadata": {
        "colab": {
          "base_uri": "https://localhost:8080/"
        },
        "id": "Zyn-ua3D92UC",
        "outputId": "2228dab9-83ad-4ea6-fb97-61a08f1c2f3f"
      },
      "execution_count": null,
      "outputs": [
        {
          "output_type": "execute_result",
          "data": {
            "text/plain": [
              "0.9242480505012997"
            ]
          },
          "metadata": {},
          "execution_count": 15
        }
      ]
    },
    {
      "cell_type": "code",
      "source": [
        "list(vectorizer.get_feature_names_out())[:20]"
      ],
      "metadata": {
        "colab": {
          "base_uri": "https://localhost:8080/"
        },
        "id": "uXT9GTTVffJL",
        "outputId": "8a251bee-9c6d-4584-d50e-b5e688d43859"
      },
      "execution_count": null,
      "outputs": [
        {
          "output_type": "execute_result",
          "data": {
            "text/plain": [
              "['aaah',\n",
              " 'ab',\n",
              " 'abad',\n",
              " 'abadía',\n",
              " 'abajo',\n",
              " 'abalanzándose',\n",
              " 'abalanzó',\n",
              " 'abandona',\n",
              " 'abandonaban',\n",
              " 'abandonada',\n",
              " 'abandonado',\n",
              " 'abandonados',\n",
              " 'abandonan',\n",
              " 'abandonando',\n",
              " 'abandonar',\n",
              " 'abandonas',\n",
              " 'abandones',\n",
              " 'abandono',\n",
              " 'abandoné',\n",
              " 'abandonó']"
            ]
          },
          "metadata": {},
          "execution_count": 16
        }
      ]
    },
    {
      "cell_type": "code",
      "source": [
        "y_pred = baselines['lr'].predict (X_test_vec)\n",
        "print('Test predcit')\n",
        "print(classification_report(y_test, y_pred, zero_division = 0, digits = 6))"
      ],
      "metadata": {
        "colab": {
          "base_uri": "https://localhost:8080/"
        },
        "id": "60Xx-TqB5MfG",
        "outputId": "37f83ad8-86e5-4133-9a5e-e150894d5601"
      },
      "execution_count": null,
      "outputs": [
        {
          "output_type": "stream",
          "name": "stdout",
          "text": [
            "Test predcit\n",
            "              precision    recall  f1-score   support\n",
            "\n",
            "           0   0.683264  0.804560  0.738968       614\n",
            "           1   0.722222  0.576710  0.641316       541\n",
            "\n",
            "    accuracy                       0.697835      1155\n",
            "   macro avg   0.702743  0.690635  0.690142      1155\n",
            "weighted avg   0.701512  0.697835  0.693228      1155\n",
            "\n"
          ]
        }
      ]
    },
    {
      "cell_type": "markdown",
      "source": [
        "#  Parte 2 - Por tema"
      ],
      "metadata": {
        "id": "tPomlIoWA5P0"
      }
    },
    {
      "cell_type": "code",
      "source": [
        "df = pd.read_excel(corpus_all_3000)\n",
        "df"
      ],
      "metadata": {
        "colab": {
          "base_uri": "https://localhost:8080/",
          "height": 424
        },
        "id": "w03uqrXpp7zz",
        "outputId": "1ffb68de-783c-4c84-e699-eb3b91e904d3"
      },
      "execution_count": null,
      "outputs": [
        {
          "output_type": "execute_result",
          "data": {
            "text/plain": [
              "                                                  Texto Tipo de fuente  \\\n",
              "0     El rey de los animales Se reunieron los animal...        Cuentos   \n",
              "1     Domingo 7 Había una vez dos compadres jorobado...        Cuentos   \n",
              "2     Francisco El Hombre En los albores del siglo X...        Cuentos   \n",
              "3     Aminta Peláez- La leyenda de Wareke Hace muchí...        Cuentos   \n",
              "4     EL OASIS DE BELISSAMA ATLAUA pASeABA Con BeLis...        Cuentos   \n",
              "...                                                 ...            ...   \n",
              "3843  la justicia es la base de la democracia y el e...         Tweets   \n",
              "3844  la violencia y la delincuencia son una amenaza...         Tweets   \n",
              "3845  la educación es la base d. es importante que s...         Tweets   \n",
              "3846  la economía es un factor clave para el bienest...         Tweets   \n",
              "3847  la paz es un anhelo de todos los colombianos. ...         Tweets   \n",
              "\n",
              "     Clasificacion  \n",
              "0            Human  \n",
              "1            Human  \n",
              "2            Human  \n",
              "3            Human  \n",
              "4            Human  \n",
              "...            ...  \n",
              "3843           LLM  \n",
              "3844           LLM  \n",
              "3845           LLM  \n",
              "3846           LLM  \n",
              "3847           LLM  \n",
              "\n",
              "[3848 rows x 3 columns]"
            ],
            "text/html": [
              "\n",
              "  <div id=\"df-6054dc3c-2880-4094-b007-554e08d434dd\" class=\"colab-df-container\">\n",
              "    <div>\n",
              "<style scoped>\n",
              "    .dataframe tbody tr th:only-of-type {\n",
              "        vertical-align: middle;\n",
              "    }\n",
              "\n",
              "    .dataframe tbody tr th {\n",
              "        vertical-align: top;\n",
              "    }\n",
              "\n",
              "    .dataframe thead th {\n",
              "        text-align: right;\n",
              "    }\n",
              "</style>\n",
              "<table border=\"1\" class=\"dataframe\">\n",
              "  <thead>\n",
              "    <tr style=\"text-align: right;\">\n",
              "      <th></th>\n",
              "      <th>Texto</th>\n",
              "      <th>Tipo de fuente</th>\n",
              "      <th>Clasificacion</th>\n",
              "    </tr>\n",
              "  </thead>\n",
              "  <tbody>\n",
              "    <tr>\n",
              "      <th>0</th>\n",
              "      <td>El rey de los animales Se reunieron los animal...</td>\n",
              "      <td>Cuentos</td>\n",
              "      <td>Human</td>\n",
              "    </tr>\n",
              "    <tr>\n",
              "      <th>1</th>\n",
              "      <td>Domingo 7 Había una vez dos compadres jorobado...</td>\n",
              "      <td>Cuentos</td>\n",
              "      <td>Human</td>\n",
              "    </tr>\n",
              "    <tr>\n",
              "      <th>2</th>\n",
              "      <td>Francisco El Hombre En los albores del siglo X...</td>\n",
              "      <td>Cuentos</td>\n",
              "      <td>Human</td>\n",
              "    </tr>\n",
              "    <tr>\n",
              "      <th>3</th>\n",
              "      <td>Aminta Peláez- La leyenda de Wareke Hace muchí...</td>\n",
              "      <td>Cuentos</td>\n",
              "      <td>Human</td>\n",
              "    </tr>\n",
              "    <tr>\n",
              "      <th>4</th>\n",
              "      <td>EL OASIS DE BELISSAMA ATLAUA pASeABA Con BeLis...</td>\n",
              "      <td>Cuentos</td>\n",
              "      <td>Human</td>\n",
              "    </tr>\n",
              "    <tr>\n",
              "      <th>...</th>\n",
              "      <td>...</td>\n",
              "      <td>...</td>\n",
              "      <td>...</td>\n",
              "    </tr>\n",
              "    <tr>\n",
              "      <th>3843</th>\n",
              "      <td>la justicia es la base de la democracia y el e...</td>\n",
              "      <td>Tweets</td>\n",
              "      <td>LLM</td>\n",
              "    </tr>\n",
              "    <tr>\n",
              "      <th>3844</th>\n",
              "      <td>la violencia y la delincuencia son una amenaza...</td>\n",
              "      <td>Tweets</td>\n",
              "      <td>LLM</td>\n",
              "    </tr>\n",
              "    <tr>\n",
              "      <th>3845</th>\n",
              "      <td>la educación es la base d. es importante que s...</td>\n",
              "      <td>Tweets</td>\n",
              "      <td>LLM</td>\n",
              "    </tr>\n",
              "    <tr>\n",
              "      <th>3846</th>\n",
              "      <td>la economía es un factor clave para el bienest...</td>\n",
              "      <td>Tweets</td>\n",
              "      <td>LLM</td>\n",
              "    </tr>\n",
              "    <tr>\n",
              "      <th>3847</th>\n",
              "      <td>la paz es un anhelo de todos los colombianos. ...</td>\n",
              "      <td>Tweets</td>\n",
              "      <td>LLM</td>\n",
              "    </tr>\n",
              "  </tbody>\n",
              "</table>\n",
              "<p>3848 rows × 3 columns</p>\n",
              "</div>\n",
              "    <div class=\"colab-df-buttons\">\n",
              "\n",
              "  <div class=\"colab-df-container\">\n",
              "    <button class=\"colab-df-convert\" onclick=\"convertToInteractive('df-6054dc3c-2880-4094-b007-554e08d434dd')\"\n",
              "            title=\"Convert this dataframe to an interactive table.\"\n",
              "            style=\"display:none;\">\n",
              "\n",
              "  <svg xmlns=\"http://www.w3.org/2000/svg\" height=\"24px\" viewBox=\"0 -960 960 960\">\n",
              "    <path d=\"M120-120v-720h720v720H120Zm60-500h600v-160H180v160Zm220 220h160v-160H400v160Zm0 220h160v-160H400v160ZM180-400h160v-160H180v160Zm440 0h160v-160H620v160ZM180-180h160v-160H180v160Zm440 0h160v-160H620v160Z\"/>\n",
              "  </svg>\n",
              "    </button>\n",
              "\n",
              "  <style>\n",
              "    .colab-df-container {\n",
              "      display:flex;\n",
              "      gap: 12px;\n",
              "    }\n",
              "\n",
              "    .colab-df-convert {\n",
              "      background-color: #E8F0FE;\n",
              "      border: none;\n",
              "      border-radius: 50%;\n",
              "      cursor: pointer;\n",
              "      display: none;\n",
              "      fill: #1967D2;\n",
              "      height: 32px;\n",
              "      padding: 0 0 0 0;\n",
              "      width: 32px;\n",
              "    }\n",
              "\n",
              "    .colab-df-convert:hover {\n",
              "      background-color: #E2EBFA;\n",
              "      box-shadow: 0px 1px 2px rgba(60, 64, 67, 0.3), 0px 1px 3px 1px rgba(60, 64, 67, 0.15);\n",
              "      fill: #174EA6;\n",
              "    }\n",
              "\n",
              "    .colab-df-buttons div {\n",
              "      margin-bottom: 4px;\n",
              "    }\n",
              "\n",
              "    [theme=dark] .colab-df-convert {\n",
              "      background-color: #3B4455;\n",
              "      fill: #D2E3FC;\n",
              "    }\n",
              "\n",
              "    [theme=dark] .colab-df-convert:hover {\n",
              "      background-color: #434B5C;\n",
              "      box-shadow: 0px 1px 3px 1px rgba(0, 0, 0, 0.15);\n",
              "      filter: drop-shadow(0px 1px 2px rgba(0, 0, 0, 0.3));\n",
              "      fill: #FFFFFF;\n",
              "    }\n",
              "  </style>\n",
              "\n",
              "    <script>\n",
              "      const buttonEl =\n",
              "        document.querySelector('#df-6054dc3c-2880-4094-b007-554e08d434dd button.colab-df-convert');\n",
              "      buttonEl.style.display =\n",
              "        google.colab.kernel.accessAllowed ? 'block' : 'none';\n",
              "\n",
              "      async function convertToInteractive(key) {\n",
              "        const element = document.querySelector('#df-6054dc3c-2880-4094-b007-554e08d434dd');\n",
              "        const dataTable =\n",
              "          await google.colab.kernel.invokeFunction('convertToInteractive',\n",
              "                                                    [key], {});\n",
              "        if (!dataTable) return;\n",
              "\n",
              "        const docLinkHtml = 'Like what you see? Visit the ' +\n",
              "          '<a target=\"_blank\" href=https://colab.research.google.com/notebooks/data_table.ipynb>data table notebook</a>'\n",
              "          + ' to learn more about interactive tables.';\n",
              "        element.innerHTML = '';\n",
              "        dataTable['output_type'] = 'display_data';\n",
              "        await google.colab.output.renderOutput(dataTable, element);\n",
              "        const docLink = document.createElement('div');\n",
              "        docLink.innerHTML = docLinkHtml;\n",
              "        element.appendChild(docLink);\n",
              "      }\n",
              "    </script>\n",
              "  </div>\n",
              "\n",
              "\n",
              "<div id=\"df-d3c99cbc-2d27-4df5-9723-b799c22c6fa1\">\n",
              "  <button class=\"colab-df-quickchart\" onclick=\"quickchart('df-d3c99cbc-2d27-4df5-9723-b799c22c6fa1')\"\n",
              "            title=\"Suggest charts\"\n",
              "            style=\"display:none;\">\n",
              "\n",
              "<svg xmlns=\"http://www.w3.org/2000/svg\" height=\"24px\"viewBox=\"0 0 24 24\"\n",
              "     width=\"24px\">\n",
              "    <g>\n",
              "        <path d=\"M19 3H5c-1.1 0-2 .9-2 2v14c0 1.1.9 2 2 2h14c1.1 0 2-.9 2-2V5c0-1.1-.9-2-2-2zM9 17H7v-7h2v7zm4 0h-2V7h2v10zm4 0h-2v-4h2v4z\"/>\n",
              "    </g>\n",
              "</svg>\n",
              "  </button>\n",
              "\n",
              "<style>\n",
              "  .colab-df-quickchart {\n",
              "      --bg-color: #E8F0FE;\n",
              "      --fill-color: #1967D2;\n",
              "      --hover-bg-color: #E2EBFA;\n",
              "      --hover-fill-color: #174EA6;\n",
              "      --disabled-fill-color: #AAA;\n",
              "      --disabled-bg-color: #DDD;\n",
              "  }\n",
              "\n",
              "  [theme=dark] .colab-df-quickchart {\n",
              "      --bg-color: #3B4455;\n",
              "      --fill-color: #D2E3FC;\n",
              "      --hover-bg-color: #434B5C;\n",
              "      --hover-fill-color: #FFFFFF;\n",
              "      --disabled-bg-color: #3B4455;\n",
              "      --disabled-fill-color: #666;\n",
              "  }\n",
              "\n",
              "  .colab-df-quickchart {\n",
              "    background-color: var(--bg-color);\n",
              "    border: none;\n",
              "    border-radius: 50%;\n",
              "    cursor: pointer;\n",
              "    display: none;\n",
              "    fill: var(--fill-color);\n",
              "    height: 32px;\n",
              "    padding: 0;\n",
              "    width: 32px;\n",
              "  }\n",
              "\n",
              "  .colab-df-quickchart:hover {\n",
              "    background-color: var(--hover-bg-color);\n",
              "    box-shadow: 0 1px 2px rgba(60, 64, 67, 0.3), 0 1px 3px 1px rgba(60, 64, 67, 0.15);\n",
              "    fill: var(--button-hover-fill-color);\n",
              "  }\n",
              "\n",
              "  .colab-df-quickchart-complete:disabled,\n",
              "  .colab-df-quickchart-complete:disabled:hover {\n",
              "    background-color: var(--disabled-bg-color);\n",
              "    fill: var(--disabled-fill-color);\n",
              "    box-shadow: none;\n",
              "  }\n",
              "\n",
              "  .colab-df-spinner {\n",
              "    border: 2px solid var(--fill-color);\n",
              "    border-color: transparent;\n",
              "    border-bottom-color: var(--fill-color);\n",
              "    animation:\n",
              "      spin 1s steps(1) infinite;\n",
              "  }\n",
              "\n",
              "  @keyframes spin {\n",
              "    0% {\n",
              "      border-color: transparent;\n",
              "      border-bottom-color: var(--fill-color);\n",
              "      border-left-color: var(--fill-color);\n",
              "    }\n",
              "    20% {\n",
              "      border-color: transparent;\n",
              "      border-left-color: var(--fill-color);\n",
              "      border-top-color: var(--fill-color);\n",
              "    }\n",
              "    30% {\n",
              "      border-color: transparent;\n",
              "      border-left-color: var(--fill-color);\n",
              "      border-top-color: var(--fill-color);\n",
              "      border-right-color: var(--fill-color);\n",
              "    }\n",
              "    40% {\n",
              "      border-color: transparent;\n",
              "      border-right-color: var(--fill-color);\n",
              "      border-top-color: var(--fill-color);\n",
              "    }\n",
              "    60% {\n",
              "      border-color: transparent;\n",
              "      border-right-color: var(--fill-color);\n",
              "    }\n",
              "    80% {\n",
              "      border-color: transparent;\n",
              "      border-right-color: var(--fill-color);\n",
              "      border-bottom-color: var(--fill-color);\n",
              "    }\n",
              "    90% {\n",
              "      border-color: transparent;\n",
              "      border-bottom-color: var(--fill-color);\n",
              "    }\n",
              "  }\n",
              "</style>\n",
              "\n",
              "  <script>\n",
              "    async function quickchart(key) {\n",
              "      const quickchartButtonEl =\n",
              "        document.querySelector('#' + key + ' button');\n",
              "      quickchartButtonEl.disabled = true;  // To prevent multiple clicks.\n",
              "      quickchartButtonEl.classList.add('colab-df-spinner');\n",
              "      try {\n",
              "        const charts = await google.colab.kernel.invokeFunction(\n",
              "            'suggestCharts', [key], {});\n",
              "      } catch (error) {\n",
              "        console.error('Error during call to suggestCharts:', error);\n",
              "      }\n",
              "      quickchartButtonEl.classList.remove('colab-df-spinner');\n",
              "      quickchartButtonEl.classList.add('colab-df-quickchart-complete');\n",
              "    }\n",
              "    (() => {\n",
              "      let quickchartButtonEl =\n",
              "        document.querySelector('#df-d3c99cbc-2d27-4df5-9723-b799c22c6fa1 button');\n",
              "      quickchartButtonEl.style.display =\n",
              "        google.colab.kernel.accessAllowed ? 'block' : 'none';\n",
              "    })();\n",
              "  </script>\n",
              "</div>\n",
              "\n",
              "  <div id=\"id_2bef7f16-8df6-4d03-b70a-3d2aee607754\">\n",
              "    <style>\n",
              "      .colab-df-generate {\n",
              "        background-color: #E8F0FE;\n",
              "        border: none;\n",
              "        border-radius: 50%;\n",
              "        cursor: pointer;\n",
              "        display: none;\n",
              "        fill: #1967D2;\n",
              "        height: 32px;\n",
              "        padding: 0 0 0 0;\n",
              "        width: 32px;\n",
              "      }\n",
              "\n",
              "      .colab-df-generate:hover {\n",
              "        background-color: #E2EBFA;\n",
              "        box-shadow: 0px 1px 2px rgba(60, 64, 67, 0.3), 0px 1px 3px 1px rgba(60, 64, 67, 0.15);\n",
              "        fill: #174EA6;\n",
              "      }\n",
              "\n",
              "      [theme=dark] .colab-df-generate {\n",
              "        background-color: #3B4455;\n",
              "        fill: #D2E3FC;\n",
              "      }\n",
              "\n",
              "      [theme=dark] .colab-df-generate:hover {\n",
              "        background-color: #434B5C;\n",
              "        box-shadow: 0px 1px 3px 1px rgba(0, 0, 0, 0.15);\n",
              "        filter: drop-shadow(0px 1px 2px rgba(0, 0, 0, 0.3));\n",
              "        fill: #FFFFFF;\n",
              "      }\n",
              "    </style>\n",
              "    <button class=\"colab-df-generate\" onclick=\"generateWithVariable('df')\"\n",
              "            title=\"Generate code using this dataframe.\"\n",
              "            style=\"display:none;\">\n",
              "\n",
              "  <svg xmlns=\"http://www.w3.org/2000/svg\" height=\"24px\"viewBox=\"0 0 24 24\"\n",
              "       width=\"24px\">\n",
              "    <path d=\"M7,19H8.4L18.45,9,17,7.55,7,17.6ZM5,21V16.75L18.45,3.32a2,2,0,0,1,2.83,0l1.4,1.43a1.91,1.91,0,0,1,.58,1.4,1.91,1.91,0,0,1-.58,1.4L9.25,21ZM18.45,9,17,7.55Zm-12,3A5.31,5.31,0,0,0,4.9,8.1,5.31,5.31,0,0,0,1,6.5,5.31,5.31,0,0,0,4.9,4.9,5.31,5.31,0,0,0,6.5,1,5.31,5.31,0,0,0,8.1,4.9,5.31,5.31,0,0,0,12,6.5,5.46,5.46,0,0,0,6.5,12Z\"/>\n",
              "  </svg>\n",
              "    </button>\n",
              "    <script>\n",
              "      (() => {\n",
              "      const buttonEl =\n",
              "        document.querySelector('#id_2bef7f16-8df6-4d03-b70a-3d2aee607754 button.colab-df-generate');\n",
              "      buttonEl.style.display =\n",
              "        google.colab.kernel.accessAllowed ? 'block' : 'none';\n",
              "\n",
              "      buttonEl.onclick = () => {\n",
              "        google.colab.notebook.generateWithVariable('df');\n",
              "      }\n",
              "      })();\n",
              "    </script>\n",
              "  </div>\n",
              "\n",
              "    </div>\n",
              "  </div>\n"
            ],
            "application/vnd.google.colaboratory.intrinsic+json": {
              "type": "dataframe",
              "variable_name": "df",
              "summary": "{\n  \"name\": \"df\",\n  \"rows\": 3848,\n  \"fields\": [\n    {\n      \"column\": \"Texto\",\n      \"properties\": {\n        \"dtype\": \"string\",\n        \"num_unique_values\": 3706,\n        \"samples\": [\n          \"rt @abettylondono: @claudialopez @ivanduque @citytv @noticiasrcn @juanlozano_r @juandiegoalvira hoy le lleg\\u00f3 este mensaje a mi hermano de @\\u2026\",\n          \"RT @infopresidencia: Si todos los colombianos descargan la aplicaci\\u00f3n m\\u00f3vil #CoronAppColombia podremos focalizar los puntos de contagio y c\\u2026\",\n          \"cu\\u00eddate de tus propios bienes  en un hermoso bosque viv\\u00eda un ciervo y un buey, ambos animales nunca hab\\u00edan tenido la oportunidad de conocerse as\\u00ed que los encantos del bosque les ayud\\u00f3 a presentarse al uno al otro.  inmediatamente se hicieron grandes amigos y compart\\u00edan los mejores momentos entre s\\u00ed, el ciervo le relataba a su nuevo amigo todas las cosas conocidas que se escond\\u00edan tras los arbustos y los \\u00e1rboles, por su parte el buey contaba todo lo que hab\\u00eda podido aprender a trav\\u00e9s de los a\\u00f1os que hab\\u00eda pasado viviendo al lado de los humanos.  un d\\u00eda el ciervo vio algo de su agrado a lo lejos, fue entonces que decidi\\u00f3 lanzarse a la b\\u00fasqueda de aquel objeto. el buey se anex\\u00f3 al viaje emocionado y empezaron a caminar.  de repente, acamparon una noche para descansar y ah\\u00ed fue, cuando el buey se dio cuenta que su camarada hab\\u00eda robado una gran abundancia de ma\\u00edz de un huerto al lado de su campamento.   en ese momento el buey comenz\\u00f3 a recordar los consejos que hab\\u00eda recibido y comprendi\\u00f3 que dar y tomar sin necesidad de pr\\u00e9stamo no es la forma adecuada de hacerse de alguna cosa.  entonces el buey explic\\u00f3 a su amigo el ciervo que cada quien debe cuidar de sus propios bienes.   el ciervo escuch\\u00f3 aquel consejo, devolvi\\u00f3 el ma\\u00edz al due\\u00f1o, se disculp\\u00f3 por su error y con un compromiso en el coraz\\u00f3n, se despidi\\u00f3 del buey para continuar con su aventura con la lecci\\u00f3n recibida en mente.\"\n        ],\n        \"semantic_type\": \"\",\n        \"description\": \"\"\n      }\n    },\n    {\n      \"column\": \"Tipo de fuente\",\n      \"properties\": {\n        \"dtype\": \"category\",\n        \"num_unique_values\": 6,\n        \"samples\": [\n          \"Cuentos\",\n          \"Ensayos\",\n          \"Tweets\"\n        ],\n        \"semantic_type\": \"\",\n        \"description\": \"\"\n      }\n    },\n    {\n      \"column\": \"Clasificacion\",\n      \"properties\": {\n        \"dtype\": \"category\",\n        \"num_unique_values\": 2,\n        \"samples\": [\n          \"LLM\",\n          \"Human\"\n        ],\n        \"semantic_type\": \"\",\n        \"description\": \"\"\n      }\n    }\n  ]\n}"
            }
          },
          "metadata": {},
          "execution_count": 18
        }
      ]
    },
    {
      "cell_type": "code",
      "source": [
        "list(df['Tipo de fuente'].unique())"
      ],
      "metadata": {
        "colab": {
          "base_uri": "https://localhost:8080/"
        },
        "id": "TdnzC2sfgAMU",
        "outputId": "237482b9-c8d6-473c-d8c9-3a5650e18315"
      },
      "execution_count": null,
      "outputs": [
        {
          "output_type": "execute_result",
          "data": {
            "text/plain": [
              "['Cuentos', 'Ensayos', 'Fabulas', 'Noticias', 'Poemas', 'Tweets']"
            ]
          },
          "metadata": {},
          "execution_count": 19
        }
      ]
    },
    {
      "cell_type": "code",
      "source": [
        "from sklearn.model_selection import train_test_split\n",
        "from sklearn import preprocessing\n",
        "le = preprocessing.LabelEncoder()\n",
        "X_train = {}\n",
        "X_test = {}\n",
        "y_train = {}\n",
        "y_test = {}\n",
        "print('All Data', df.shape)\n",
        "for item in list(df['Tipo de fuente'].unique()):\n",
        "  df_filter = df[df['Tipo de fuente'] == item]\n",
        "  print('\\t Data:', item,  df_filter.shape)\n",
        "  X_train[item], X_test[item], y_train[item], y_test[item] = train_test_split(df_filter['Texto'].values, le.fit_transform(df_filter['Clasificacion'].values), test_size=0.33, random_state=42)\n"
      ],
      "metadata": {
        "colab": {
          "base_uri": "https://localhost:8080/"
        },
        "id": "eVXMOOZnBAYk",
        "outputId": "070f0841-f04c-427e-925f-a5076360faa3"
      },
      "execution_count": null,
      "outputs": [
        {
          "output_type": "stream",
          "name": "stdout",
          "text": [
            "All Data (3848, 3)\n",
            "\t Data: Cuentos (100, 3)\n",
            "\t Data: Ensayos (127, 3)\n",
            "\t Data: Fabulas (184, 3)\n",
            "\t Data: Noticias (499, 3)\n",
            "\t Data: Poemas (198, 3)\n",
            "\t Data: Tweets (2740, 3)\n"
          ]
        }
      ]
    },
    {
      "cell_type": "code",
      "source": [
        "stop_words = nltk.corpus.stopwords.words ('spanish')\n",
        "X_train_vec = {}\n",
        "X_test_vec = {}\n",
        "baselines = {}\n",
        "\n",
        "for item in list(df['Tipo de fuente'].unique()):\n",
        "  print('-'*50, item, '-'*50)\n",
        "  vectorizer = TfidfVectorizer (\n",
        "    analyzer = 'word',\n",
        "    lowercase = True,\n",
        "    preprocessor=pre_process, tokenizer=tokenize_stemmer,\n",
        "    stop_words= stop_words\n",
        "  )\n",
        "  # print(X_train[item])\n",
        "  # print(X_test[item])\n",
        "  X_train_vec[item] = vectorizer.fit_transform (X_train[item])\n",
        "  X_test_vec[item] = vectorizer.transform (X_test[item])\n",
        "  baselines[item] = {}\n",
        "  baselines[item]['lr'] = LogisticRegression ()\n",
        "  baselines[item]['lr'].fit (X_train_vec[item], y_train[item])\n",
        "  print('score train: ', baselines[item]['lr'].score(X_train_vec[item], y_train[item]))\n",
        "\n",
        "  y_pred = baselines[item]['lr'].predict (X_test_vec[item])\n",
        "  print('Test predcit')\n",
        "  print(classification_report(y_test[item], y_pred, zero_division = 0, digits = 6))"
      ],
      "metadata": {
        "colab": {
          "base_uri": "https://localhost:8080/"
        },
        "id": "VM4H5CPtkfVO",
        "outputId": "a8df8332-210f-467f-ff1e-517a983c065e"
      },
      "execution_count": null,
      "outputs": [
        {
          "output_type": "stream",
          "name": "stdout",
          "text": [
            "-------------------------------------------------- Cuentos --------------------------------------------------\n"
          ]
        },
        {
          "output_type": "stream",
          "name": "stderr",
          "text": [
            "/usr/local/lib/python3.10/dist-packages/sklearn/feature_extraction/text.py:528: UserWarning: The parameter 'token_pattern' will not be used since 'tokenizer' is not None'\n",
            "  warnings.warn(\n"
          ]
        },
        {
          "output_type": "stream",
          "name": "stdout",
          "text": [
            "score train:  1.0\n",
            "Test predcit\n",
            "              precision    recall  f1-score   support\n",
            "\n",
            "           0   0.454545  0.263158  0.333333        19\n",
            "           1   0.363636  0.571429  0.444444        14\n",
            "\n",
            "    accuracy                       0.393939        33\n",
            "   macro avg   0.409091  0.417293  0.388889        33\n",
            "weighted avg   0.415978  0.393939  0.380471        33\n",
            "\n",
            "-------------------------------------------------- Ensayos --------------------------------------------------\n"
          ]
        },
        {
          "output_type": "stream",
          "name": "stderr",
          "text": [
            "/usr/local/lib/python3.10/dist-packages/sklearn/feature_extraction/text.py:528: UserWarning: The parameter 'token_pattern' will not be used since 'tokenizer' is not None'\n",
            "  warnings.warn(\n"
          ]
        },
        {
          "output_type": "stream",
          "name": "stdout",
          "text": [
            "score train:  0.9647058823529412\n",
            "Test predcit\n",
            "              precision    recall  f1-score   support\n",
            "\n",
            "           0   0.833333  0.952381  0.888889        21\n",
            "           1   0.944444  0.809524  0.871795        21\n",
            "\n",
            "    accuracy                       0.880952        42\n",
            "   macro avg   0.888889  0.880952  0.880342        42\n",
            "weighted avg   0.888889  0.880952  0.880342        42\n",
            "\n",
            "-------------------------------------------------- Fabulas --------------------------------------------------\n"
          ]
        },
        {
          "output_type": "stream",
          "name": "stderr",
          "text": [
            "/usr/local/lib/python3.10/dist-packages/sklearn/feature_extraction/text.py:528: UserWarning: The parameter 'token_pattern' will not be used since 'tokenizer' is not None'\n",
            "  warnings.warn(\n"
          ]
        },
        {
          "output_type": "stream",
          "name": "stdout",
          "text": [
            "score train:  0.983739837398374\n",
            "Test predcit\n",
            "              precision    recall  f1-score   support\n",
            "\n",
            "           0   0.900000  0.562500  0.692308        32\n",
            "           1   0.658537  0.931034  0.771429        29\n",
            "\n",
            "    accuracy                       0.737705        61\n",
            "   macro avg   0.779268  0.746767  0.731868        61\n",
            "weighted avg   0.785206  0.737705  0.729923        61\n",
            "\n",
            "-------------------------------------------------- Noticias --------------------------------------------------\n"
          ]
        },
        {
          "output_type": "stream",
          "name": "stderr",
          "text": [
            "/usr/local/lib/python3.10/dist-packages/sklearn/feature_extraction/text.py:528: UserWarning: The parameter 'token_pattern' will not be used since 'tokenizer' is not None'\n",
            "  warnings.warn(\n"
          ]
        },
        {
          "output_type": "stream",
          "name": "stdout",
          "text": [
            "score train:  0.9880239520958084\n",
            "Test predcit\n",
            "              precision    recall  f1-score   support\n",
            "\n",
            "           0   0.831169  0.752941  0.790123        85\n",
            "           1   0.761364  0.837500  0.797619        80\n",
            "\n",
            "    accuracy                       0.793939       165\n",
            "   macro avg   0.796266  0.795221  0.793871       165\n",
            "weighted avg   0.797324  0.793939  0.793758       165\n",
            "\n",
            "-------------------------------------------------- Poemas --------------------------------------------------\n"
          ]
        },
        {
          "output_type": "stream",
          "name": "stderr",
          "text": [
            "/usr/local/lib/python3.10/dist-packages/sklearn/feature_extraction/text.py:528: UserWarning: The parameter 'token_pattern' will not be used since 'tokenizer' is not None'\n",
            "  warnings.warn(\n"
          ]
        },
        {
          "output_type": "stream",
          "name": "stdout",
          "text": [
            "score train:  1.0\n",
            "Test predcit\n",
            "              precision    recall  f1-score   support\n",
            "\n",
            "           0   0.666667  0.545455  0.600000        33\n",
            "           1   0.615385  0.727273  0.666667        33\n",
            "\n",
            "    accuracy                       0.636364        66\n",
            "   macro avg   0.641026  0.636364  0.633333        66\n",
            "weighted avg   0.641026  0.636364  0.633333        66\n",
            "\n",
            "-------------------------------------------------- Tweets --------------------------------------------------\n"
          ]
        },
        {
          "output_type": "stream",
          "name": "stderr",
          "text": [
            "/usr/local/lib/python3.10/dist-packages/sklearn/feature_extraction/text.py:528: UserWarning: The parameter 'token_pattern' will not be used since 'tokenizer' is not None'\n",
            "  warnings.warn(\n"
          ]
        },
        {
          "output_type": "stream",
          "name": "stdout",
          "text": [
            "score train:  0.9095367847411444\n",
            "Test predcit\n",
            "              precision    recall  f1-score   support\n",
            "\n",
            "           0   0.654045  0.827887  0.730769       459\n",
            "           1   0.756173  0.549327  0.636364       446\n",
            "\n",
            "    accuracy                       0.690608       905\n",
            "   macro avg   0.705109  0.688607  0.683566       905\n",
            "weighted avg   0.704375  0.690608  0.684244       905\n",
            "\n"
          ]
        }
      ]
    }
  ]
}