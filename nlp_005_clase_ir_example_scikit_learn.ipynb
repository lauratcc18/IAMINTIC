{
  "nbformat": 4,
  "nbformat_minor": 0,
  "metadata": {
    "colab": {
      "provenance": [],
      "include_colab_link": true
    },
    "kernelspec": {
      "name": "python3",
      "display_name": "Python 3"
    },
    "language_info": {
      "name": "python"
    }
  },
  "cells": [
    {
      "cell_type": "markdown",
      "metadata": {
        "id": "view-in-github",
        "colab_type": "text"
      },
      "source": [
        "<a href=\"https://colab.research.google.com/github/lauratcc18/IAMINTIC/blob/main/nlp_005_clase_ir_example_scikit_learn.ipynb\" target=\"_parent\"><img src=\"https://colab.research.google.com/assets/colab-badge.svg\" alt=\"Open In Colab\"/></a>"
      ]
    },
    {
      "cell_type": "markdown",
      "source": [
        "#NLP - IR\n",
        "### Luis Gabriel Moreno Sandoval\n",
        "### morenoluis@javeriana.edu.co"
      ],
      "metadata": {
        "id": "dFGFonUOwHZO"
      }
    },
    {
      "cell_type": "code",
      "source": [
        "from sklearn.feature_extraction.text import TfidfVectorizer, CountVectorizer\n",
        "from sklearn.metrics.pairwise import cosine_similarity\n",
        "from nltk.stem import SnowballStemmer\n",
        "import nltk\n",
        "nltk.download('stopwords')\n",
        "nltk.download('punkt')\n",
        "stop_words_spanish = nltk.corpus.stopwords.words('spanish') # english\n",
        "stemmer = SnowballStemmer('spanish')"
      ],
      "metadata": {
        "colab": {
          "base_uri": "https://localhost:8080/"
        },
        "id": "4kmOzZNzBpNC",
        "outputId": "f938b6cc-3d21-453e-9909-6c21a7606dde"
      },
      "execution_count": null,
      "outputs": [
        {
          "output_type": "stream",
          "name": "stderr",
          "text": [
            "[nltk_data] Downloading package stopwords to /root/nltk_data...\n",
            "[nltk_data]   Unzipping corpora/stopwords.zip.\n",
            "[nltk_data] Downloading package punkt to /root/nltk_data...\n",
            "[nltk_data]   Unzipping tokenizers/punkt.zip.\n"
          ]
        }
      ]
    },
    {
      "cell_type": "code",
      "source": [
        "def pre_process(text):\n",
        "  # print('before pre_process', text)\n",
        "  text = text.lower()\n",
        "  # print('after pre_process', text)\n",
        "  return text"
      ],
      "metadata": {
        "id": "_vS1HfTRBux4"
      },
      "execution_count": null,
      "outputs": []
    },
    {
      "cell_type": "code",
      "source": [
        "def tokenize_stemmer(text):\n",
        "  tokens_doc = nltk.word_tokenize(text)\n",
        "  tokens_docs_stem = [stemmer.stem(w) for w in tokens_doc if w.isalpha()]\n",
        "  # tokens_docs_stem = [stemmer.stem(w) for w in tokens_doc_wo_stop]\n",
        "  return  tokens_docs_stem # tokens_doc_wo_stop #"
      ],
      "metadata": {
        "id": "Ex0-AEB3CqJk"
      },
      "execution_count": null,
      "outputs": []
    },
    {
      "cell_type": "code",
      "execution_count": null,
      "metadata": {
        "colab": {
          "base_uri": "https://localhost:8080/"
        },
        "id": "D9s8FlcNBNWD",
        "outputId": "244fdfdd-d0bc-4555-ba1e-b6dde3060a74"
      },
      "outputs": [
        {
          "output_type": "stream",
          "name": "stdout",
          "text": [
            "['abon' 'acuerd' 'ahorr' 'alcald' 'aleman' 'algun' 'alvar' 'ancelotti'\n",
            " 'aport' 'asi' 'aspir' 'año' 'años' 'blu' 'borussi' 'brind' 'buen' 'busc'\n",
            " 'camin' 'camp' 'campeon' 'carcel' 'carl' 'cartagen' 'carvajal' 'cas'\n",
            " 'champions' 'cne' 'coincid' 'colombi' 'colombian' 'com' 'competicion'\n",
            " 'compr' 'conjunt' 'conoc' 'conquist' 'consagr' 'consej' 'consum'\n",
            " 'courtois' 'credit' 'cuand' 'cubr' 'cuent' 'cuot' 'dan' 'dani'\n",
            " 'decimoquint' 'decision' 'demor' 'derrot' 'despues' 'diferent' 'diner'\n",
            " 'dirig' 'dond' 'dortmund' 'electoral' 'embarg' 'emisor' 'enred' 'entidad'\n",
            " 'español' 'estadi' 'estan' 'estudi' 'estuv' 'exig' 'expert' 'fieston'\n",
            " 'final' 'financ' 'freinquel' 'futur' 'gast' 'gol' 'gracios' 'habr' 'hac'\n",
            " 'hernan' 'hipotec' 'hipotecari' 'hit' 'hombr' 'hor' 'implic' 'import'\n",
            " 'inclus' 'inform' 'inglaterr' 'interes' 'invad' 'inversion' 'judicial'\n",
            " 'junior' 'leag' 'libr' 'liquid' 'liquidez' 'lopesierr' 'madr' 'magistr'\n",
            " 'maica' 'maner' 'marlbor' 'mas' 'mejor' 'mensual' 'metod' 'miercol'\n",
            " 'mism' 'mistic' 'much' 'nacional' 'narcotraf' 'nicolas' 'notici' 'nuev'\n",
            " 'oblig' 'ocasion' 'opcion' 'pag' 'par' 'part' 'pas' 'pes' 'petr' 'plan'\n",
            " 'podr' 'polit' 'ponenci' 'porcentaj' 'prad' 'present' 'prest' 'prestam'\n",
            " 'propi' 'pued' 'radi' 'real' 'recib' 'red' 'reduc' 'revoc' 'revocatori'\n",
            " 'sab' 'sac' 'samuel' 'santand' 'segun' 'selfi' 'sencill' 'septiembr'\n",
            " 'señal' 'silvan' 'sobr' 'social' 'subsidi' 'sueñ' 'tambien' 'tard' 'tas'\n",
            " 'testig' 'thibaut' 'tiemp' 'tien' 'tom' 'tras' 'truc' 'tuv' 'uef'\n",
            " 'unanim' 'unid' 'usa' 'usar' 'vari' 'vea' 'vez' 'viabl' 'vincul'\n",
            " 'vinicius' 'vis' 'wembley']\n",
            "184\n"
          ]
        }
      ],
      "source": [
        "docs_raw = []\n",
        "docs_raw.append(\"\"\"El estadio de Wembley, en Inglaterra, fue testigo de un nuevo hito del Real Madrid. Los españoles derrotaron 2-0 al Borussia Dortmund, este sábado, y se consagraron campeones de la UEFA Champions League, conquistando por décimoquinta vez esta competición.\n",
        "(Le puede interesar: Final de la Champions League se demoró por graciosos que invadieron el campo por una selfi)\n",
        "A pesar de que el conjunto alemán tuvo una buena presentación y exigió en varias ocasiones a Thibaut Courtois, los dirigidos por Carlo Ancelotti sacaron su mística y con goles de Dani Carvajal y Vinícius Júnior, liquidaron el partido.\n",
        "\"\"\")\n",
        "docs_raw.append(\"\"\"Los préstamos de dinero a partir del crédito, ya sean para consumo, hipoteca o libre inversión, son para muchos colombianos una de las opciones más viables a la hora de cubrir\n",
        "gastos en el presente (cuando no se tiene liquidez o dinero en la cuenta) y pagar esas obligaciones en el futuro.\"\"\")\n",
        "docs_raw.append(\"\"\"Samuel Santander Lopesierra, más conocido como el ‘Hombre Marlboro’, recibió la noticia en la tarde de este miércoles 27 de septiembre de su revocatoria a la Alcaldía de Maicao, después de la decisión que tomó el Consejo Nacional Electoral (CNE) tras estudiar la ponencia presentada por el magistrado Álvaro Hernán Prada, según informó Blu Radio.\n",
        "(Vea también: Nicolás Petro y el fiestón en Cartagena, donde habría coincidido con el ‘Hombre Marlboro’)\n",
        "De manera unánime los magistrados tomaron la decisión de revocar esta aspiración política por los enredos judiciales que tuvo Santander Lopesierra por vínculos con el narcotráfico y por los que incluso estuvo en una cárcel de Estados Unidos hace algunos años, de acuerdo con la emisora. \"\"\")\n",
        "docs_raw.append(\"\"\" En Colombia muchos sueñan con comprar su casa propia y otros ya están en el camino de hacerlo. Los créditos hipotecarios son decisiones importantes y por eso es importante buscar las mejores tasas de interés en diferentes entidades financieras. Sin embargo, también hay trucos que se pueden usar para reducir el tiempo de pago.\n",
        "(Vea también: Así es el plan para compra casa VIS (y con subsidio) en 2024: se la dan este mismo año)\n",
        "Este es un método que brindó la experta en compra de casa Silvana Freinquel, que usa sus redes sociales para brindar trucos sobre créditos hipotecarios.\n",
        "Con este paso a paso sencillo la experta señala que un préstamo se podría reducir de 7 a 10 años. Sin embargo, implica ahorrar más dinero y abonar mensualmente un porcentaje de la cuota que se aporta.\"\"\")\n",
        "# docs_raw.append('one fish, two fish')\n",
        "# docs_raw.append('Red fish, blue fish')\n",
        "# docs_raw.append('cat in The Hat')\n",
        "# docs_raw.append('Green eggs and ham')\n",
        "# docs_raw.append('Green eggs and ham')\n",
        "# docs_raw.append('Green eggs and ham')\n",
        "\n",
        "tfidf = TfidfVectorizer(preprocessor=pre_process, tokenizer=tokenize_stemmer, stop_words=stop_words_spanish)\n",
        "# tfidf = TfidfVectorizer()\n",
        "tfs = tfidf.fit_transform(docs_raw)\n",
        "print(tfidf.get_feature_names_out())\n",
        "print(len(tfidf.get_feature_names_out()))"
      ]
    },
    {
      "cell_type": "code",
      "source": [
        "docs_num, feature_num = tfs.shape\n",
        "feature_names = tfidf.get_feature_names_out()\n",
        "print(\"n_docs: %d, n_features: %d\" % tfs.shape)"
      ],
      "metadata": {
        "colab": {
          "base_uri": "https://localhost:8080/"
        },
        "id": "DQFkM4wiFamK",
        "outputId": "edf1a415-edc7-4229-b488-d2586537a3f5"
      },
      "execution_count": null,
      "outputs": [
        {
          "output_type": "stream",
          "name": "stdout",
          "text": [
            "n_docs: 4, n_features: 184\n"
          ]
        }
      ]
    },
    {
      "cell_type": "code",
      "source": [
        "print(\"###### Calculo de Feature Names ######\")\n",
        "for x in range(0, feature_num):\n",
        "    print(\" # \", x ,\" - \",feature_names[x], \" \\t - \", [tfs[n,x] for n in range(0, docs_num)])"
      ],
      "metadata": {
        "colab": {
          "base_uri": "https://localhost:8080/"
        },
        "id": "bOrW9JBNF1ZJ",
        "outputId": "5122ed29-bdf5-4366-9115-da7ed3e4b810"
      },
      "execution_count": null,
      "outputs": [
        {
          "output_type": "stream",
          "name": "stdout",
          "text": [
            "###### Calculo de Feature Names ######\n",
            " #  0  -  abon  \t -  [0.0, 0.0, 0.0, 0.09779100215115659]\n",
            " #  1  -  acuerd  \t -  [0.0, 0.0, 0.11221856564619924, 0.0]\n",
            " #  2  -  ahorr  \t -  [0.0, 0.0, 0.0, 0.09779100215115659]\n",
            " #  3  -  alcald  \t -  [0.0, 0.0, 0.11221856564619924, 0.0]\n",
            " #  4  -  aleman  \t -  [0.1325768211341713, 0.0, 0.0, 0.0]\n",
            " #  5  -  algun  \t -  [0.0, 0.0, 0.11221856564619924, 0.0]\n",
            " #  6  -  alvar  \t -  [0.0, 0.0, 0.11221856564619924, 0.0]\n",
            " #  7  -  ancelotti  \t -  [0.1325768211341713, 0.0, 0.0, 0.0]\n",
            " #  8  -  aport  \t -  [0.0, 0.0, 0.0, 0.09779100215115659]\n",
            " #  9  -  asi  \t -  [0.0, 0.0, 0.0, 0.09779100215115659]\n",
            " #  10  -  aspir  \t -  [0.0, 0.0, 0.11221856564619924, 0.0]\n",
            " #  11  -  año  \t -  [0.0, 0.0, 0.0, 0.09779100215115659]\n",
            " #  12  -  años  \t -  [0.0, 0.0, 0.08847440611202508, 0.07709954933572422]\n",
            " #  13  -  blu  \t -  [0.0, 0.0, 0.11221856564619924, 0.0]\n",
            " #  14  -  borussi  \t -  [0.1325768211341713, 0.0, 0.0, 0.0]\n",
            " #  15  -  brind  \t -  [0.0, 0.0, 0.0, 0.19558200430231318]\n",
            " #  16  -  buen  \t -  [0.1325768211341713, 0.0, 0.0, 0.0]\n",
            " #  17  -  busc  \t -  [0.0, 0.0, 0.0, 0.09779100215115659]\n",
            " #  18  -  camin  \t -  [0.0, 0.0, 0.0, 0.09779100215115659]\n",
            " #  19  -  camp  \t -  [0.1325768211341713, 0.0, 0.0, 0.0]\n",
            " #  20  -  campeon  \t -  [0.1325768211341713, 0.0, 0.0, 0.0]\n",
            " #  21  -  carcel  \t -  [0.0, 0.0, 0.11221856564619924, 0.0]\n",
            " #  22  -  carl  \t -  [0.1325768211341713, 0.0, 0.0, 0.0]\n",
            " #  23  -  cartagen  \t -  [0.0, 0.0, 0.11221856564619924, 0.0]\n",
            " #  24  -  carvajal  \t -  [0.1325768211341713, 0.0, 0.0, 0.0]\n",
            " #  25  -  cas  \t -  [0.0, 0.0, 0.0, 0.29337300645346975]\n",
            " #  26  -  champions  \t -  [0.2651536422683426, 0.0, 0.0, 0.0]\n",
            " #  27  -  cne  \t -  [0.0, 0.0, 0.11221856564619924, 0.0]\n",
            " #  28  -  coincid  \t -  [0.0, 0.0, 0.11221856564619924, 0.0]\n",
            " #  29  -  colombi  \t -  [0.0, 0.0, 0.0, 0.09779100215115659]\n",
            " #  30  -  colombian  \t -  [0.0, 0.19891319219825618, 0.0, 0.0]\n",
            " #  31  -  com  \t -  [0.0, 0.0, 0.11221856564619924, 0.0]\n",
            " #  32  -  competicion  \t -  [0.1325768211341713, 0.0, 0.0, 0.0]\n",
            " #  33  -  compr  \t -  [0.0, 0.0, 0.0, 0.29337300645346975]\n",
            " #  34  -  conjunt  \t -  [0.1325768211341713, 0.0, 0.0, 0.0]\n",
            " #  35  -  conoc  \t -  [0.0, 0.0, 0.11221856564619924, 0.0]\n",
            " #  36  -  conquist  \t -  [0.1325768211341713, 0.0, 0.0, 0.0]\n",
            " #  37  -  consagr  \t -  [0.1325768211341713, 0.0, 0.0, 0.0]\n",
            " #  38  -  consej  \t -  [0.0, 0.0, 0.11221856564619924, 0.0]\n",
            " #  39  -  consum  \t -  [0.0, 0.19891319219825618, 0.0, 0.0]\n",
            " #  40  -  courtois  \t -  [0.1325768211341713, 0.0, 0.0, 0.0]\n",
            " #  41  -  credit  \t -  [0.0, 0.15682544547105312, 0.0, 0.15419909867144843]\n",
            " #  42  -  cuand  \t -  [0.0, 0.19891319219825618, 0.0, 0.0]\n",
            " #  43  -  cubr  \t -  [0.0, 0.19891319219825618, 0.0, 0.0]\n",
            " #  44  -  cuent  \t -  [0.0, 0.19891319219825618, 0.0, 0.0]\n",
            " #  45  -  cuot  \t -  [0.0, 0.0, 0.0, 0.09779100215115659]\n",
            " #  46  -  dan  \t -  [0.0, 0.0, 0.0, 0.09779100215115659]\n",
            " #  47  -  dani  \t -  [0.1325768211341713, 0.0, 0.0, 0.0]\n",
            " #  48  -  decimoquint  \t -  [0.1325768211341713, 0.0, 0.0, 0.0]\n",
            " #  49  -  decision  \t -  [0.0, 0.0, 0.17694881222405015, 0.07709954933572422]\n",
            " #  50  -  demor  \t -  [0.1325768211341713, 0.0, 0.0, 0.0]\n",
            " #  51  -  derrot  \t -  [0.1325768211341713, 0.0, 0.0, 0.0]\n",
            " #  52  -  despues  \t -  [0.0, 0.0, 0.11221856564619924, 0.0]\n",
            " #  53  -  diferent  \t -  [0.0, 0.0, 0.0, 0.09779100215115659]\n",
            " #  54  -  diner  \t -  [0.0, 0.31365089094210624, 0.0, 0.07709954933572422]\n",
            " #  55  -  dirig  \t -  [0.1325768211341713, 0.0, 0.0, 0.0]\n",
            " #  56  -  dond  \t -  [0.0, 0.0, 0.11221856564619924, 0.0]\n",
            " #  57  -  dortmund  \t -  [0.1325768211341713, 0.0, 0.0, 0.0]\n",
            " #  58  -  electoral  \t -  [0.0, 0.0, 0.11221856564619924, 0.0]\n",
            " #  59  -  embarg  \t -  [0.0, 0.0, 0.0, 0.19558200430231318]\n",
            " #  60  -  emisor  \t -  [0.0, 0.0, 0.11221856564619924, 0.0]\n",
            " #  61  -  enred  \t -  [0.0, 0.0, 0.11221856564619924, 0.0]\n",
            " #  62  -  entidad  \t -  [0.0, 0.0, 0.0, 0.09779100215115659]\n",
            " #  63  -  español  \t -  [0.1325768211341713, 0.0, 0.0, 0.0]\n",
            " #  64  -  estadi  \t -  [0.1325768211341713, 0.0, 0.0, 0.0]\n",
            " #  65  -  estan  \t -  [0.0, 0.0, 0.0, 0.09779100215115659]\n",
            " #  66  -  estudi  \t -  [0.0, 0.0, 0.11221856564619924, 0.0]\n",
            " #  67  -  estuv  \t -  [0.0, 0.0, 0.11221856564619924, 0.0]\n",
            " #  68  -  exig  \t -  [0.1325768211341713, 0.0, 0.0, 0.0]\n",
            " #  69  -  expert  \t -  [0.0, 0.0, 0.0, 0.19558200430231318]\n",
            " #  70  -  fieston  \t -  [0.0, 0.0, 0.11221856564619924, 0.0]\n",
            " #  71  -  final  \t -  [0.1325768211341713, 0.0, 0.0, 0.0]\n",
            " #  72  -  financ  \t -  [0.0, 0.0, 0.0, 0.09779100215115659]\n",
            " #  73  -  freinquel  \t -  [0.0, 0.0, 0.0, 0.09779100215115659]\n",
            " #  74  -  futur  \t -  [0.0, 0.19891319219825618, 0.0, 0.0]\n",
            " #  75  -  gast  \t -  [0.0, 0.19891319219825618, 0.0, 0.0]\n",
            " #  76  -  gol  \t -  [0.1325768211341713, 0.0, 0.0, 0.0]\n",
            " #  77  -  gracios  \t -  [0.1325768211341713, 0.0, 0.0, 0.0]\n",
            " #  78  -  habr  \t -  [0.0, 0.0, 0.11221856564619924, 0.0]\n",
            " #  79  -  hac  \t -  [0.0, 0.0, 0.08847440611202508, 0.07709954933572422]\n",
            " #  80  -  hernan  \t -  [0.0, 0.0, 0.11221856564619924, 0.0]\n",
            " #  81  -  hipotec  \t -  [0.0, 0.19891319219825618, 0.0, 0.0]\n",
            " #  82  -  hipotecari  \t -  [0.0, 0.0, 0.0, 0.19558200430231318]\n",
            " #  83  -  hit  \t -  [0.1325768211341713, 0.0, 0.0, 0.0]\n",
            " #  84  -  hombr  \t -  [0.0, 0.0, 0.22443713129239848, 0.0]\n",
            " #  85  -  hor  \t -  [0.0, 0.19891319219825618, 0.0, 0.0]\n",
            " #  86  -  implic  \t -  [0.0, 0.0, 0.0, 0.09779100215115659]\n",
            " #  87  -  import  \t -  [0.0, 0.0, 0.0, 0.19558200430231318]\n",
            " #  88  -  inclus  \t -  [0.0, 0.0, 0.11221856564619924, 0.0]\n",
            " #  89  -  inform  \t -  [0.0, 0.0, 0.11221856564619924, 0.0]\n",
            " #  90  -  inglaterr  \t -  [0.1325768211341713, 0.0, 0.0, 0.0]\n",
            " #  91  -  interes  \t -  [0.10452508857622575, 0.0, 0.0, 0.07709954933572422]\n",
            " #  92  -  invad  \t -  [0.1325768211341713, 0.0, 0.0, 0.0]\n",
            " #  93  -  inversion  \t -  [0.0, 0.19891319219825618, 0.0, 0.0]\n",
            " #  94  -  judicial  \t -  [0.0, 0.0, 0.11221856564619924, 0.0]\n",
            " #  95  -  junior  \t -  [0.1325768211341713, 0.0, 0.0, 0.0]\n",
            " #  96  -  leag  \t -  [0.2651536422683426, 0.0, 0.0, 0.0]\n",
            " #  97  -  libr  \t -  [0.0, 0.19891319219825618, 0.0, 0.0]\n",
            " #  98  -  liquid  \t -  [0.1325768211341713, 0.0, 0.0, 0.0]\n",
            " #  99  -  liquidez  \t -  [0.0, 0.19891319219825618, 0.0, 0.0]\n",
            " #  100  -  lopesierr  \t -  [0.0, 0.0, 0.22443713129239848, 0.0]\n",
            " #  101  -  madr  \t -  [0.1325768211341713, 0.0, 0.0, 0.0]\n",
            " #  102  -  magistr  \t -  [0.0, 0.0, 0.22443713129239848, 0.0]\n",
            " #  103  -  maica  \t -  [0.0, 0.0, 0.11221856564619924, 0.0]\n",
            " #  104  -  maner  \t -  [0.0, 0.0, 0.11221856564619924, 0.0]\n",
            " #  105  -  marlbor  \t -  [0.0, 0.0, 0.22443713129239848, 0.0]\n",
            " #  106  -  mas  \t -  [0.0, 0.1269637139405623, 0.0716276568188782, 0.0624187299287091]\n",
            " #  107  -  mejor  \t -  [0.0, 0.0, 0.0, 0.09779100215115659]\n",
            " #  108  -  mensual  \t -  [0.0, 0.0, 0.0, 0.09779100215115659]\n",
            " #  109  -  metod  \t -  [0.0, 0.0, 0.0, 0.09779100215115659]\n",
            " #  110  -  miercol  \t -  [0.0, 0.0, 0.11221856564619924, 0.0]\n",
            " #  111  -  mism  \t -  [0.0, 0.0, 0.0, 0.09779100215115659]\n",
            " #  112  -  mistic  \t -  [0.1325768211341713, 0.0, 0.0, 0.0]\n",
            " #  113  -  much  \t -  [0.0, 0.15682544547105312, 0.0, 0.07709954933572422]\n",
            " #  114  -  nacional  \t -  [0.0, 0.0, 0.11221856564619924, 0.0]\n",
            " #  115  -  narcotraf  \t -  [0.0, 0.0, 0.11221856564619924, 0.0]\n",
            " #  116  -  nicolas  \t -  [0.0, 0.0, 0.11221856564619924, 0.0]\n",
            " #  117  -  notici  \t -  [0.0, 0.0, 0.11221856564619924, 0.0]\n",
            " #  118  -  nuev  \t -  [0.1325768211341713, 0.0, 0.0, 0.0]\n",
            " #  119  -  oblig  \t -  [0.0, 0.19891319219825618, 0.0, 0.0]\n",
            " #  120  -  ocasion  \t -  [0.1325768211341713, 0.0, 0.0, 0.0]\n",
            " #  121  -  opcion  \t -  [0.0, 0.19891319219825618, 0.0, 0.0]\n",
            " #  122  -  pag  \t -  [0.0, 0.15682544547105312, 0.0, 0.07709954933572422]\n",
            " #  123  -  par  \t -  [0.0, 0.31365089094210624, 0.0, 0.23129864800717267]\n",
            " #  124  -  part  \t -  [0.10452508857622575, 0.15682544547105312, 0.0, 0.0]\n",
            " #  125  -  pas  \t -  [0.0, 0.0, 0.0, 0.19558200430231318]\n",
            " #  126  -  pes  \t -  [0.1325768211341713, 0.0, 0.0, 0.0]\n",
            " #  127  -  petr  \t -  [0.0, 0.0, 0.11221856564619924, 0.0]\n",
            " #  128  -  plan  \t -  [0.0, 0.0, 0.0, 0.09779100215115659]\n",
            " #  129  -  podr  \t -  [0.0, 0.0, 0.0, 0.09779100215115659]\n",
            " #  130  -  polit  \t -  [0.0, 0.0, 0.11221856564619924, 0.0]\n",
            " #  131  -  ponenci  \t -  [0.0, 0.0, 0.11221856564619924, 0.0]\n",
            " #  132  -  porcentaj  \t -  [0.0, 0.0, 0.0, 0.09779100215115659]\n",
            " #  133  -  prad  \t -  [0.0, 0.0, 0.11221856564619924, 0.0]\n",
            " #  134  -  present  \t -  [0.08462206758439214, 0.1269637139405623, 0.0716276568188782, 0.0]\n",
            " #  135  -  prest  \t -  [0.0, 0.19891319219825618, 0.0, 0.0]\n",
            " #  136  -  prestam  \t -  [0.0, 0.0, 0.0, 0.09779100215115659]\n",
            " #  137  -  propi  \t -  [0.0, 0.0, 0.0, 0.09779100215115659]\n",
            " #  138  -  pued  \t -  [0.10452508857622575, 0.0, 0.0, 0.07709954933572422]\n",
            " #  139  -  radi  \t -  [0.0, 0.0, 0.11221856564619924, 0.0]\n",
            " #  140  -  real  \t -  [0.1325768211341713, 0.0, 0.0, 0.0]\n",
            " #  141  -  recib  \t -  [0.0, 0.0, 0.11221856564619924, 0.0]\n",
            " #  142  -  red  \t -  [0.0, 0.0, 0.0, 0.09779100215115659]\n",
            " #  143  -  reduc  \t -  [0.0, 0.0, 0.0, 0.19558200430231318]\n",
            " #  144  -  revoc  \t -  [0.0, 0.0, 0.11221856564619924, 0.0]\n",
            " #  145  -  revocatori  \t -  [0.0, 0.0, 0.11221856564619924, 0.0]\n",
            " #  146  -  sab  \t -  [0.1325768211341713, 0.0, 0.0, 0.0]\n",
            " #  147  -  sac  \t -  [0.1325768211341713, 0.0, 0.0, 0.0]\n",
            " #  148  -  samuel  \t -  [0.0, 0.0, 0.11221856564619924, 0.0]\n",
            " #  149  -  santand  \t -  [0.0, 0.0, 0.22443713129239848, 0.0]\n",
            " #  150  -  segun  \t -  [0.0, 0.0, 0.11221856564619924, 0.0]\n",
            " #  151  -  selfi  \t -  [0.1325768211341713, 0.0, 0.0, 0.0]\n",
            " #  152  -  sencill  \t -  [0.0, 0.0, 0.0, 0.09779100215115659]\n",
            " #  153  -  septiembr  \t -  [0.0, 0.0, 0.11221856564619924, 0.0]\n",
            " #  154  -  señal  \t -  [0.0, 0.0, 0.0, 0.09779100215115659]\n",
            " #  155  -  silvan  \t -  [0.0, 0.0, 0.0, 0.09779100215115659]\n",
            " #  156  -  sobr  \t -  [0.0, 0.0, 0.0, 0.09779100215115659]\n",
            " #  157  -  social  \t -  [0.0, 0.0, 0.0, 0.09779100215115659]\n",
            " #  158  -  subsidi  \t -  [0.0, 0.0, 0.0, 0.09779100215115659]\n",
            " #  159  -  sueñ  \t -  [0.0, 0.0, 0.0, 0.09779100215115659]\n",
            " #  160  -  tambien  \t -  [0.0, 0.0, 0.08847440611202508, 0.15419909867144843]\n",
            " #  161  -  tard  \t -  [0.0, 0.0, 0.11221856564619924, 0.0]\n",
            " #  162  -  tas  \t -  [0.0, 0.0, 0.0, 0.09779100215115659]\n",
            " #  163  -  testig  \t -  [0.1325768211341713, 0.0, 0.0, 0.0]\n",
            " #  164  -  thibaut  \t -  [0.1325768211341713, 0.0, 0.0, 0.0]\n",
            " #  165  -  tiemp  \t -  [0.0, 0.0, 0.0, 0.09779100215115659]\n",
            " #  166  -  tien  \t -  [0.0, 0.19891319219825618, 0.0, 0.0]\n",
            " #  167  -  tom  \t -  [0.0, 0.0, 0.22443713129239848, 0.0]\n",
            " #  168  -  tras  \t -  [0.0, 0.0, 0.11221856564619924, 0.0]\n",
            " #  169  -  truc  \t -  [0.0, 0.0, 0.0, 0.19558200430231318]\n",
            " #  170  -  tuv  \t -  [0.10452508857622575, 0.0, 0.08847440611202508, 0.0]\n",
            " #  171  -  uef  \t -  [0.1325768211341713, 0.0, 0.0, 0.0]\n",
            " #  172  -  unanim  \t -  [0.0, 0.0, 0.11221856564619924, 0.0]\n",
            " #  173  -  unid  \t -  [0.0, 0.0, 0.11221856564619924, 0.0]\n",
            " #  174  -  usa  \t -  [0.0, 0.0, 0.0, 0.09779100215115659]\n",
            " #  175  -  usar  \t -  [0.0, 0.0, 0.0, 0.09779100215115659]\n",
            " #  176  -  vari  \t -  [0.1325768211341713, 0.0, 0.0, 0.0]\n",
            " #  177  -  vea  \t -  [0.0, 0.0, 0.08847440611202508, 0.07709954933572422]\n",
            " #  178  -  vez  \t -  [0.1325768211341713, 0.0, 0.0, 0.0]\n",
            " #  179  -  viabl  \t -  [0.0, 0.19891319219825618, 0.0, 0.0]\n",
            " #  180  -  vincul  \t -  [0.0, 0.0, 0.11221856564619924, 0.0]\n",
            " #  181  -  vinicius  \t -  [0.1325768211341713, 0.0, 0.0, 0.0]\n",
            " #  182  -  vis  \t -  [0.0, 0.0, 0.0, 0.09779100215115659]\n",
            " #  183  -  wembley  \t -  [0.1325768211341713, 0.0, 0.0, 0.0]\n"
          ]
        }
      ]
    },
    {
      "cell_type": "code",
      "source": [
        "response = tfidf.transform([\"\"\"Pulzo será la nueva casa editorial de Andrés Murcia, actualmente Chief Digital Officer de Prisa Media, en donde ha dirigido con éxito la estrategia digital de medios como Caracol Radio, W Radio, El País, Diario AS, Tropicana, Radioacktiva, LOS40 y Bésame.\n",
        "El nuevo gerente general cuenta con 22 años de experiencia y, además de los medios de Prisa, también fue director de Radio Digital en Caracol Televisión y director de TVEFE para América en la Agencia Española de Noticias EFE.\n",
        "Entre los logros que alcanzó durante su paso por Caracol Radio y los demás medios de esa compañía se destacan apalancar el crecimiento, fidelización y monetización de audiencias, el desarrollo de producto e innovación, además de la transformación digital del negocio tradicional.\"\"\"])\n",
        "\n",
        "print('response:', response)\n",
        "cosine_similarity_response =  cosine_similarity(response, tfs)\n",
        "print(\"n_question: %d, n_features: %d\" % response.shape)\n",
        "print(\"cosine_similarity \", cosine_similarity_response)\n"
      ],
      "metadata": {
        "colab": {
          "base_uri": "https://localhost:8080/"
        },
        "id": "a4eb9ynbGJ7r",
        "outputId": "40dee6fe-6664-4e73-ba17-e1749fe249a0"
      },
      "execution_count": null,
      "outputs": [
        {
          "output_type": "stream",
          "name": "stdout",
          "text": [
            "response:   (0, 160)\t0.1442690916107843\n",
            "  (0, 139)\t0.7319481978615688\n",
            "  (0, 125)\t0.1829870494653922\n",
            "  (0, 123)\t0.1442690916107843\n",
            "  (0, 118)\t0.3659740989307844\n",
            "  (0, 117)\t0.1829870494653922\n",
            "  (0, 63)\t0.1829870494653922\n",
            "  (0, 56)\t0.1829870494653922\n",
            "  (0, 55)\t0.1829870494653922\n",
            "  (0, 44)\t0.1829870494653922\n",
            "  (0, 31)\t0.1829870494653922\n",
            "  (0, 25)\t0.1829870494653922\n",
            "  (0, 12)\t0.1442690916107843\n",
            "n_question: 1, n_features: 184\n",
            "cosine_similarity  [[0.09703937 0.08164867 0.16927005 0.15621093]]\n"
          ]
        }
      ]
    },
    {
      "cell_type": "code",
      "source": [
        "response"
      ],
      "metadata": {
        "colab": {
          "base_uri": "https://localhost:8080/"
        },
        "id": "Ckriju271Y4V",
        "outputId": "025f7a38-ba71-4546-f385-2ef136e6d249"
      },
      "execution_count": null,
      "outputs": [
        {
          "output_type": "execute_result",
          "data": {
            "text/plain": [
              "<1x184 sparse matrix of type '<class 'numpy.float64'>'\n",
              "\twith 13 stored elements in Compressed Sparse Row format>"
            ]
          },
          "metadata": {},
          "execution_count": 18
        }
      ]
    },
    {
      "cell_type": "code",
      "source": [
        "!pip install joblib\n"
      ],
      "metadata": {
        "colab": {
          "base_uri": "https://localhost:8080/"
        },
        "id": "UZZ1oev02ksP",
        "outputId": "2e666ff5-0ce6-490d-89b9-d22ad7cb1da9"
      },
      "execution_count": null,
      "outputs": [
        {
          "output_type": "stream",
          "name": "stdout",
          "text": [
            "Requirement already satisfied: joblib in /usr/local/lib/python3.10/dist-packages (1.4.2)\n"
          ]
        }
      ]
    },
    {
      "cell_type": "code",
      "source": [
        "import pandas as pd\n",
        "dict_data = []\n",
        "count = 0\n",
        "for item in docs_raw:\n",
        "  dict_data.append({'index': count, 'text': item})\n",
        "  count += 1\n",
        "df = pd.DataFrame.from_records(dict_data) # columns=['index', 'text']\n",
        "df"
      ],
      "metadata": {
        "colab": {
          "base_uri": "https://localhost:8080/",
          "height": 175
        },
        "id": "PttgnjSDOCQm",
        "outputId": "3515fd72-212b-4c3d-8af9-167566a2e85f"
      },
      "execution_count": null,
      "outputs": [
        {
          "output_type": "execute_result",
          "data": {
            "text/plain": [
              "   index                                               text\n",
              "0      0  El estadio de Wembley, en Inglaterra, fue test...\n",
              "1      1  Los préstamos de dinero a partir del crédito, ...\n",
              "2      2  Samuel Santander Lopesierra, más conocido como...\n",
              "3      3   En Colombia muchos sueñan con comprar su casa..."
            ],
            "text/html": [
              "\n",
              "  <div id=\"df-7e2b95f2-908b-4401-abf5-9b674cdb30ae\" class=\"colab-df-container\">\n",
              "    <div>\n",
              "<style scoped>\n",
              "    .dataframe tbody tr th:only-of-type {\n",
              "        vertical-align: middle;\n",
              "    }\n",
              "\n",
              "    .dataframe tbody tr th {\n",
              "        vertical-align: top;\n",
              "    }\n",
              "\n",
              "    .dataframe thead th {\n",
              "        text-align: right;\n",
              "    }\n",
              "</style>\n",
              "<table border=\"1\" class=\"dataframe\">\n",
              "  <thead>\n",
              "    <tr style=\"text-align: right;\">\n",
              "      <th></th>\n",
              "      <th>index</th>\n",
              "      <th>text</th>\n",
              "    </tr>\n",
              "  </thead>\n",
              "  <tbody>\n",
              "    <tr>\n",
              "      <th>0</th>\n",
              "      <td>0</td>\n",
              "      <td>El estadio de Wembley, en Inglaterra, fue test...</td>\n",
              "    </tr>\n",
              "    <tr>\n",
              "      <th>1</th>\n",
              "      <td>1</td>\n",
              "      <td>Los préstamos de dinero a partir del crédito, ...</td>\n",
              "    </tr>\n",
              "    <tr>\n",
              "      <th>2</th>\n",
              "      <td>2</td>\n",
              "      <td>Samuel Santander Lopesierra, más conocido como...</td>\n",
              "    </tr>\n",
              "    <tr>\n",
              "      <th>3</th>\n",
              "      <td>3</td>\n",
              "      <td>En Colombia muchos sueñan con comprar su casa...</td>\n",
              "    </tr>\n",
              "  </tbody>\n",
              "</table>\n",
              "</div>\n",
              "    <div class=\"colab-df-buttons\">\n",
              "\n",
              "  <div class=\"colab-df-container\">\n",
              "    <button class=\"colab-df-convert\" onclick=\"convertToInteractive('df-7e2b95f2-908b-4401-abf5-9b674cdb30ae')\"\n",
              "            title=\"Convert this dataframe to an interactive table.\"\n",
              "            style=\"display:none;\">\n",
              "\n",
              "  <svg xmlns=\"http://www.w3.org/2000/svg\" height=\"24px\" viewBox=\"0 -960 960 960\">\n",
              "    <path d=\"M120-120v-720h720v720H120Zm60-500h600v-160H180v160Zm220 220h160v-160H400v160Zm0 220h160v-160H400v160ZM180-400h160v-160H180v160Zm440 0h160v-160H620v160ZM180-180h160v-160H180v160Zm440 0h160v-160H620v160Z\"/>\n",
              "  </svg>\n",
              "    </button>\n",
              "\n",
              "  <style>\n",
              "    .colab-df-container {\n",
              "      display:flex;\n",
              "      gap: 12px;\n",
              "    }\n",
              "\n",
              "    .colab-df-convert {\n",
              "      background-color: #E8F0FE;\n",
              "      border: none;\n",
              "      border-radius: 50%;\n",
              "      cursor: pointer;\n",
              "      display: none;\n",
              "      fill: #1967D2;\n",
              "      height: 32px;\n",
              "      padding: 0 0 0 0;\n",
              "      width: 32px;\n",
              "    }\n",
              "\n",
              "    .colab-df-convert:hover {\n",
              "      background-color: #E2EBFA;\n",
              "      box-shadow: 0px 1px 2px rgba(60, 64, 67, 0.3), 0px 1px 3px 1px rgba(60, 64, 67, 0.15);\n",
              "      fill: #174EA6;\n",
              "    }\n",
              "\n",
              "    .colab-df-buttons div {\n",
              "      margin-bottom: 4px;\n",
              "    }\n",
              "\n",
              "    [theme=dark] .colab-df-convert {\n",
              "      background-color: #3B4455;\n",
              "      fill: #D2E3FC;\n",
              "    }\n",
              "\n",
              "    [theme=dark] .colab-df-convert:hover {\n",
              "      background-color: #434B5C;\n",
              "      box-shadow: 0px 1px 3px 1px rgba(0, 0, 0, 0.15);\n",
              "      filter: drop-shadow(0px 1px 2px rgba(0, 0, 0, 0.3));\n",
              "      fill: #FFFFFF;\n",
              "    }\n",
              "  </style>\n",
              "\n",
              "    <script>\n",
              "      const buttonEl =\n",
              "        document.querySelector('#df-7e2b95f2-908b-4401-abf5-9b674cdb30ae button.colab-df-convert');\n",
              "      buttonEl.style.display =\n",
              "        google.colab.kernel.accessAllowed ? 'block' : 'none';\n",
              "\n",
              "      async function convertToInteractive(key) {\n",
              "        const element = document.querySelector('#df-7e2b95f2-908b-4401-abf5-9b674cdb30ae');\n",
              "        const dataTable =\n",
              "          await google.colab.kernel.invokeFunction('convertToInteractive',\n",
              "                                                    [key], {});\n",
              "        if (!dataTable) return;\n",
              "\n",
              "        const docLinkHtml = 'Like what you see? Visit the ' +\n",
              "          '<a target=\"_blank\" href=https://colab.research.google.com/notebooks/data_table.ipynb>data table notebook</a>'\n",
              "          + ' to learn more about interactive tables.';\n",
              "        element.innerHTML = '';\n",
              "        dataTable['output_type'] = 'display_data';\n",
              "        await google.colab.output.renderOutput(dataTable, element);\n",
              "        const docLink = document.createElement('div');\n",
              "        docLink.innerHTML = docLinkHtml;\n",
              "        element.appendChild(docLink);\n",
              "      }\n",
              "    </script>\n",
              "  </div>\n",
              "\n",
              "\n",
              "<div id=\"df-d786da3f-966b-441a-9478-2e54c17609a6\">\n",
              "  <button class=\"colab-df-quickchart\" onclick=\"quickchart('df-d786da3f-966b-441a-9478-2e54c17609a6')\"\n",
              "            title=\"Suggest charts\"\n",
              "            style=\"display:none;\">\n",
              "\n",
              "<svg xmlns=\"http://www.w3.org/2000/svg\" height=\"24px\"viewBox=\"0 0 24 24\"\n",
              "     width=\"24px\">\n",
              "    <g>\n",
              "        <path d=\"M19 3H5c-1.1 0-2 .9-2 2v14c0 1.1.9 2 2 2h14c1.1 0 2-.9 2-2V5c0-1.1-.9-2-2-2zM9 17H7v-7h2v7zm4 0h-2V7h2v10zm4 0h-2v-4h2v4z\"/>\n",
              "    </g>\n",
              "</svg>\n",
              "  </button>\n",
              "\n",
              "<style>\n",
              "  .colab-df-quickchart {\n",
              "      --bg-color: #E8F0FE;\n",
              "      --fill-color: #1967D2;\n",
              "      --hover-bg-color: #E2EBFA;\n",
              "      --hover-fill-color: #174EA6;\n",
              "      --disabled-fill-color: #AAA;\n",
              "      --disabled-bg-color: #DDD;\n",
              "  }\n",
              "\n",
              "  [theme=dark] .colab-df-quickchart {\n",
              "      --bg-color: #3B4455;\n",
              "      --fill-color: #D2E3FC;\n",
              "      --hover-bg-color: #434B5C;\n",
              "      --hover-fill-color: #FFFFFF;\n",
              "      --disabled-bg-color: #3B4455;\n",
              "      --disabled-fill-color: #666;\n",
              "  }\n",
              "\n",
              "  .colab-df-quickchart {\n",
              "    background-color: var(--bg-color);\n",
              "    border: none;\n",
              "    border-radius: 50%;\n",
              "    cursor: pointer;\n",
              "    display: none;\n",
              "    fill: var(--fill-color);\n",
              "    height: 32px;\n",
              "    padding: 0;\n",
              "    width: 32px;\n",
              "  }\n",
              "\n",
              "  .colab-df-quickchart:hover {\n",
              "    background-color: var(--hover-bg-color);\n",
              "    box-shadow: 0 1px 2px rgba(60, 64, 67, 0.3), 0 1px 3px 1px rgba(60, 64, 67, 0.15);\n",
              "    fill: var(--button-hover-fill-color);\n",
              "  }\n",
              "\n",
              "  .colab-df-quickchart-complete:disabled,\n",
              "  .colab-df-quickchart-complete:disabled:hover {\n",
              "    background-color: var(--disabled-bg-color);\n",
              "    fill: var(--disabled-fill-color);\n",
              "    box-shadow: none;\n",
              "  }\n",
              "\n",
              "  .colab-df-spinner {\n",
              "    border: 2px solid var(--fill-color);\n",
              "    border-color: transparent;\n",
              "    border-bottom-color: var(--fill-color);\n",
              "    animation:\n",
              "      spin 1s steps(1) infinite;\n",
              "  }\n",
              "\n",
              "  @keyframes spin {\n",
              "    0% {\n",
              "      border-color: transparent;\n",
              "      border-bottom-color: var(--fill-color);\n",
              "      border-left-color: var(--fill-color);\n",
              "    }\n",
              "    20% {\n",
              "      border-color: transparent;\n",
              "      border-left-color: var(--fill-color);\n",
              "      border-top-color: var(--fill-color);\n",
              "    }\n",
              "    30% {\n",
              "      border-color: transparent;\n",
              "      border-left-color: var(--fill-color);\n",
              "      border-top-color: var(--fill-color);\n",
              "      border-right-color: var(--fill-color);\n",
              "    }\n",
              "    40% {\n",
              "      border-color: transparent;\n",
              "      border-right-color: var(--fill-color);\n",
              "      border-top-color: var(--fill-color);\n",
              "    }\n",
              "    60% {\n",
              "      border-color: transparent;\n",
              "      border-right-color: var(--fill-color);\n",
              "    }\n",
              "    80% {\n",
              "      border-color: transparent;\n",
              "      border-right-color: var(--fill-color);\n",
              "      border-bottom-color: var(--fill-color);\n",
              "    }\n",
              "    90% {\n",
              "      border-color: transparent;\n",
              "      border-bottom-color: var(--fill-color);\n",
              "    }\n",
              "  }\n",
              "</style>\n",
              "\n",
              "  <script>\n",
              "    async function quickchart(key) {\n",
              "      const quickchartButtonEl =\n",
              "        document.querySelector('#' + key + ' button');\n",
              "      quickchartButtonEl.disabled = true;  // To prevent multiple clicks.\n",
              "      quickchartButtonEl.classList.add('colab-df-spinner');\n",
              "      try {\n",
              "        const charts = await google.colab.kernel.invokeFunction(\n",
              "            'suggestCharts', [key], {});\n",
              "      } catch (error) {\n",
              "        console.error('Error during call to suggestCharts:', error);\n",
              "      }\n",
              "      quickchartButtonEl.classList.remove('colab-df-spinner');\n",
              "      quickchartButtonEl.classList.add('colab-df-quickchart-complete');\n",
              "    }\n",
              "    (() => {\n",
              "      let quickchartButtonEl =\n",
              "        document.querySelector('#df-d786da3f-966b-441a-9478-2e54c17609a6 button');\n",
              "      quickchartButtonEl.style.display =\n",
              "        google.colab.kernel.accessAllowed ? 'block' : 'none';\n",
              "    })();\n",
              "  </script>\n",
              "</div>\n",
              "\n",
              "  <div id=\"id_e6c13203-1843-40a1-8bed-39d3f883a5a3\">\n",
              "    <style>\n",
              "      .colab-df-generate {\n",
              "        background-color: #E8F0FE;\n",
              "        border: none;\n",
              "        border-radius: 50%;\n",
              "        cursor: pointer;\n",
              "        display: none;\n",
              "        fill: #1967D2;\n",
              "        height: 32px;\n",
              "        padding: 0 0 0 0;\n",
              "        width: 32px;\n",
              "      }\n",
              "\n",
              "      .colab-df-generate:hover {\n",
              "        background-color: #E2EBFA;\n",
              "        box-shadow: 0px 1px 2px rgba(60, 64, 67, 0.3), 0px 1px 3px 1px rgba(60, 64, 67, 0.15);\n",
              "        fill: #174EA6;\n",
              "      }\n",
              "\n",
              "      [theme=dark] .colab-df-generate {\n",
              "        background-color: #3B4455;\n",
              "        fill: #D2E3FC;\n",
              "      }\n",
              "\n",
              "      [theme=dark] .colab-df-generate:hover {\n",
              "        background-color: #434B5C;\n",
              "        box-shadow: 0px 1px 3px 1px rgba(0, 0, 0, 0.15);\n",
              "        filter: drop-shadow(0px 1px 2px rgba(0, 0, 0, 0.3));\n",
              "        fill: #FFFFFF;\n",
              "      }\n",
              "    </style>\n",
              "    <button class=\"colab-df-generate\" onclick=\"generateWithVariable('df')\"\n",
              "            title=\"Generate code using this dataframe.\"\n",
              "            style=\"display:none;\">\n",
              "\n",
              "  <svg xmlns=\"http://www.w3.org/2000/svg\" height=\"24px\"viewBox=\"0 0 24 24\"\n",
              "       width=\"24px\">\n",
              "    <path d=\"M7,19H8.4L18.45,9,17,7.55,7,17.6ZM5,21V16.75L18.45,3.32a2,2,0,0,1,2.83,0l1.4,1.43a1.91,1.91,0,0,1,.58,1.4,1.91,1.91,0,0,1-.58,1.4L9.25,21ZM18.45,9,17,7.55Zm-12,3A5.31,5.31,0,0,0,4.9,8.1,5.31,5.31,0,0,0,1,6.5,5.31,5.31,0,0,0,4.9,4.9,5.31,5.31,0,0,0,6.5,1,5.31,5.31,0,0,0,8.1,4.9,5.31,5.31,0,0,0,12,6.5,5.46,5.46,0,0,0,6.5,12Z\"/>\n",
              "  </svg>\n",
              "    </button>\n",
              "    <script>\n",
              "      (() => {\n",
              "      const buttonEl =\n",
              "        document.querySelector('#id_e6c13203-1843-40a1-8bed-39d3f883a5a3 button.colab-df-generate');\n",
              "      buttonEl.style.display =\n",
              "        google.colab.kernel.accessAllowed ? 'block' : 'none';\n",
              "\n",
              "      buttonEl.onclick = () => {\n",
              "        google.colab.notebook.generateWithVariable('df');\n",
              "      }\n",
              "      })();\n",
              "    </script>\n",
              "  </div>\n",
              "\n",
              "    </div>\n",
              "  </div>\n"
            ],
            "application/vnd.google.colaboratory.intrinsic+json": {
              "type": "dataframe",
              "variable_name": "df",
              "summary": "{\n  \"name\": \"df\",\n  \"rows\": 4,\n  \"fields\": [\n    {\n      \"column\": \"index\",\n      \"properties\": {\n        \"dtype\": \"number\",\n        \"std\": 1,\n        \"min\": 0,\n        \"max\": 3,\n        \"num_unique_values\": 4,\n        \"samples\": [\n          1,\n          3,\n          0\n        ],\n        \"semantic_type\": \"\",\n        \"description\": \"\"\n      }\n    },\n    {\n      \"column\": \"text\",\n      \"properties\": {\n        \"dtype\": \"string\",\n        \"num_unique_values\": 4,\n        \"samples\": [\n          \"Los pr\\u00e9stamos de dinero a partir del cr\\u00e9dito, ya sean para consumo, hipoteca o libre inversi\\u00f3n, son para muchos colombianos una de las opciones m\\u00e1s viables a la hora de cubrir\\ngastos en el presente (cuando no se tiene liquidez o dinero en la cuenta) y pagar esas obligaciones en el futuro.\",\n          \" En Colombia muchos sue\\u00f1an con comprar su casa propia y otros ya est\\u00e1n en el camino de hacerlo. Los cr\\u00e9ditos hipotecarios son decisiones importantes y por eso es importante buscar las mejores tasas de inter\\u00e9s en diferentes entidades financieras. Sin embargo, tambi\\u00e9n hay trucos que se pueden usar para reducir el tiempo de pago.\\n(Vea tambi\\u00e9n: As\\u00ed es el plan para compra casa VIS (y con subsidio) en 2024: se la dan este mismo a\\u00f1o)\\nEste es un m\\u00e9todo que brind\\u00f3 la experta en compra de casa Silvana Freinquel, que usa sus redes sociales para brindar trucos sobre cr\\u00e9ditos hipotecarios.\\nCon este paso a paso sencillo la experta se\\u00f1ala que un pr\\u00e9stamo se podr\\u00eda reducir de 7 a 10 a\\u00f1os. Sin embargo, implica ahorrar m\\u00e1s dinero y abonar mensualmente un porcentaje de la cuota que se aporta.\",\n          \"El estadio de Wembley, en Inglaterra, fue testigo de un nuevo hito del Real Madrid. Los espa\\u00f1oles derrotaron 2-0 al Borussia Dortmund, este s\\u00e1bado, y se consagraron campeones de la UEFA Champions League, conquistando por d\\u00e9cimoquinta vez esta competici\\u00f3n.\\n(Le puede interesar: Final de la Champions League se demor\\u00f3 por graciosos que invadieron el campo por una selfi)\\nA pesar de que el conjunto alem\\u00e1n tuvo una buena presentaci\\u00f3n y exigi\\u00f3 en varias ocasiones a Thibaut Courtois, los dirigidos por Carlo Ancelotti sacaron su m\\u00edstica y con goles de Dani Carvajal y Vin\\u00edcius J\\u00fanior, liquidaron el partido.\\n\"\n        ],\n        \"semantic_type\": \"\",\n        \"description\": \"\"\n      }\n    }\n  ]\n}"
            }
          },
          "metadata": {},
          "execution_count": 20
        }
      ]
    },
    {
      "cell_type": "code",
      "source": [
        "from joblib import dump\n",
        "from datetime import datetime\n",
        "data_filename_tf_idf = f\"{datetime.now().strftime('%Y-%m-%d')}_file_tfidf.vec\"\n",
        "data_filename_tfs = f\"{datetime.now().strftime('%Y-%m-%d')}_file_tfs.pkl\"\n",
        "data_filename_df = f\"{datetime.now().strftime('%Y-%m-%d')}_file_df_docs.pkl\"\n",
        "dump(tfidf, data_filename_tf_idf)\n",
        "dump(tfs, data_filename_tfs)\n",
        "dump(df, data_filename_df)"
      ],
      "metadata": {
        "colab": {
          "base_uri": "https://localhost:8080/"
        },
        "id": "MSp1_YdX3ita",
        "outputId": "40c06d48-a1e0-4239-9da0-ba269415cae4"
      },
      "execution_count": null,
      "outputs": [
        {
          "output_type": "execute_result",
          "data": {
            "text/plain": [
              "['2024-06-01_file_df_docs.pkl']"
            ]
          },
          "metadata": {},
          "execution_count": 21
        }
      ]
    },
    {
      "cell_type": "code",
      "source": [
        "from joblib import load\n",
        "tf_idf_2_re = load('/content/2024-06-01_file_tfidf.vec', mmap_mode='r')"
      ],
      "metadata": {
        "id": "FkD8w2wq4sRv"
      },
      "execution_count": null,
      "outputs": []
    },
    {
      "cell_type": "code",
      "source": [
        "response = tf_idf_2_re.transform([\"Hay articulos de deportes o de futbol en la base de conocimiento.\"])\n",
        "print('response:', response)\n",
        "cosine_similarity_response =  cosine_similarity(response, tfs)\n",
        "print(\"n_question: %d, n_features: %d\" % response.shape)\n",
        "print(\"cosine_similarity \", cosine_similarity_response)"
      ],
      "metadata": {
        "colab": {
          "base_uri": "https://localhost:8080/"
        },
        "id": "YjDxsJKp467y",
        "outputId": "68dee8a5-0263-474a-ea32-a9248df825fe"
      },
      "execution_count": null,
      "outputs": [
        {
          "output_type": "stream",
          "name": "stdout",
          "text": [
            "response:   (0, 35)\t1.0\n",
            "n_question: 1, n_features: 184\n",
            "cosine_similarity  [[0.         0.         0.11221857 0.        ]]\n"
          ]
        }
      ]
    },
    {
      "cell_type": "code",
      "source": [
        "import unicodedata\n",
        "def proper_encoding(text):\n",
        "    # print('text: ', text)\n",
        "    text = unicodedata.normalize('NFD', text)\n",
        "    text = text.encode('ascii', 'ignore')\n",
        "    text = text.decode(\"utf-8\")\n",
        "    return text"
      ],
      "metadata": {
        "id": "An19Prqn7tPM"
      },
      "execution_count": null,
      "outputs": []
    },
    {
      "cell_type": "code",
      "source": [
        "text = \"Holá niño otro lingüística.\"\n",
        "print(proper_encoding(text))"
      ],
      "metadata": {
        "colab": {
          "base_uri": "https://localhost:8080/"
        },
        "id": "f7Bk3Q4P71hQ",
        "outputId": "5229c166-c8b8-4e14-eba0-4b65e665b0a3"
      },
      "execution_count": null,
      "outputs": [
        {
          "output_type": "stream",
          "name": "stdout",
          "text": [
            "Hola nino otro linguistica.\n"
          ]
        }
      ]
    },
    {
      "cell_type": "code",
      "source": [
        "from google.colab import drive\n",
        "drive.mount('/content/drive')"
      ],
      "metadata": {
        "id": "6tfBGfdPynZr"
      },
      "execution_count": null,
      "outputs": []
    }
  ]
}