{
  "nbformat": 4,
  "nbformat_minor": 0,
  "metadata": {
    "colab": {
      "provenance": [],
      "include_colab_link": true
    },
    "kernelspec": {
      "name": "python3",
      "display_name": "Python 3"
    },
    "language_info": {
      "name": "python"
    }
  },
  "cells": [
    {
      "cell_type": "markdown",
      "metadata": {
        "id": "view-in-github",
        "colab_type": "text"
      },
      "source": [
        "<a href=\"https://colab.research.google.com/github/lauratcc18/IAMINTIC/blob/main/3_Seleccion_para_problema_de_regresi%C3%B3n.ipynb\" target=\"_parent\"><img src=\"https://colab.research.google.com/assets/colab-badge.svg\" alt=\"Open In Colab\"/></a>"
      ]
    },
    {
      "cell_type": "markdown",
      "source": [
        "# Selección de Características\n",
        "## Problema de regresión\n",
        "En este caso crearemos un dataset numérico tanto en variables de entrada como de salida para modelar un problema de regresión. Para ello usaremos la función make_regression().\n",
        "\n",
        "En un problema de regresión, se puede caluclar que tan fuerte es la relación entre cada entrada con la salida, midiendo su correlación y comparandola con la de las demás variables"
      ],
      "metadata": {
        "id": "CIumTrdLWIth"
      }
    },
    {
      "cell_type": "markdown",
      "source": [
        "### 1. Crear el dataset\n",
        "La función make_regression() nos permite adicionalmente definir el número de muestras, cuántas características de entrada y cuántas de ellas son o no relevantes para la salida.\n",
        "\n",
        "En este caso crearemos un dataset con 1000 muestras y 100 atributos (10 relevantes y 90 irrelevantes) y lo dividiremos en sets de entrenamiento y pruebas para poder ajustar y evaluar el modelo de predicción."
      ],
      "metadata": {
        "id": "8FLaf78ZJnyP"
      }
    },
    {
      "cell_type": "code",
      "source": [
        "from sklearn.datasets import make_regression\n",
        "from sklearn.model_selection import train_test_split\n",
        "\n",
        "# Generar el dataset de regresion\n",
        "X, y = make_regression(n_samples=1000, n_features=100, n_informative=10, noise=0.1,\n",
        "random_state=1)\n",
        "\n",
        "# Dividirlo en sets de entrenamiento y pruebas\n",
        "X_train, X_test, y_train, y_test = train_test_split(X, y, test_size=0.33, random_state=1)\n"
      ],
      "metadata": {
        "id": "RsyKkQpVme8K"
      },
      "execution_count": null,
      "outputs": []
    },
    {
      "cell_type": "markdown",
      "source": [
        "<B>Imprima cómo quedaron repartidos los valores entre los datasets (su forma) </B>\n",
        "\n",
        "<!-- Puede usar el siguiente código:\n",
        "\n",
        "# Mostrar estatus\n",
        "print('Train', X_train.shape, y_train.shape)\n",
        "print('Test', X_test.shape, y_test.shape)\n",
        "\n",
        "-->"
      ],
      "metadata": {
        "id": "mrviDxQBHPpx"
      }
    },
    {
      "cell_type": "code",
      "source": [
        "# Digite su código aqui\n"
      ],
      "metadata": {
        "id": "LjrtZBlPHq6w"
      },
      "execution_count": null,
      "outputs": []
    },
    {
      "cell_type": "markdown",
      "source": [
        "###2. Aplicar el método de selección de características\n",
        "Para datasets numéricos es común utilizar métodos de correlación estadística para seleccionar las características más relevantes. La correlación mide como dos variables cambian conjuntamente, es decir, que tan fuerte el cambio en una variable afecta a la segunda.\n",
        "\n",
        "Una de las más usadas en la correlación de Pearson que asume una distribución Gausiana en cada variable y reporta su relación lineal. El valor de correlación varía entre -1 y 1, donde el 0 significa que no hay correlación, el 1 una correlación directa y el -1 una correlación inversa.\n",
        "\n",
        "Para seleccionar características se manejan valores entre 0 y 1, buscando los que más se aproximen al 1.\n",
        "\n",
        "<B>Utilizando la función f_regression, aplique el método de selección de características para evaluar todos los atributos, de forma similar a como se realizó con chi2 y con mutual information. </B>\n",
        "\n",
        "<!-- Puede utilizar el siguiente código:\n",
        "\n",
        "# Selección de características con correlación estadística\n",
        "fs = SelectKBest(score_func=f_regression, k='all')\n",
        "fs.fit(X_train, y_train)\n",
        "X_train_fs = fs.transform(X_train)\n",
        "X_test_fs = fs.transform(X_test)\n",
        "\n",
        "-->\n"
      ],
      "metadata": {
        "id": "9mWkLXErPHwb"
      }
    },
    {
      "cell_type": "code",
      "source": [
        "from sklearn.feature_selection import SelectKBest\n",
        "from sklearn.feature_selection import f_regression\n",
        "\n",
        "# Digite su código aqui:\n",
        "fs = SelectKBest(score_func=f_regression, k=\"all\")\n",
        "fs.fit(X_train, y_train)\n",
        "X_train_fs = fs.transform(X_train)\n",
        "X_test_fs = fs.transform(X_test)\n"
      ],
      "metadata": {
        "id": "OlsQ4eWO28_v"
      },
      "execution_count": null,
      "outputs": []
    },
    {
      "cell_type": "markdown",
      "source": [
        "<B>Imprima los puntajes de cada variable (entre más alto, mejor) y grafíquelos para darse una idea de cuántas características debería seleccionar.</B>\n",
        "\n",
        "<!-- Puede usar el siguiente código:\n",
        "\n",
        "# Puntajes de las características\n",
        "for i in range(len(fs.scores_)):\n",
        "\tprint('Atributo %d: %f' % (i, fs.scores_[i]))\n",
        "# Diagrama de puntajes\n",
        "pyplot.bar([i for i in range(len(fs.scores_))], fs.scores_)\n",
        "print()\n",
        "pyplot.show()\n",
        "\n",
        "-->"
      ],
      "metadata": {
        "id": "wPsGtzUZQeEq"
      }
    },
    {
      "cell_type": "code",
      "source": [
        "from matplotlib import pyplot\n",
        "\n",
        "# Digite su código aqui:\n",
        "# Puntajes de las características\n",
        "for i in range(len(fs.scores_)):\n",
        "\tprint('Atributo %d: %f' % (i, fs.scores_[i]))\n",
        "# Diagrama de puntajes\n",
        "pyplot.bar([i for i in range(len(fs.scores_))], fs.scores_)\n",
        "print()\n",
        "pyplot.show()"
      ],
      "metadata": {
        "id": "w5kCxmk85Qwh",
        "colab": {
          "base_uri": "https://localhost:8080/",
          "height": 1000
        },
        "outputId": "260e5d46-89eb-4113-bd30-3390fc7595c5"
      },
      "execution_count": null,
      "outputs": [
        {
          "output_type": "stream",
          "name": "stdout",
          "text": [
            "Atributo 0: 0.009419\n",
            "Atributo 1: 1.018881\n",
            "Atributo 2: 1.205187\n",
            "Atributo 3: 0.000138\n",
            "Atributo 4: 0.167511\n",
            "Atributo 5: 5.985083\n",
            "Atributo 6: 0.062405\n",
            "Atributo 7: 1.455257\n",
            "Atributo 8: 0.420384\n",
            "Atributo 9: 101.392225\n",
            "Atributo 10: 0.387091\n",
            "Atributo 11: 1.581124\n",
            "Atributo 12: 3.014463\n",
            "Atributo 13: 0.232705\n",
            "Atributo 14: 0.076281\n",
            "Atributo 15: 4.299652\n",
            "Atributo 16: 1.497530\n",
            "Atributo 17: 0.261242\n",
            "Atributo 18: 5.960005\n",
            "Atributo 19: 0.523219\n",
            "Atributo 20: 0.003365\n",
            "Atributo 21: 0.024178\n",
            "Atributo 22: 0.220958\n",
            "Atributo 23: 0.576770\n",
            "Atributo 24: 0.627198\n",
            "Atributo 25: 0.350687\n",
            "Atributo 26: 0.281877\n",
            "Atributo 27: 0.584210\n",
            "Atributo 28: 52.196337\n",
            "Atributo 29: 0.046855\n",
            "Atributo 30: 0.147323\n",
            "Atributo 31: 0.368485\n",
            "Atributo 32: 0.077631\n",
            "Atributo 33: 0.698140\n",
            "Atributo 34: 45.744046\n",
            "Atributo 35: 2.047376\n",
            "Atributo 36: 0.786270\n",
            "Atributo 37: 0.996190\n",
            "Atributo 38: 2.733533\n",
            "Atributo 39: 63.957656\n",
            "Atributo 40: 231.885540\n",
            "Atributo 41: 1.372448\n",
            "Atributo 42: 0.581860\n",
            "Atributo 43: 1.072930\n",
            "Atributo 44: 1.066976\n",
            "Atributo 45: 0.344656\n",
            "Atributo 46: 13.951551\n",
            "Atributo 47: 3.575080\n",
            "Atributo 48: 0.007299\n",
            "Atributo 49: 0.004651\n",
            "Atributo 50: 1.094585\n",
            "Atributo 51: 0.241065\n",
            "Atributo 52: 0.355137\n",
            "Atributo 53: 0.020294\n",
            "Atributo 54: 0.154567\n",
            "Atributo 55: 2.592512\n",
            "Atributo 56: 0.300175\n",
            "Atributo 57: 0.357798\n",
            "Atributo 58: 3.060090\n",
            "Atributo 59: 0.890357\n",
            "Atributo 60: 122.132164\n",
            "Atributo 61: 2.029982\n",
            "Atributo 62: 0.091551\n",
            "Atributo 63: 1.081123\n",
            "Atributo 64: 0.056041\n",
            "Atributo 65: 2.930717\n",
            "Atributo 66: 0.054886\n",
            "Atributo 67: 1.332787\n",
            "Atributo 68: 0.145579\n",
            "Atributo 69: 0.986331\n",
            "Atributo 70: 0.092661\n",
            "Atributo 71: 0.083219\n",
            "Atributo 72: 0.198847\n",
            "Atributo 73: 2.065792\n",
            "Atributo 74: 0.236594\n",
            "Atributo 75: 0.512608\n",
            "Atributo 76: 1.095650\n",
            "Atributo 77: 0.015359\n",
            "Atributo 78: 2.193730\n",
            "Atributo 79: 1.574530\n",
            "Atributo 80: 5.360863\n",
            "Atributo 81: 0.041874\n",
            "Atributo 82: 5.717705\n",
            "Atributo 83: 0.436560\n",
            "Atributo 84: 5.594438\n",
            "Atributo 85: 0.000065\n",
            "Atributo 86: 0.026748\n",
            "Atributo 87: 0.408422\n",
            "Atributo 88: 2.092557\n",
            "Atributo 89: 9.568498\n",
            "Atributo 90: 0.642445\n",
            "Atributo 91: 0.065794\n",
            "Atributo 92: 198.705931\n",
            "Atributo 93: 0.073807\n",
            "Atributo 94: 1.048605\n",
            "Atributo 95: 0.004106\n",
            "Atributo 96: 0.042110\n",
            "Atributo 97: 0.034228\n",
            "Atributo 98: 0.792433\n",
            "Atributo 99: 0.015365\n",
            "\n"
          ]
        },
        {
          "output_type": "display_data",
          "data": {
            "text/plain": [
              "<Figure size 640x480 with 1 Axes>"
            ],
            "image/png": "[encoded data removed]"
          },
          "metadata": {}
        }
      ]
    },
    {
      "cell_type": "markdown",
      "source": [
        "Los puntajes y la gráfica nos permiten elegir el valor más adecuado para k en SelectKBest."
      ],
      "metadata": {
        "id": "9cLPN5btSPZK"
      }
    },
    {
      "cell_type": "markdown",
      "source": [
        "###3. Modelar\n",
        "Vamos a comparar los resultados que se obtendrían si se aplica un modelo de Regresión lineal que utilice todas las variables de entrada disponibles, contra el modelo con características seleccionadas por correlación estadística.\n",
        "\n",
        "####3.1 Modelo usando todas las características\n",
        "Inicialmente evaluamos el modelo LinearRegression con todas las características, entrenado en el dataset de entrenamiento y evaluado en el de pruebas."
      ],
      "metadata": {
        "id": "KDA8NzZ-a3m0"
      }
    },
    {
      "cell_type": "code",
      "source": [
        "from sklearn.linear_model import LinearRegression\n",
        "from sklearn.metrics import mean_absolute_error\n",
        "\n",
        "# Ajustar el modelo\n",
        "modeloRL = LinearRegression()\n",
        "modeloRL.fit(X_train, y_train)\n",
        "# Evaluar el modelo\n",
        "ypred = modeloRL.predict(X_test)\n",
        "# Evaluar la predicción\n",
        "error = mean_absolute_error(y_test, ypred)\n",
        "print('Error absoluto medio: %.3f' % error)"
      ],
      "metadata": {
        "id": "_NONmakwukqj",
        "colab": {
          "base_uri": "https://localhost:8080/"
        },
        "outputId": "ebc3cf6c-d4a4-47ef-b9b1-f3a72256e5e3"
      },
      "execution_count": null,
      "outputs": [
        {
          "output_type": "stream",
          "name": "stdout",
          "text": [
            "Error absoluto medio: 0.086\n"
          ]
        }
      ]
    },
    {
      "cell_type": "markdown",
      "source": [
        "####3.2 Modelo construido con correlación estadística\n",
        "Seleccionemos las 10 características más relevantes y generemos el modelo"
      ],
      "metadata": {
        "id": "WcIqNTqzw_t-"
      }
    },
    {
      "cell_type": "code",
      "source": [
        "# Selección de top-10 caracterítsticas\n",
        "fs = SelectKBest(score_func=f_regression, k=10)\n",
        "fs.fit(X_train, y_train)\n",
        "X_train_fs = fs.transform(X_train)\n",
        "X_test_fs = fs.transform(X_test)\n",
        "\n",
        "# Ajustar el modelo\n",
        "modeloE = LinearRegression()\n",
        "modeloE.fit(X_train_fs, y_train)\n",
        "# Evaluar el modelo\n",
        "ypredE = modeloE.predict(X_test_fs)\n",
        "# Evaluar la predicción\n",
        "ErrorE = mean_absolute_error(y_test, ypredE)\n",
        "print('Error absoluto: %.3f' % ErrorE)"
      ],
      "metadata": {
        "id": "c2Gj2gxAxLOF",
        "colab": {
          "base_uri": "https://localhost:8080/"
        },
        "outputId": "a3dcb48c-01b8-4c8d-a871-a6453e8ad9ce"
      },
      "execution_count": null,
      "outputs": [
        {
          "output_type": "stream",
          "name": "stdout",
          "text": [
            "Error absoluto: 2.740\n"
          ]
        }
      ]
    },
    {
      "cell_type": "markdown",
      "source": [
        "<B>¿Qué conclusiones puede obtener de los resultados?\n",
        "\n",
        "¿Cómo varía el resultado con diferentes valores de k?.</B>"
      ],
      "metadata": {
        "id": "-XxnROuxtiWd"
      }
    },
    {
      "cell_type": "markdown",
      "source": [
        "###4. Sintonizar el número de características (k)\n",
        "El objetivo es probar sistemáticamente diferentes valores para k, de forma que se descubra el valor que genera el mejor desempeño del modelo (grilla de búsqueda). Para ello se usa la función RepeatedKFold con 3 repeticiones y 10 grupos y se crea un pipeline que transforme el dataset de entrenamiento con las características seleccionadas y lo aplique a los sets de entrenamiento y prueba en cada validación cruzada."
      ],
      "metadata": {
        "id": "OgNtwCyyuSTZ"
      }
    },
    {
      "cell_type": "code",
      "source": [
        "from sklearn.model_selection import RepeatedKFold\n",
        "from sklearn.pipeline import Pipeline\n",
        "\n",
        "# Definir el método de evaluación\n",
        "cv = RepeatedKFold(n_splits=10, n_repeats=3, random_state=1)\n",
        "\n",
        "# Definir pipeline para evaluar\n",
        "modelo = LinearRegression()\n",
        "fs = SelectKBest(score_func=f_regression)\n",
        "pipeline = Pipeline(steps=[('sel', fs), ('lr', modelo)])"
      ],
      "metadata": {
        "id": "0wRBRCoV8BRn"
      },
      "execution_count": null,
      "outputs": []
    },
    {
      "cell_type": "markdown",
      "source": [
        "Posteriormente se define la grilla de búsqueda con valores entre 80 y 100 características (para ello se crea un diccionario donde en el nombre del objeto (sel__k) se cambiará el valor de k por cada valor buscado) y se ejecuta la búsqueda evaluando el modelo con el error absoluto medio negativo.\n",
        "\n",
        "En este caso se usa el errro absoluto medio negativo porque sklearn requiere que se maximice el puntaje y por ello el error se evalúa con valores entre -infinito y 0 (el mejor)."
      ],
      "metadata": {
        "id": "mlLXI35o9pyQ"
      }
    },
    {
      "cell_type": "code",
      "source": [
        "from sklearn.model_selection import GridSearchCV\n",
        "\n",
        "# Definir la grilla\n",
        "grilla = dict()\n",
        "grilla['sel__k'] = [i for i in range(X.shape[1] - 20, X.shape[1] + 1)]\n",
        "\n",
        "# Definir la grilla de búsqueda\n",
        "busqueda = GridSearchCV(pipeline, grilla, scoring='neg_mean_absolute_error', n_jobs=-1, cv=cv)\n",
        "\n",
        "# Ejecutar la búsqueda\n",
        "resultados = busqueda.fit(X,y)"
      ],
      "metadata": {
        "id": "iVVTwsku-ZaV"
      },
      "execution_count": null,
      "outputs": []
    },
    {
      "cell_type": "markdown",
      "source": [
        "Finalmente se procede a mostrar los resultados"
      ],
      "metadata": {
        "id": "wDo9dEXGAuMj"
      }
    },
    {
      "cell_type": "code",
      "source": [
        "# Resumir los mejores\n",
        "print('Mejores errores absolutos_ %.3f' % resultados.best_score_)\n",
        "print('Mejores configuraciones: %s' % resultados.best_params_)\n",
        "\n",
        "# Resumir todos\n",
        "medias = resultados.cv_results_['mean_test_score']\n",
        "parametros = resultados.cv_results_['params']\n",
        "for media, param in zip(medias, parametros):\n",
        "  print('Error %.3f con: %r' % (media, param))"
      ],
      "metadata": {
        "id": "2y2AeG1xAySQ",
        "colab": {
          "base_uri": "https://localhost:8080/"
        },
        "outputId": "864f9231-8b3c-42b4-c51c-b50eceecad1d"
      },
      "execution_count": null,
      "outputs": [
        {
          "output_type": "stream",
          "name": "stdout",
          "text": [
            "Mejores errores absolutos_ -0.083\n",
            "Mejores configuraciones: {'sel__k': 100}\n",
            "Error -2.324 con: {'sel__k': 80}\n",
            "Error -2.137 con: {'sel__k': 81}\n",
            "Error -1.958 con: {'sel__k': 82}\n",
            "Error -1.853 con: {'sel__k': 83}\n",
            "Error -1.756 con: {'sel__k': 84}\n",
            "Error -1.663 con: {'sel__k': 85}\n",
            "Error -1.667 con: {'sel__k': 86}\n",
            "Error -1.389 con: {'sel__k': 87}\n",
            "Error -1.016 con: {'sel__k': 88}\n",
            "Error -0.927 con: {'sel__k': 89}\n",
            "Error -0.928 con: {'sel__k': 90}\n",
            "Error -0.842 con: {'sel__k': 91}\n",
            "Error -0.842 con: {'sel__k': 92}\n",
            "Error -0.742 con: {'sel__k': 93}\n",
            "Error -0.743 con: {'sel__k': 94}\n",
            "Error -0.743 con: {'sel__k': 95}\n",
            "Error -0.650 con: {'sel__k': 96}\n",
            "Error -0.464 con: {'sel__k': 97}\n",
            "Error -0.372 con: {'sel__k': 98}\n",
            "Error -0.183 con: {'sel__k': 99}\n",
            "Error -0.083 con: {'sel__k': 100}\n"
          ]
        }
      ]
    },
    {
      "cell_type": "markdown",
      "source": [
        "<B>Repita el procedimiento anterior usando la función estadística mutual information (mutual_info_regression) que puede importar de sklearn.feature_selection, y observe los resultados.</B>"
      ],
      "metadata": {
        "id": "Lsqkoei8CzQh"
      }
    }
  ]
}