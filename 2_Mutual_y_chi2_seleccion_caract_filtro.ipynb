{
  "nbformat": 4,
  "nbformat_minor": 0,
  "metadata": {
    "colab": {
      "provenance": [],
      "include_colab_link": true
    },
    "kernelspec": {
      "name": "python3",
      "display_name": "Python 3"
    },
    "language_info": {
      "name": "python"
    }
  },
  "cells": [
    {
      "cell_type": "markdown",
      "metadata": {
        "id": "view-in-github",
        "colab_type": "text"
      },
      "source": [
        "<a href=\"https://colab.research.google.com/github/lauratcc18/IAMINTIC/blob/main/2_Mutual_y_chi2_seleccion_caract_filtro.ipynb\" target=\"_parent\"><img src=\"https://colab.research.google.com/assets/colab-badge.svg\" alt=\"Open In Colab\"/></a>"
      ]
    },
    {
      "cell_type": "markdown",
      "source": [
        "# Selección de Características\n",
        "## Método de filtrado estadístico con datos categóricos\n",
        "Usaremos un dataset de cancer de seno para clasificar los pacientes como recurrentes o no en cancer.\n",
        "\n",
        "Esta dataset lo tomaremos de https://raw.githubusercontent.com/jbrownlee/Datasets/master/breast-cancer.csv"
      ],
      "metadata": {
        "id": "CIumTrdLWIth"
      }
    },
    {
      "cell_type": "markdown",
      "source": [
        "### 1. Cargar Dataframe"
      ],
      "metadata": {
        "id": "8FLaf78ZJnyP"
      }
    },
    {
      "cell_type": "code",
      "source": [
        "from pandas import read_csv\n",
        "url = 'https://raw.githubusercontent.com/jbrownlee/Datasets/master/breast-cancer.csv'\n",
        "df = read_csv (url, header = None)"
      ],
      "metadata": {
        "id": "RsyKkQpVme8K"
      },
      "execution_count": null,
      "outputs": []
    },
    {
      "cell_type": "markdown",
      "source": [
        "\n",
        "Usando la función head, imprima las primeras filas del dataframe y observe el tipo de datos de las variables que incluye.\n",
        "\n",
        "Puede observar los tipos de datos de las columnas usando la función dtypes  "
      ],
      "metadata": {
        "id": "tIDkzbuin9Ab"
      }
    },
    {
      "cell_type": "code",
      "source": [
        "# Escriba su código aqui\n",
        "df.head()"
      ],
      "metadata": {
        "id": "k3Jw0s9FoZUb",
        "colab": {
          "base_uri": "https://localhost:8080/",
          "height": 206
        },
        "outputId": "99256ba2-0059-4a7f-b370-94bf99ac7d67"
      },
      "execution_count": null,
      "outputs": [
        {
          "output_type": "execute_result",
          "data": {
            "text/plain": [
              "         0          1        2      3      4    5        6           7      8  \\\n",
              "0  '40-49'  'premeno'  '15-19'  '0-2'  'yes'  '3'  'right'   'left_up'   'no'   \n",
              "1  '50-59'     'ge40'  '15-19'  '0-2'   'no'  '1'  'right'   'central'   'no'   \n",
              "2  '50-59'     'ge40'  '35-39'  '0-2'   'no'  '2'   'left'  'left_low'   'no'   \n",
              "3  '40-49'  'premeno'  '35-39'  '0-2'  'yes'  '3'  'right'  'left_low'  'yes'   \n",
              "4  '40-49'  'premeno'  '30-34'  '3-5'  'yes'  '2'   'left'  'right_up'   'no'   \n",
              "\n",
              "                        9  \n",
              "0     'recurrence-events'  \n",
              "1  'no-recurrence-events'  \n",
              "2     'recurrence-events'  \n",
              "3  'no-recurrence-events'  \n",
              "4     'recurrence-events'  "
            ],
            "text/html": [
              "\n",
              "  <div id=\"df-5282e0a5-2a92-4450-b8b7-b1c14a9fd486\">\n",
              "    <div class=\"colab-df-container\">\n",
              "      <div>\n",
              "<style scoped>\n",
              "    .dataframe tbody tr th:only-of-type {\n",
              "        vertical-align: middle;\n",
              "    }\n",
              "\n",
              "    .dataframe tbody tr th {\n",
              "        vertical-align: top;\n",
              "    }\n",
              "\n",
              "    .dataframe thead th {\n",
              "        text-align: right;\n",
              "    }\n",
              "</style>\n",
              "<table border=\"1\" class=\"dataframe\">\n",
              "  <thead>\n",
              "    <tr style=\"text-align: right;\">\n",
              "      <th></th>\n",
              "      <th>0</th>\n",
              "      <th>1</th>\n",
              "      <th>2</th>\n",
              "      <th>3</th>\n",
              "      <th>4</th>\n",
              "      <th>5</th>\n",
              "      <th>6</th>\n",
              "      <th>7</th>\n",
              "      <th>8</th>\n",
              "      <th>9</th>\n",
              "    </tr>\n",
              "  </thead>\n",
              "  <tbody>\n",
              "    <tr>\n",
              "      <th>0</th>\n",
              "      <td>'40-49'</td>\n",
              "      <td>'premeno'</td>\n",
              "      <td>'15-19'</td>\n",
              "      <td>'0-2'</td>\n",
              "      <td>'yes'</td>\n",
              "      <td>'3'</td>\n",
              "      <td>'right'</td>\n",
              "      <td>'left_up'</td>\n",
              "      <td>'no'</td>\n",
              "      <td>'recurrence-events'</td>\n",
              "    </tr>\n",
              "    <tr>\n",
              "      <th>1</th>\n",
              "      <td>'50-59'</td>\n",
              "      <td>'ge40'</td>\n",
              "      <td>'15-19'</td>\n",
              "      <td>'0-2'</td>\n",
              "      <td>'no'</td>\n",
              "      <td>'1'</td>\n",
              "      <td>'right'</td>\n",
              "      <td>'central'</td>\n",
              "      <td>'no'</td>\n",
              "      <td>'no-recurrence-events'</td>\n",
              "    </tr>\n",
              "    <tr>\n",
              "      <th>2</th>\n",
              "      <td>'50-59'</td>\n",
              "      <td>'ge40'</td>\n",
              "      <td>'35-39'</td>\n",
              "      <td>'0-2'</td>\n",
              "      <td>'no'</td>\n",
              "      <td>'2'</td>\n",
              "      <td>'left'</td>\n",
              "      <td>'left_low'</td>\n",
              "      <td>'no'</td>\n",
              "      <td>'recurrence-events'</td>\n",
              "    </tr>\n",
              "    <tr>\n",
              "      <th>3</th>\n",
              "      <td>'40-49'</td>\n",
              "      <td>'premeno'</td>\n",
              "      <td>'35-39'</td>\n",
              "      <td>'0-2'</td>\n",
              "      <td>'yes'</td>\n",
              "      <td>'3'</td>\n",
              "      <td>'right'</td>\n",
              "      <td>'left_low'</td>\n",
              "      <td>'yes'</td>\n",
              "      <td>'no-recurrence-events'</td>\n",
              "    </tr>\n",
              "    <tr>\n",
              "      <th>4</th>\n",
              "      <td>'40-49'</td>\n",
              "      <td>'premeno'</td>\n",
              "      <td>'30-34'</td>\n",
              "      <td>'3-5'</td>\n",
              "      <td>'yes'</td>\n",
              "      <td>'2'</td>\n",
              "      <td>'left'</td>\n",
              "      <td>'right_up'</td>\n",
              "      <td>'no'</td>\n",
              "      <td>'recurrence-events'</td>\n",
              "    </tr>\n",
              "  </tbody>\n",
              "</table>\n",
              "</div>\n",
              "      <button class=\"colab-df-convert\" onclick=\"convertToInteractive('df-5282e0a5-2a92-4450-b8b7-b1c14a9fd486')\"\n",
              "              title=\"Convert this dataframe to an interactive table.\"\n",
              "              style=\"display:none;\">\n",
              "        \n",
              "  <svg xmlns=\"http://www.w3.org/2000/svg\" height=\"24px\"viewBox=\"0 0 24 24\"\n",
              "       width=\"24px\">\n",
              "    <path d=\"M0 0h24v24H0V0z\" fill=\"none\"/>\n",
              "    <path d=\"M18.56 5.44l.94 2.06.94-2.06 2.06-.94-2.06-.94-.94-2.06-.94 2.06-2.06.94zm-11 1L8.5 8.5l.94-2.06 2.06-.94-2.06-.94L8.5 2.5l-.94 2.06-2.06.94zm10 10l.94 2.06.94-2.06 2.06-.94-2.06-.94-.94-2.06-.94 2.06-2.06.94z\"/><path d=\"M17.41 7.96l-1.37-1.37c-.4-.4-.92-.59-1.43-.59-.52 0-1.04.2-1.43.59L10.3 9.45l-7.72 7.72c-.78.78-.78 2.05 0 2.83L4 21.41c.39.39.9.59 1.41.59.51 0 1.02-.2 1.41-.59l7.78-7.78 2.81-2.81c.8-.78.8-2.07 0-2.86zM5.41 20L4 18.59l7.72-7.72 1.47 1.35L5.41 20z\"/>\n",
              "  </svg>\n",
              "      </button>\n",
              "      \n",
              "  <style>\n",
              "    .colab-df-container {\n",
              "      display:flex;\n",
              "      flex-wrap:wrap;\n",
              "      gap: 12px;\n",
              "    }\n",
              "\n",
              "    .colab-df-convert {\n",
              "      background-color: #E8F0FE;\n",
              "      border: none;\n",
              "      border-radius: 50%;\n",
              "      cursor: pointer;\n",
              "      display: none;\n",
              "      fill: #1967D2;\n",
              "      height: 32px;\n",
              "      padding: 0 0 0 0;\n",
              "      width: 32px;\n",
              "    }\n",
              "\n",
              "    .colab-df-convert:hover {\n",
              "      background-color: #E2EBFA;\n",
              "      box-shadow: 0px 1px 2px rgba(60, 64, 67, 0.3), 0px 1px 3px 1px rgba(60, 64, 67, 0.15);\n",
              "      fill: #174EA6;\n",
              "    }\n",
              "\n",
              "    [theme=dark] .colab-df-convert {\n",
              "      background-color: #3B4455;\n",
              "      fill: #D2E3FC;\n",
              "    }\n",
              "\n",
              "    [theme=dark] .colab-df-convert:hover {\n",
              "      background-color: #434B5C;\n",
              "      box-shadow: 0px 1px 3px 1px rgba(0, 0, 0, 0.15);\n",
              "      filter: drop-shadow(0px 1px 2px rgba(0, 0, 0, 0.3));\n",
              "      fill: #FFFFFF;\n",
              "    }\n",
              "  </style>\n",
              "\n",
              "      <script>\n",
              "        const buttonEl =\n",
              "          document.querySelector('#df-5282e0a5-2a92-4450-b8b7-b1c14a9fd486 button.colab-df-convert');\n",
              "        buttonEl.style.display =\n",
              "          google.colab.kernel.accessAllowed ? 'block' : 'none';\n",
              "\n",
              "        async function convertToInteractive(key) {\n",
              "          const element = document.querySelector('#df-5282e0a5-2a92-4450-b8b7-b1c14a9fd486');\n",
              "          const dataTable =\n",
              "            await google.colab.kernel.invokeFunction('convertToInteractive',\n",
              "                                                     [key], {});\n",
              "          if (!dataTable) return;\n",
              "\n",
              "          const docLinkHtml = 'Like what you see? Visit the ' +\n",
              "            '<a target=\"_blank\" href=https://colab.research.google.com/notebooks/data_table.ipynb>data table notebook</a>'\n",
              "            + ' to learn more about interactive tables.';\n",
              "          element.innerHTML = '';\n",
              "          dataTable['output_type'] = 'display_data';\n",
              "          await google.colab.output.renderOutput(dataTable, element);\n",
              "          const docLink = document.createElement('div');\n",
              "          docLink.innerHTML = docLinkHtml;\n",
              "          element.appendChild(docLink);\n",
              "        }\n",
              "      </script>\n",
              "    </div>\n",
              "  </div>\n",
              "  "
            ]
          },
          "metadata": {},
          "execution_count": 3
        }
      ]
    },
    {
      "cell_type": "markdown",
      "source": [
        "Haga doble clic <b>aquí</b> para ver la solución.\n",
        "\n",
        "<!-- Respuesta::\n",
        "\n",
        "df.head()\n",
        "df.dtypes\n",
        "df.shape\n",
        "\n",
        "// Se observan 8 variables de entrada categóricas y una salida también categórica.\n",
        "// Python reconoce los tipos de datos como objeto.\n",
        "-->"
      ],
      "metadata": {
        "id": "aAlwUXb6ojd2"
      }
    },
    {
      "cell_type": "markdown",
      "source": [
        "### 2. Extraer los arreglos de entrada y salida\n",
        "Convertimos el dataframe en un arreglo y dividimos las columnas en entradas (X) y salida (Y) para proceder a modelarlas. Adicionalmente forzamos para que todos los campos de entrada sean string y así evitar que Pandas intente mapearlos automáticamente a números."
      ],
      "metadata": {
        "id": "FdJfOmKVqmaz"
      }
    },
    {
      "cell_type": "code",
      "source": [
        "dataset = df.values\n",
        "X = dataset[:, :-1]\n",
        "y = dataset[:, -1]\n",
        "X = X.astype(str)\n",
        "X.shape"
      ],
      "metadata": {
        "id": "OgpAxlQVqVnS",
        "colab": {
          "base_uri": "https://localhost:8080/"
        },
        "outputId": "640a230e-cecb-4618-970b-9cc2dce23092"
      },
      "execution_count": null,
      "outputs": [
        {
          "output_type": "execute_result",
          "data": {
            "text/plain": [
              "(286, 9)"
            ]
          },
          "metadata": {},
          "execution_count": 4
        }
      ]
    },
    {
      "cell_type": "markdown",
      "source": [
        "### 3. Crear sets de entrenamiento y de prueba\n",
        "El objetivo de este paso es poder ajustar y evaluar el modelo. Para ello usamos la función train_test_split() de sklearn, usando el 67% de los datos para entrenamiento y el 33% restante para pruebas."
      ],
      "metadata": {
        "id": "17LH-WEDKDRq"
      }
    },
    {
      "cell_type": "code",
      "source": [
        "from sklearn.model_selection import train_test_split\n",
        "\n",
        "# Dividimos entradas y salida en sets de entrenamiento y pruebas\n",
        "X_train, X_test, y_train, y_test = train_test_split(X, y, test_size=0.33, random_state=1)\n"
      ],
      "metadata": {
        "id": "KlkItIYq1EMC"
      },
      "execution_count": null,
      "outputs": []
    },
    {
      "cell_type": "markdown",
      "source": [
        "Observe la forma / tamaño de los sets\n",
        "\n",
        "<!-- Puede usar:\n",
        "print('Train: in / out ', X_train.shape, y_train.shape)\n",
        "print('Test: in / out ', X_test.shape, y_test.shape)\n",
        "-->"
      ],
      "metadata": {
        "id": "URSSNCpwAiD7"
      }
    },
    {
      "cell_type": "code",
      "source": [
        "# Escriba su código aqui\n"
      ],
      "metadata": {
        "id": "ORNUnTqBBIVX"
      },
      "execution_count": null,
      "outputs": []
    },
    {
      "cell_type": "markdown",
      "source": [
        "### 4. Codificar los datos para poder modelarlos\n",
        "####4.1 Codificación de entradas\n",
        "Este paso busca codificar cada variable categórica de entrada en un arreglo de números enteros usando el método OrdinalEncoder() de sklearn.\n",
        "Una buena práctica es ajustar (fit) el codificador con los datos de entrenamiento y luego aplicarlo tanto a los datos de entrenamiento como a los de prueba.\n",
        "\n",
        "Si desea puede observar como quedan los sets codificados"
      ],
      "metadata": {
        "id": "pEapEv_GLmTo"
      }
    },
    {
      "cell_type": "code",
      "source": [
        "from sklearn.preprocessing import OrdinalEncoder\n",
        "\n",
        "oe = OrdinalEncoder()\n",
        "oe.fit(X_train)\n",
        "X_train_enc = oe.transform(X_train)\n",
        "X_test_enc = oe.transform(X_test)\n",
        "X_train_enc"
      ],
      "metadata": {
        "id": "u2PsYz-41rBQ",
        "colab": {
          "base_uri": "https://localhost:8080/"
        },
        "outputId": "f63f30fd-39ca-4b4b-e82c-59279a77a1e8"
      },
      "execution_count": null,
      "outputs": [
        {
          "output_type": "execute_result",
          "data": {
            "text/plain": [
              "array([[ 3.,  0.,  4., ...,  0.,  3.,  0.],\n",
              "       [ 1.,  2.,  9., ...,  0.,  3.,  0.],\n",
              "       [ 3.,  2., 10., ...,  1.,  2.,  1.],\n",
              "       ...,\n",
              "       [ 4.,  0.,  1., ...,  1.,  1.,  0.],\n",
              "       [ 4.,  0.,  7., ...,  1.,  1.,  0.],\n",
              "       [ 4.,  0.,  8., ...,  0.,  0.,  0.]])"
            ]
          },
          "metadata": {},
          "execution_count": 6
        }
      ]
    },
    {
      "cell_type": "markdown",
      "source": [
        "####4.2 Codificación de salidas\n",
        "También es necesario codificar la variable objetivo, en este caso como un problema de clasificación binaria: mapear las etiquetas de dos clases (recurrente / no-recurrente) a 1 y 0. El método LableEncoder() esta diseñado para codificación ordinal de una variable sencilla."
      ],
      "metadata": {
        "id": "deNUqLA4N3s8"
      }
    },
    {
      "cell_type": "code",
      "source": [
        "from sklearn.preprocessing import LabelEncoder\n",
        "\n",
        "le = LabelEncoder()\n",
        "le.fit(y_train)\n",
        "y_train_enc = le.transform(y_train)\n",
        "y_test_enc = le.transform(y_test)\n",
        "y_train_enc"
      ],
      "metadata": {
        "id": "jrcgyZX8NXSk",
        "colab": {
          "base_uri": "https://localhost:8080/"
        },
        "outputId": "faf7b65c-43c3-46ab-ea08-36c539e32aa9"
      },
      "execution_count": null,
      "outputs": [
        {
          "output_type": "execute_result",
          "data": {
            "text/plain": [
              "array([0, 0, 0, 0, 0, 0, 0, 0, 0, 0, 0, 1, 1, 1, 0, 0, 0, 0, 1, 1, 0, 0,\n",
              "       1, 0, 1, 0, 0, 0, 0, 0, 1, 1, 1, 0, 1, 0, 0, 0, 0, 1, 1, 0, 0, 0,\n",
              "       0, 0, 0, 0, 0, 0, 0, 0, 0, 0, 0, 0, 0, 0, 0, 0, 0, 1, 0, 0, 0, 1,\n",
              "       0, 0, 1, 0, 1, 0, 0, 0, 0, 0, 0, 0, 1, 1, 0, 1, 0, 1, 0, 0, 0, 1,\n",
              "       1, 0, 0, 0, 0, 0, 0, 0, 1, 0, 0, 1, 1, 0, 0, 0, 1, 0, 0, 0, 1, 1,\n",
              "       1, 1, 0, 0, 0, 0, 0, 0, 0, 0, 1, 0, 0, 1, 0, 1, 0, 0, 0, 0, 0, 0,\n",
              "       0, 1, 0, 1, 0, 0, 0, 0, 0, 1, 0, 1, 0, 1, 0, 0, 0, 0, 0, 1, 0, 1,\n",
              "       1, 0, 0, 0, 0, 0, 0, 0, 1, 0, 0, 0, 1, 0, 0, 0, 0, 0, 0, 0, 0, 1,\n",
              "       1, 1, 0, 0, 1, 1, 0, 0, 0, 1, 0, 1, 0, 1, 0])"
            ]
          },
          "metadata": {},
          "execution_count": 7
        }
      ]
    },
    {
      "cell_type": "markdown",
      "source": [
        "###5. Aplicar el método de selección de características\n",
        "####5.1 Chi-cuadrado\n",
        "Método que realiza una prueba de independiencia entre variables categóricas. Las características que sean independientes de la variable objetivo, pueden ser eliminadas. Para aplicar este método se usa la función chi2() de sklearn, en combinación con SelectKBest\n",
        "\n"
      ],
      "metadata": {
        "id": "9mWkLXErPHwb"
      }
    },
    {
      "cell_type": "code",
      "source": [
        "from sklearn.feature_selection import SelectKBest\n",
        "from sklearn.feature_selection import chi2\n",
        "\n",
        "# Selección de características con chi2\n",
        "fs = SelectKBest(score_func=chi2, k=\"all\")\n",
        "fs.fit(X_train_enc, y_train_enc)\n",
        "X_train_fs = fs.transform(X_train_enc)\n",
        "X_test_fs = fs.transform(X_test_enc)"
      ],
      "metadata": {
        "id": "OlsQ4eWO28_v"
      },
      "execution_count": null,
      "outputs": []
    },
    {
      "cell_type": "markdown",
      "source": [
        "Procedemos a imprimir los puntajes de cada variable (entre más alto, mejor) y a dibujarlos para darnos una idea de cuántas características deberíamos seleccionar."
      ],
      "metadata": {
        "id": "wPsGtzUZQeEq"
      }
    },
    {
      "cell_type": "code",
      "source": [
        "from matplotlib import pyplot\n",
        "\n",
        "# Puntajes de las características\n",
        "for i in range(len(fs.scores_)):\n",
        "\tprint('Atributo %d: %f' % (i, fs.scores_[i]))\n",
        "# Diagrama de puntajes\n",
        "pyplot.bar([i for i in range(len(fs.scores_))], fs.scores_)\n",
        "print()\n",
        "pyplot.show()"
      ],
      "metadata": {
        "id": "w5kCxmk85Qwh",
        "colab": {
          "base_uri": "https://localhost:8080/",
          "height": 604
        },
        "outputId": "5c514c5f-9004-402c-da60-b10a48c5b612"
      },
      "execution_count": null,
      "outputs": [
        {
          "output_type": "stream",
          "name": "stdout",
          "text": [
            "Atributo 0: 0.472553\n",
            "Atributo 1: 0.029193\n",
            "Atributo 2: 2.137658\n",
            "Atributo 3: 29.381059\n",
            "Atributo 4: 8.222601\n",
            "Atributo 5: 8.100183\n",
            "Atributo 6: 1.273822\n",
            "Atributo 7: 0.950682\n",
            "Atributo 8: 3.699989\n",
            "\n"
          ]
        },
        {
          "output_type": "display_data",
          "data": {
            "text/plain": [
              "<Figure size 640x480 with 1 Axes>"
            ],
            "image/png": "[encoded data removed]"
          },
          "metadata": {}
        }
      ]
    },
    {
      "cell_type": "markdown",
      "source": [
        "Los puntajes y la gráfica muestran que las características más relevantes para chi-cuadrado. Esto permite tomar la decisión de asginar un k específico en SelectKBest para seleccionar los mejores atributos.\n",
        "\n",
        "<B> ¿Qué valor de k seleccionaría? </B>"
      ],
      "metadata": {
        "id": "9cLPN5btSPZK"
      }
    },
    {
      "cell_type": "markdown",
      "source": [
        "####5.2 Mutual Information\n",
        "Este método aplica la ganancia de información (usada en la construcción de árboles de decisión), para la selección de características. La información mutua se calcula entre dos variables para medir la reducción en la incertidumbre de una variable dado el valor conocido de otra.\n",
        "\n",
        "En sklearn se usa la función mutual_info_classif() en combinación con SelectKBest.\n",
        "\n",
        "<B> Digite el código necesario para realizar selección de caracteristicas usando Mutual Information </B>\n",
        "\n",
        "<!-- Puede utilizar el siguiente código:\n",
        "\n",
        "# Selección de características con mutual information\n",
        "fsm = SelectKBest(score_func=mutual_info_classif, k='all')\n",
        "fsm.fit(X_train_enc, y_train_enc)\n",
        "X_train_fsm = fsm.transform(X_train_enc)\n",
        "X_test_fsm = fsm.transform(X_test_enc)\n",
        "\n",
        "-->"
      ],
      "metadata": {
        "id": "AcwhXZFFTA8H"
      }
    },
    {
      "cell_type": "code",
      "source": [
        "from sklearn.feature_selection import mutual_info_classif\n",
        "\n",
        "# Digite su código aqui\n"
      ],
      "metadata": {
        "id": "wmK9g614T87p"
      },
      "execution_count": null,
      "outputs": []
    },
    {
      "cell_type": "markdown",
      "source": [
        "<B> Imprima y grafique los puntajes </B>\n",
        "\n",
        "<!-- Puede utlizar el siguiente código_\n",
        "\n",
        "# Puntajes de las características\n",
        "for i in range(len(fsm.scores_)):\n",
        "\tprint('Atributo %d: %f' % (i, fsm.scores_[i]))\n",
        "# Diagrama de puntajes\n",
        "pyplot.bar([i for i in range(len(fsm.scores_))], fsm.scores_)\n",
        "print()\n",
        "pyplot.show()\n",
        "\n",
        "-->"
      ],
      "metadata": {
        "id": "7p3crvjoZJRb"
      }
    },
    {
      "cell_type": "code",
      "source": [
        "# Puntajes de las características\n"
      ],
      "metadata": {
        "id": "KS8JNmW3ZQH_"
      },
      "execution_count": null,
      "outputs": []
    },
    {
      "cell_type": "markdown",
      "source": [
        "Al igual que en el caso anterior, de acuerdo a los puntajes se puede ajustar el top-k de características a seleccionar."
      ],
      "metadata": {
        "id": "VTMRrYIUatKx"
      }
    },
    {
      "cell_type": "markdown",
      "source": [
        "###6. Bono: Modelar\n",
        "Con tantos métodos para seleccionar características, ¿cuál uso?\n",
        "\n",
        "La idea sería evaluar varios de ellos con diversos números de características, buscando el modelo que genere el mejor desempeño.\n",
        "\n",
        "Comparemos los resultados que se obtendrían si se aplica un modelo de Regresión logística que utilice todas las variables de entrada disponibles, contra los modelos con características seleccionadas por chi-cuadrado y por Información mutua.\n",
        "\n",
        "####6.1 Modelo usando todas las características\n",
        "Vamos a usar LogisticRegression aplicada sobre el modelo original, con un algoritmo de optimización lbfgs."
      ],
      "metadata": {
        "id": "KDA8NzZ-a3m0"
      }
    },
    {
      "cell_type": "code",
      "source": [
        "from sklearn.linear_model import LogisticRegression\n",
        "from sklearn.metrics import accuracy_score\n",
        "\n",
        "# Ajustar el modelo\n",
        "modeloRL = LogisticRegression(solver='lbfgs')\n",
        "modeloRL.fit(X_train_enc, y_train_enc)\n",
        "# Evaluar el modelo\n",
        "ypred = modeloRL.predict(X_test_enc)\n",
        "# Evaluar la predicción\n",
        "exactitud = accuracy_score(y_test_enc, ypred)\n",
        "print('Exactitud: %.2f' % (exactitud*100))"
      ],
      "metadata": {
        "id": "_NONmakwukqj",
        "colab": {
          "base_uri": "https://localhost:8080/"
        },
        "outputId": "29e54a1f-cb36-4932-f7ee-f476e5070a24"
      },
      "execution_count": null,
      "outputs": [
        {
          "output_type": "stream",
          "name": "stdout",
          "text": [
            "Exactitud: 75.79\n"
          ]
        }
      ]
    },
    {
      "cell_type": "markdown",
      "source": [
        "####6.2 Modelo reducido con Chi2\n",
        "Seleccionemos las 4 características más relevantes y generemos el modelo"
      ],
      "metadata": {
        "id": "WcIqNTqzw_t-"
      }
    },
    {
      "cell_type": "code",
      "source": [
        "# Selección de top-4 caracterítsticas con chi2\n",
        "fs = SelectKBest(score_func=chi2, k=4)\n",
        "fs.fit(X_train_enc, y_train_enc)\n",
        "X_train_fs = fs.transform(X_train_enc)\n",
        "X_test_fs = fs.transform(X_test_enc)\n",
        "\n",
        "# Ajustar el modelo\n",
        "modeloChi2 = LogisticRegression(solver='lbfgs')\n",
        "modeloChi2.fit(X_train_fs, y_train_enc)\n",
        "# Evaluar el modelo\n",
        "ypredChi2 = modeloChi2.predict(X_test_fs)\n",
        "# Evaluar la predicción\n",
        "exactitudChi2 = accuracy_score(y_test_enc, ypredChi2)\n",
        "print('Exactitud Chi2: %.2f' % (exactitudChi2*100))"
      ],
      "metadata": {
        "id": "c2Gj2gxAxLOF",
        "colab": {
          "base_uri": "https://localhost:8080/"
        },
        "outputId": "09e37bee-581a-483a-fb0b-8dcf83d9cf92"
      },
      "execution_count": null,
      "outputs": [
        {
          "output_type": "stream",
          "name": "stdout",
          "text": [
            "Exactitud Chi2: 74.74\n"
          ]
        }
      ]
    },
    {
      "cell_type": "markdown",
      "source": [
        "####6.3 Modelo reducido con Mutual Information\n",
        "Seleccionemos las 4 características más relevantes y generemos el modelo"
      ],
      "metadata": {
        "id": "04kd3hYRz3vH"
      }
    },
    {
      "cell_type": "code",
      "source": [
        "# Selección de top-4 caracterítsticas con chi2\n",
        "fsm = SelectKBest(score_func=mutual_info_classif, k=5)\n",
        "fsm.fit(X_train_enc, y_train_enc)\n",
        "X_train_fsm = fsm.transform(X_train_enc)\n",
        "X_test_fsm = fsm.transform(X_test_enc)\n",
        "\n",
        "# Ajustar el modelo\n",
        "modeloMI = LogisticRegression(solver='lbfgs')\n",
        "modeloMI.fit(X_train_fsm, y_train_enc)\n",
        "# Evaluar el modelo\n",
        "ypredMI = modeloMI.predict(X_test_fsm)\n",
        "# Evaluar la predicción\n",
        "exactitudMI = accuracy_score(y_test_enc, ypredMI)\n",
        "print('Exactitud MI: %.2f' % (exactitudMI*100))"
      ],
      "metadata": {
        "id": "96BO7ltUz-3T",
        "colab": {
          "base_uri": "https://localhost:8080/",
          "height": 235
        },
        "outputId": "08484c56-57f3-4ab0-8029-fde4c6ab5a0a"
      },
      "execution_count": null,
      "outputs": [
        {
          "output_type": "error",
          "ename": "NameError",
          "evalue": "ignored",
          "traceback": [
            "\u001b[0;31m---------------------------------------------------------------------------\u001b[0m",
            "\u001b[0;31mNameError\u001b[0m                                 Traceback (most recent call last)",
            "\u001b[0;32m<ipython-input-12-368543d40246>\u001b[0m in \u001b[0;36m<cell line: 2>\u001b[0;34m()\u001b[0m\n\u001b[1;32m      1\u001b[0m \u001b[0;31m# Selección de top-4 caracterítsticas con chi2\u001b[0m\u001b[0;34m\u001b[0m\u001b[0;34m\u001b[0m\u001b[0m\n\u001b[0;32m----> 2\u001b[0;31m \u001b[0mfsm\u001b[0m \u001b[0;34m=\u001b[0m \u001b[0mSelectKBest\u001b[0m\u001b[0;34m(\u001b[0m\u001b[0mscore_func\u001b[0m\u001b[0;34m=\u001b[0m\u001b[0mmutual_info_classif\u001b[0m\u001b[0;34m,\u001b[0m \u001b[0mk\u001b[0m\u001b[0;34m=\u001b[0m\u001b[0;36m5\u001b[0m\u001b[0;34m)\u001b[0m\u001b[0;34m\u001b[0m\u001b[0;34m\u001b[0m\u001b[0m\n\u001b[0m\u001b[1;32m      3\u001b[0m \u001b[0mfsm\u001b[0m\u001b[0;34m.\u001b[0m\u001b[0mfit\u001b[0m\u001b[0;34m(\u001b[0m\u001b[0mX_train_enc\u001b[0m\u001b[0;34m,\u001b[0m \u001b[0my_train_enc\u001b[0m\u001b[0;34m)\u001b[0m\u001b[0;34m\u001b[0m\u001b[0;34m\u001b[0m\u001b[0m\n\u001b[1;32m      4\u001b[0m \u001b[0mX_train_fsm\u001b[0m \u001b[0;34m=\u001b[0m \u001b[0mfsm\u001b[0m\u001b[0;34m.\u001b[0m\u001b[0mtransform\u001b[0m\u001b[0;34m(\u001b[0m\u001b[0mX_train_enc\u001b[0m\u001b[0;34m)\u001b[0m\u001b[0;34m\u001b[0m\u001b[0;34m\u001b[0m\u001b[0m\n\u001b[1;32m      5\u001b[0m \u001b[0mX_test_fsm\u001b[0m \u001b[0;34m=\u001b[0m \u001b[0mfsm\u001b[0m\u001b[0;34m.\u001b[0m\u001b[0mtransform\u001b[0m\u001b[0;34m(\u001b[0m\u001b[0mX_test_enc\u001b[0m\u001b[0;34m)\u001b[0m\u001b[0;34m\u001b[0m\u001b[0;34m\u001b[0m\u001b[0m\n",
            "\u001b[0;31mNameError\u001b[0m: name 'mutual_info_classif' is not defined"
          ]
        }
      ]
    },
    {
      "cell_type": "markdown",
      "source": [
        "<B> ¿Qué conclusiones puede obtener de los resultados? </B>"
      ],
      "metadata": {
        "id": "9dBHf7_CFqxD"
      }
    }
  ]
}