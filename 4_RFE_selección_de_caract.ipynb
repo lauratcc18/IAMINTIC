{
  "nbformat": 4,
  "nbformat_minor": 0,
  "metadata": {
    "colab": {
      "provenance": [],
      "collapsed_sections": [
        "DkmaoWaTaWDw"
      ],
      "include_colab_link": true
    },
    "kernelspec": {
      "name": "python3",
      "display_name": "Python 3"
    },
    "language_info": {
      "name": "python"
    }
  },
  "cells": [
    {
      "cell_type": "markdown",
      "metadata": {
        "id": "view-in-github",
        "colab_type": "text"
      },
      "source": [
        "<a href=\"https://colab.research.google.com/github/lauratcc18/IAMINTIC/blob/main/4_RFE_selecci%C3%B3n_de_caract.ipynb\" target=\"_parent\"><img src=\"https://colab.research.google.com/assets/colab-badge.svg\" alt=\"Open In Colab\"/></a>"
      ]
    },
    {
      "cell_type": "markdown",
      "source": [
        "# 1. Selección de Características\n",
        "## Método wrapper RFE - Recursive Feature Elimination\n",
        "Usaremos el dataset de Diabetes de que busca predecir a partir de 8 variables de diagnóstico, si un paciente tiene diabetes.\n",
        "\n",
        "En este caso usaremos un dataset pre-procesado en el que se ha hecho tratamiento para missing values, tomado de https://raw.githubusercontent.com/jbrownlee/Datasets/master/pima-indians-diabetes.data.csv"
      ],
      "metadata": {
        "id": "CIumTrdLWIth"
      }
    },
    {
      "cell_type": "code",
      "source": [
        "from pandas import read_csv\n",
        "url = 'https://raw.githubusercontent.com/jbrownlee/Datasets/master/pima-indians-diabetes.data.csv'\n",
        "titulos = ['preg', 'gluc', 'bloodP', 'skin', 'insulin', 'IMC', 'pedi', 'edad', 'salida']\n",
        "dataframe = read_csv(url, names=titulos)\n",
        "dataframe.head()"
      ],
      "metadata": {
        "id": "RsyKkQpVme8K",
        "colab": {
          "base_uri": "https://localhost:8080/",
          "height": 206
        },
        "outputId": "3f6b1adb-2654-4cf0-d9af-cb211da38011"
      },
      "execution_count": null,
      "outputs": [
        {
          "output_type": "execute_result",
          "data": {
            "text/plain": [
              "   preg  gluc  bloodP  skin  insulin   IMC   pedi  edad  salida\n",
              "0     6   148      72    35        0  33.6  0.627    50       1\n",
              "1     1    85      66    29        0  26.6  0.351    31       0\n",
              "2     8   183      64     0        0  23.3  0.672    32       1\n",
              "3     1    89      66    23       94  28.1  0.167    21       0\n",
              "4     0   137      40    35      168  43.1  2.288    33       1"
            ],
            "text/html": [
              "\n",
              "  <div id=\"df-60acf290-b97d-4593-8609-39422b2d38b1\">\n",
              "    <div class=\"colab-df-container\">\n",
              "      <div>\n",
              "<style scoped>\n",
              "    .dataframe tbody tr th:only-of-type {\n",
              "        vertical-align: middle;\n",
              "    }\n",
              "\n",
              "    .dataframe tbody tr th {\n",
              "        vertical-align: top;\n",
              "    }\n",
              "\n",
              "    .dataframe thead th {\n",
              "        text-align: right;\n",
              "    }\n",
              "</style>\n",
              "<table border=\"1\" class=\"dataframe\">\n",
              "  <thead>\n",
              "    <tr style=\"text-align: right;\">\n",
              "      <th></th>\n",
              "      <th>preg</th>\n",
              "      <th>gluc</th>\n",
              "      <th>bloodP</th>\n",
              "      <th>skin</th>\n",
              "      <th>insulin</th>\n",
              "      <th>IMC</th>\n",
              "      <th>pedi</th>\n",
              "      <th>edad</th>\n",
              "      <th>salida</th>\n",
              "    </tr>\n",
              "  </thead>\n",
              "  <tbody>\n",
              "    <tr>\n",
              "      <th>0</th>\n",
              "      <td>6</td>\n",
              "      <td>148</td>\n",
              "      <td>72</td>\n",
              "      <td>35</td>\n",
              "      <td>0</td>\n",
              "      <td>33.6</td>\n",
              "      <td>0.627</td>\n",
              "      <td>50</td>\n",
              "      <td>1</td>\n",
              "    </tr>\n",
              "    <tr>\n",
              "      <th>1</th>\n",
              "      <td>1</td>\n",
              "      <td>85</td>\n",
              "      <td>66</td>\n",
              "      <td>29</td>\n",
              "      <td>0</td>\n",
              "      <td>26.6</td>\n",
              "      <td>0.351</td>\n",
              "      <td>31</td>\n",
              "      <td>0</td>\n",
              "    </tr>\n",
              "    <tr>\n",
              "      <th>2</th>\n",
              "      <td>8</td>\n",
              "      <td>183</td>\n",
              "      <td>64</td>\n",
              "      <td>0</td>\n",
              "      <td>0</td>\n",
              "      <td>23.3</td>\n",
              "      <td>0.672</td>\n",
              "      <td>32</td>\n",
              "      <td>1</td>\n",
              "    </tr>\n",
              "    <tr>\n",
              "      <th>3</th>\n",
              "      <td>1</td>\n",
              "      <td>89</td>\n",
              "      <td>66</td>\n",
              "      <td>23</td>\n",
              "      <td>94</td>\n",
              "      <td>28.1</td>\n",
              "      <td>0.167</td>\n",
              "      <td>21</td>\n",
              "      <td>0</td>\n",
              "    </tr>\n",
              "    <tr>\n",
              "      <th>4</th>\n",
              "      <td>0</td>\n",
              "      <td>137</td>\n",
              "      <td>40</td>\n",
              "      <td>35</td>\n",
              "      <td>168</td>\n",
              "      <td>43.1</td>\n",
              "      <td>2.288</td>\n",
              "      <td>33</td>\n",
              "      <td>1</td>\n",
              "    </tr>\n",
              "  </tbody>\n",
              "</table>\n",
              "</div>\n",
              "      <button class=\"colab-df-convert\" onclick=\"convertToInteractive('df-60acf290-b97d-4593-8609-39422b2d38b1')\"\n",
              "              title=\"Convert this dataframe to an interactive table.\"\n",
              "              style=\"display:none;\">\n",
              "        \n",
              "  <svg xmlns=\"http://www.w3.org/2000/svg\" height=\"24px\"viewBox=\"0 0 24 24\"\n",
              "       width=\"24px\">\n",
              "    <path d=\"M0 0h24v24H0V0z\" fill=\"none\"/>\n",
              "    <path d=\"M18.56 5.44l.94 2.06.94-2.06 2.06-.94-2.06-.94-.94-2.06-.94 2.06-2.06.94zm-11 1L8.5 8.5l.94-2.06 2.06-.94-2.06-.94L8.5 2.5l-.94 2.06-2.06.94zm10 10l.94 2.06.94-2.06 2.06-.94-2.06-.94-.94-2.06-.94 2.06-2.06.94z\"/><path d=\"M17.41 7.96l-1.37-1.37c-.4-.4-.92-.59-1.43-.59-.52 0-1.04.2-1.43.59L10.3 9.45l-7.72 7.72c-.78.78-.78 2.05 0 2.83L4 21.41c.39.39.9.59 1.41.59.51 0 1.02-.2 1.41-.59l7.78-7.78 2.81-2.81c.8-.78.8-2.07 0-2.86zM5.41 20L4 18.59l7.72-7.72 1.47 1.35L5.41 20z\"/>\n",
              "  </svg>\n",
              "      </button>\n",
              "      \n",
              "  <style>\n",
              "    .colab-df-container {\n",
              "      display:flex;\n",
              "      flex-wrap:wrap;\n",
              "      gap: 12px;\n",
              "    }\n",
              "\n",
              "    .colab-df-convert {\n",
              "      background-color: #E8F0FE;\n",
              "      border: none;\n",
              "      border-radius: 50%;\n",
              "      cursor: pointer;\n",
              "      display: none;\n",
              "      fill: #1967D2;\n",
              "      height: 32px;\n",
              "      padding: 0 0 0 0;\n",
              "      width: 32px;\n",
              "    }\n",
              "\n",
              "    .colab-df-convert:hover {\n",
              "      background-color: #E2EBFA;\n",
              "      box-shadow: 0px 1px 2px rgba(60, 64, 67, 0.3), 0px 1px 3px 1px rgba(60, 64, 67, 0.15);\n",
              "      fill: #174EA6;\n",
              "    }\n",
              "\n",
              "    [theme=dark] .colab-df-convert {\n",
              "      background-color: #3B4455;\n",
              "      fill: #D2E3FC;\n",
              "    }\n",
              "\n",
              "    [theme=dark] .colab-df-convert:hover {\n",
              "      background-color: #434B5C;\n",
              "      box-shadow: 0px 1px 3px 1px rgba(0, 0, 0, 0.15);\n",
              "      filter: drop-shadow(0px 1px 2px rgba(0, 0, 0, 0.3));\n",
              "      fill: #FFFFFF;\n",
              "    }\n",
              "  </style>\n",
              "\n",
              "      <script>\n",
              "        const buttonEl =\n",
              "          document.querySelector('#df-60acf290-b97d-4593-8609-39422b2d38b1 button.colab-df-convert');\n",
              "        buttonEl.style.display =\n",
              "          google.colab.kernel.accessAllowed ? 'block' : 'none';\n",
              "\n",
              "        async function convertToInteractive(key) {\n",
              "          const element = document.querySelector('#df-60acf290-b97d-4593-8609-39422b2d38b1');\n",
              "          const dataTable =\n",
              "            await google.colab.kernel.invokeFunction('convertToInteractive',\n",
              "                                                     [key], {});\n",
              "          if (!dataTable) return;\n",
              "\n",
              "          const docLinkHtml = 'Like what you see? Visit the ' +\n",
              "            '<a target=\"_blank\" href=https://colab.research.google.com/notebooks/data_table.ipynb>data table notebook</a>'\n",
              "            + ' to learn more about interactive tables.';\n",
              "          element.innerHTML = '';\n",
              "          dataTable['output_type'] = 'display_data';\n",
              "          await google.colab.output.renderOutput(dataTable, element);\n",
              "          const docLink = document.createElement('div');\n",
              "          docLink.innerHTML = docLinkHtml;\n",
              "          element.appendChild(docLink);\n",
              "        }\n",
              "      </script>\n",
              "    </div>\n",
              "  </div>\n",
              "  "
            ]
          },
          "metadata": {},
          "execution_count": 1
        }
      ]
    },
    {
      "cell_type": "markdown",
      "source": [
        "Convierta el dataframe en un arreglo y divida las variables de entrada (8 atributos) de la salida. Imprima entradas (X) y salida (y)"
      ],
      "metadata": {
        "id": "lEmh4s8zne_-"
      }
    },
    {
      "cell_type": "code",
      "source": [
        "# Escriba aqui su código\n",
        "dataset = dataframe.values\n",
        "X = dataset[:, 0:8]\n",
        "y = dataset[:, 8]"
      ],
      "metadata": {
        "id": "Sftw38nEo3sb"
      },
      "execution_count": null,
      "outputs": []
    },
    {
      "cell_type": "markdown",
      "source": [
        "Haga doble clic <b>aquí</b> para ver la solución.\n",
        "\n",
        "<!-- Respuesta::\n",
        "\n",
        "dataset = dataframe.values\n",
        "X = dataset[:, :-1]\n",
        "y = dataset[:, -1]\n",
        "\n",
        "-->"
      ],
      "metadata": {
        "id": "f10Hbsz5ndVY"
      }
    },
    {
      "cell_type": "markdown",
      "source": [
        "Aplique Recursive Feature Elimination (RFE) para seleccionar características que construyan el mejor modelo (importe la clase RFE de sklearn), en conjunto con un clasificador por regresión logística para seleccionar las top-3 características."
      ],
      "metadata": {
        "id": "WoffY8zRqHww"
      }
    },
    {
      "cell_type": "code",
      "source": [
        "from sklearn.feature_selection import RFE\n",
        "from sklearn.linear_model import LogisticRegression\n",
        "\n",
        "model = LogisticRegression(solver='lbfgs')\n",
        "rfe = RFE(estimator=model, n_features_to_select=3)\n",
        "\n",
        "# Ajustar RFE\n",
        "rfe.fit(X, y)\n",
        "print(\"Num características: %s\" % (rfe.n_features_))\n",
        "\n",
        "# Resumen de características\n",
        "for i in range(X.shape[1]):\n",
        "  print('Column %d - %s: \\tseleccionada %s, Rank: %.3f' % (i, titulos[i], rfe.support_[i], rfe.ranking_[i]))\n"
      ],
      "metadata": {
        "id": "zLRtwmvWrUq4",
        "colab": {
          "base_uri": "https://localhost:8080/"
        },
        "outputId": "cb71bf99-bd0c-4795-9f30-358465541c5b"
      },
      "execution_count": null,
      "outputs": [
        {
          "output_type": "stream",
          "name": "stdout",
          "text": [
            "Num características: 3\n",
            "Column 0 - preg: \tseleccionada True, Rank: 1.000\n",
            "Column 1 - gluc: \tseleccionada False, Rank: 2.000\n",
            "Column 2 - bloodP: \tseleccionada False, Rank: 4.000\n",
            "Column 3 - skin: \tseleccionada False, Rank: 5.000\n",
            "Column 4 - insulin: \tseleccionada False, Rank: 6.000\n",
            "Column 5 - IMC: \tseleccionada True, Rank: 1.000\n",
            "Column 6 - pedi: \tseleccionada True, Rank: 1.000\n",
            "Column 7 - edad: \tseleccionada False, Rank: 3.000\n"
          ]
        },
        {
          "output_type": "stream",
          "name": "stderr",
          "text": [
            "/usr/local/lib/python3.10/dist-packages/sklearn/linear_model/_logistic.py:458: ConvergenceWarning: lbfgs failed to converge (status=1):\n",
            "STOP: TOTAL NO. of ITERATIONS REACHED LIMIT.\n",
            "\n",
            "Increase the number of iterations (max_iter) or scale the data as shown in:\n",
            "    https://scikit-learn.org/stable/modules/preprocessing.html\n",
            "Please also refer to the documentation for alternative solver options:\n",
            "    https://scikit-learn.org/stable/modules/linear_model.html#logistic-regression\n",
            "  n_iter_i = _check_optimize_result(\n"
          ]
        }
      ]
    },
    {
      "cell_type": "markdown",
      "source": [
        "# 2. Selección de parámetros con RFE\n",
        "Al configurar RFE se debe tener cuidado en definir el número de características que se desea seleccionar, así como el algorimo base que apoya la definición de cuan importante es una característica.\n",
        "\n",
        "##2.1. Número de características\n",
        "###2.1.1 Validar desempeño para diversos números de características\n",
        "Dado que no se conoce cual es el mejor número de características a elegir, es buena práctica probar con diferentes valores.\n",
        "\n",
        "En el siguiente ejemplo tomado de https://machinelearningmastery.com/rfe-feature-selection-in-python/, se utiliza la función make_classification() para generar un problema de clasificación aleatorio de 10 dimensiones. A partir de ese dataset, se configura el algoritmo de selección RFE para que pruebe la mejor selección del número de características y se evalúa el modelo usando k-fold cross-validation con 3 repeticiones y 10 subconjuntos (folds).\n",
        "\n",
        "Una breve explicación de k-fold cross-validation se encuentra en https://machinelearningmastery.com/k-fold-cross-validation/"
      ],
      "metadata": {
        "id": "8trBIOMn8Rqa"
      }
    },
    {
      "cell_type": "code",
      "source": [
        "# Importamos librerías que nos permitan generar el dataset, seleccionar las características y comparar con estadísticas las mejores opciones\n",
        "from numpy import mean\n",
        "from numpy import std\n",
        "from sklearn.datasets import make_classification\n",
        "from sklearn.model_selection import cross_val_score\n",
        "from sklearn.model_selection import RepeatedStratifiedKFold\n",
        "from sklearn.feature_selection import RFE\n",
        "from sklearn.tree import DecisionTreeClassifier\n",
        "from sklearn.pipeline import Pipeline\n",
        "from matplotlib import pyplot\n",
        "\n",
        "# Crea un problema de clasificación binaria aleatorio, con 1000 registros y 10 entradas (5 importantes y 5 redundantes)\n",
        "def Generar_dataset():\n",
        "\tX, y = make_classification(n_samples=1000, n_features=10, n_informative=5, n_redundant=5, random_state=1)\n",
        "\treturn X, y\n",
        "\n",
        "# Generar diversos modelos variando el número de características entre 2 y 10\n",
        "# La función Pipeline aplica secuencialmente una lista de transformadas (con fit-transform) y un estimador final\n",
        "def Generar_modelos():\n",
        "\tmodelos = dict()\n",
        "\tfor i in range(2, 10):\n",
        "\t\trfe = RFE(estimator=DecisionTreeClassifier(), n_features_to_select=i)\n",
        "\t\tmodelo = DecisionTreeClassifier()\n",
        "\t\tmodelos[str(i)] = Pipeline(steps=[('sel',rfe),('modelo',modelo)])\n",
        "\treturn modelos\n",
        "\n",
        "# Evaluar un modelo específico con k-fold cross-validation\n",
        "def Evaluar_modelo(model, X, y):\n",
        "\tcv = RepeatedStratifiedKFold(n_splits=10, n_repeats=3, random_state=1)\n",
        "\tpuntajes = cross_val_score(model, X, y, scoring='accuracy', cv=cv, n_jobs=-1, error_score='raise')\n",
        "\treturn puntajes\n",
        "\n",
        "# Ejecución del programa\n",
        "# Generar datasets y modelos\n",
        "X, y = Generar_dataset()\n",
        "modelos = Generar_modelos()\n",
        "# Evaluar los modelos y alamacenar los resultados\n",
        "resultados, nombres = list(), list()\n",
        "for nombre, modelo in modelos.items():\n",
        "\tpuntajes = Evaluar_modelo(modelo, X, y)\n",
        "\tresultados.append(puntajes)\n",
        "\tnombres.append(nombre)\n",
        "\tprint('Con %s - Media: %.3f   Desv.std: %.3f' % (nombre, mean(puntajes), std(puntajes)))\n",
        "# Comparar gráficamente los desempeños de los modelos\n",
        "pyplot.boxplot(resultados, labels=nombres, showmeans=True)\n",
        "pyplot.show()"
      ],
      "metadata": {
        "id": "iwMk9frbJrMr",
        "colab": {
          "base_uri": "https://localhost:8080/",
          "height": 569
        },
        "outputId": "f9dc07dc-f287-450f-d3ee-e294e7109fa4"
      },
      "execution_count": null,
      "outputs": [
        {
          "output_type": "stream",
          "name": "stdout",
          "text": [
            "Con 2 - Media: 0.722   Desv.std: 0.043\n",
            "Con 3 - Media: 0.821   Desv.std: 0.035\n",
            "Con 4 - Media: 0.873   Desv.std: 0.038\n",
            "Con 5 - Media: 0.887   Desv.std: 0.032\n",
            "Con 6 - Media: 0.885   Desv.std: 0.028\n",
            "Con 7 - Media: 0.892   Desv.std: 0.029\n",
            "Con 8 - Media: 0.884   Desv.std: 0.030\n",
            "Con 9 - Media: 0.879   Desv.std: 0.028\n"
          ]
        },
        {
          "output_type": "display_data",
          "data": {
            "text/plain": [
              "<Figure size 640x480 with 1 Axes>"
            ],
            "image/png": "[encoded data removed]"
          },
          "metadata": {}
        }
      ]
    },
    {
      "cell_type": "markdown",
      "source": [
        "<B>¿Qué conclusiones puede obtener de los resultados?</B>\n",
        "\n"
      ],
      "metadata": {
        "id": "FtlSvm_JaAp-"
      }
    },
    {
      "cell_type": "markdown",
      "source": [
        "### 2.1.2 Seleccionar automáticamente el mejor número de características con RFE\n",
        "Después de hacer la validación cruzada, se puede seleccionar el número de características que genera la mejor media. Para hacerlo de forma automática se usa la clase RFECV especificando el número de características a validar y el tipo de validación cruzada.\n",
        "\n",
        "El nuevo código quedaría así:"
      ],
      "metadata": {
        "id": "DkmaoWaTaWDw"
      }
    },
    {
      "cell_type": "code",
      "source": [
        "# Librerías\n",
        "from numpy import mean\n",
        "from numpy import std\n",
        "from sklearn.datasets import make_classification\n",
        "from sklearn.model_selection import cross_val_score\n",
        "from sklearn.model_selection import RepeatedStratifiedKFold\n",
        "from sklearn.feature_selection import RFECV\n",
        "from sklearn.tree import DecisionTreeClassifier\n",
        "from sklearn.pipeline import Pipeline\n",
        "\n",
        "# Generar dataset\n",
        "X, y = make_classification(n_samples=1000, n_features=10, n_informative=5, n_redundant=5, random_state=1)\n",
        "\n",
        "# Pipeline con RFECV\n",
        "rfe = RFECV(estimator=DecisionTreeClassifier())\n",
        "modelo = DecisionTreeClassifier()\n",
        "pipeline = Pipeline(steps=[('s',rfe),('m',modelo)])\n",
        "\n",
        "# Evaluar el modelo con validación cruzada de 3 repeticiones, 10 folds\n",
        "cv = RepeatedStratifiedKFold(n_splits=10, n_repeats=3, random_state=1)\n",
        "puntuacion = cross_val_score(pipeline, X, y, scoring='accuracy', cv=cv, n_jobs=-1, error_score='raise')\n",
        "\n",
        "# Mostrar desempeño\n",
        "print('Exactitud: %.3f (%.3f)' % (mean(puntuacion), std(puntuacion)))\n",
        "\n",
        "# Mostrar características escogidas\n",
        "rfe.fit(X,y)\n",
        "for i in range(X.shape[1]):\n",
        "  print(\"Columna: %d, Seleccionada: %s, Rank: %.3f\" % (i, rfe.support_[i], rfe.ranking_[i]))"
      ],
      "metadata": {
        "id": "-z36W3bJhk9c",
        "colab": {
          "base_uri": "https://localhost:8080/"
        },
        "outputId": "0abe6e97-750f-4d0e-a275-d9fc2fbe846c"
      },
      "execution_count": null,
      "outputs": [
        {
          "output_type": "stream",
          "name": "stdout",
          "text": [
            "Exactitud: 0.889 (0.027)\n",
            "Columna: 0, Seleccionada: True, Rank: 1.000\n",
            "Columna: 1, Seleccionada: False, Rank: 2.000\n",
            "Columna: 2, Seleccionada: True, Rank: 1.000\n",
            "Columna: 3, Seleccionada: True, Rank: 1.000\n",
            "Columna: 4, Seleccionada: True, Rank: 1.000\n",
            "Columna: 5, Seleccionada: False, Rank: 3.000\n",
            "Columna: 6, Seleccionada: True, Rank: 1.000\n",
            "Columna: 7, Seleccionada: True, Rank: 1.000\n",
            "Columna: 8, Seleccionada: True, Rank: 1.000\n",
            "Columna: 9, Seleccionada: True, Rank: 1.000\n"
          ]
        }
      ]
    },
    {
      "cell_type": "markdown",
      "source": [
        "## 2.2 Explorar el desempeño de diversos algoritmos base\n",
        "RFE es independiente del algoritmo base que envuelve. Cada algoritmo interior selecciona características basado en diversos parámetros, lo que puede generar variaciones en el modelo final.\n",
        "\n",
        "Una buena práctica consiste en explorar y calificar los diferentes algoritmos buscando el que presente el mejor desempeño.\n"
      ],
      "metadata": {
        "id": "8aBRhWiQqUvX"
      }
    },
    {
      "cell_type": "code",
      "source": [
        "# Cargamos 5 algoritmos diferentes para compararlos\n",
        "from numpy import mean\n",
        "from numpy import std\n",
        "from sklearn.datasets import make_classification\n",
        "from sklearn.model_selection import cross_val_score\n",
        "from sklearn.model_selection import RepeatedStratifiedKFold\n",
        "from sklearn.feature_selection import RFE\n",
        "from sklearn.linear_model import LogisticRegression\n",
        "from sklearn.linear_model import Perceptron\n",
        "from sklearn.tree import DecisionTreeClassifier\n",
        "from sklearn.ensemble import RandomForestClassifier\n",
        "from sklearn.ensemble import GradientBoostingClassifier\n",
        "from sklearn.pipeline import Pipeline\n",
        "from matplotlib import pyplot\n",
        "\n",
        "# Generamos dataset\n",
        "def Generar_dataset():\n",
        "\tX, y = make_classification(n_samples=1000, n_features=10, n_informative=5, n_redundant=5, random_state=1)\n",
        "\treturn X, y\n",
        "\n",
        "# Generamos la lista de modelos a evaluar\n",
        "def Generar_modelos():\n",
        "\tmodelos = dict()\n",
        "\t# Regresión logística\n",
        "\trfe = RFE(estimator=LogisticRegression(), n_features_to_select=5)\n",
        "\tmodelo = DecisionTreeClassifier()\n",
        "\tmodelos['lr'] = Pipeline(steps=[('s',rfe),('m',modelo)])\n",
        "\t# Perceptron\n",
        "\trfe = RFE(estimator=Perceptron(), n_features_to_select=5)\n",
        "\tmodelo = DecisionTreeClassifier()\n",
        "\tmodelos['per'] = Pipeline(steps=[('s',rfe),('m',modelo)])\n",
        "\t# Arbol de decisión\n",
        "\trfe = RFE(estimator=DecisionTreeClassifier(), n_features_to_select=5)\n",
        "\tmodel = DecisionTreeClassifier()\n",
        "\tmodelos['arbol'] = Pipeline(steps=[('s',rfe),('m',modelo)])\n",
        "\t# Random Forest\n",
        "\trfe = RFE(estimator=RandomForestClassifier(), n_features_to_select=5)\n",
        "\tmodelo = DecisionTreeClassifier()\n",
        "\tmodelos['rf'] = Pipeline(steps=[('s',rfe),('m',modelo)])\n",
        "\t# Gradient Boosting\n",
        "\trfe = RFE(estimator=GradientBoostingClassifier(), n_features_to_select=5)\n",
        "\tmodelo = DecisionTreeClassifier()\n",
        "\tmodelos['gbm'] = Pipeline(steps=[('s',rfe),('m',modelo)])\n",
        "\treturn modelos\n",
        "\n",
        "# Evaluar un modelo dado con validación cruzada\n",
        "def Evaluar_modelo(modelo, X, y):\n",
        "\tcv = RepeatedStratifiedKFold(n_splits=10, n_repeats=3, random_state=1)\n",
        "\tpuntajes = cross_val_score(modelo, X, y, scoring='accuracy', cv=cv, n_jobs=-1)\n",
        "\treturn puntajes\n",
        "\n",
        "# Ejecución del programa.\n",
        "# Generar dataset y modelos\n",
        "X, y = Generar_dataset()\n",
        "modelos = Generar_modelos()\n",
        "\n",
        "# Evaluar modelos y almacenar resultados\n",
        "resultados, nombres = list(), list()\n",
        "for nombre, modelo in modelos.items():\n",
        "  puntajes = Evaluar_modelo(modelo, X, y)\n",
        "  resultados.append(puntajes)\n",
        "  nombres.append(nombre)\n",
        "  print('Con %s:  \\tMedia: %.3f   Desv.std: %.3f' % (nombre, mean(puntajes), std(puntajes)))\n",
        "\n",
        "# Comparar gráficamente los desempeños de los modelos\n",
        "pyplot.boxplot(resultados, labels=nombres, showmeans=True)\n",
        "print()\n",
        "pyplot.show()"
      ],
      "metadata": {
        "id": "dL4bq_yCrh9k",
        "colab": {
          "base_uri": "https://localhost:8080/",
          "height": 534
        },
        "outputId": "46d874fa-1b90-469b-9e85-0e041fc081fb"
      },
      "execution_count": null,
      "outputs": [
        {
          "output_type": "stream",
          "name": "stdout",
          "text": [
            "Con lr:  \tMedia: 0.885   Desv.std: 0.032\n",
            "Con per:  \tMedia: 0.849   Desv.std: 0.038\n",
            "Con arbol:  \tMedia: 0.890   Desv.std: 0.029\n",
            "Con rf:  \tMedia: 0.854   Desv.std: 0.037\n",
            "Con gbm:  \tMedia: 0.886   Desv.std: 0.031\n",
            "\n"
          ]
        },
        {
          "output_type": "display_data",
          "data": {
            "text/plain": [
              "<Figure size 640x480 with 1 Axes>"
            ],
            "image/png": "[encoded data removed]"
          },
          "metadata": {}
        }
      ]
    },
    {
      "cell_type": "markdown",
      "source": [
        "<B>¿Qué conclusiones puede obtener de los resultados?\n",
        "\n",
        "¿Cómo podemos observar que variables fueron escogidas en cada caso y hacer una selección aleatoria del número de variables?</B>"
      ],
      "metadata": {
        "id": "dZGBj2dJv-Ce"
      }
    }
  ]
}